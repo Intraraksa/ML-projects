{
  "nbformat": 4,
  "nbformat_minor": 0,
  "metadata": {
    "colab": {
      "name": "TFOD.ipynb",
      "provenance": [],
      "collapsed_sections": [],
      "include_colab_link": true
    },
    "kernelspec": {
      "name": "python3",
      "display_name": "Python 3"
    },
    "language_info": {
      "name": "python"
    },
    "accelerator": "GPU"
  },
  "cells": [
    {
      "cell_type": "markdown",
      "metadata": {
        "id": "view-in-github",
        "colab_type": "text"
      },
      "source": [
        "<a href=\"https://colab.research.google.com/github/Intraraksa/ML-projects/blob/main/Project/Object_detection/TFOD.ipynb\" target=\"_parent\"><img src=\"https://colab.research.google.com/assets/colab-badge.svg\" alt=\"Open In Colab\"/></a>"
      ]
    },
    {
      "cell_type": "markdown",
      "metadata": {
        "id": "fmduyXxnGQlZ"
      },
      "source": [
        "# Cutom Object detection"
      ]
    },
    {
      "cell_type": "markdown",
      "metadata": {
        "id": "boVo6rraGau0"
      },
      "source": [
        "## Installation\n",
        "Installation Tensorflow object detection model refernece the following step to [Tensorflow object detection document](https://tensorflow-object-detection-api-tutorial.readthedocs.io/en/latest/install.html). The colab notebook base on linux terminal."
      ]
    },
    {
      "cell_type": "code",
      "metadata": {
        "id": "Rxkk-X09n8d_",
        "colab": {
          "base_uri": "https://localhost:8080/"
        },
        "outputId": "f0b9f422-e884-476f-fd4d-896479af4f5a"
      },
      "source": [
        "!pip install tensorflow-gpu 2"
      ],
      "execution_count": null,
      "outputs": [
        {
          "output_type": "stream",
          "name": "stdout",
          "text": [
            "Collecting tensorflow-gpu\n",
            "  Downloading tensorflow_gpu-2.6.0-cp37-cp37m-manylinux2010_x86_64.whl (458.3 MB)\n",
            "\u001b[K     |████████████████████████████████| 458.3 MB 12 kB/s \n",
            "\u001b[31mERROR: Could not find a version that satisfies the requirement 2 (from versions: none)\u001b[0m\n",
            "\u001b[31mERROR: No matching distribution found for 2\u001b[0m\n",
            "\u001b[?25h"
          ]
        }
      ]
    },
    {
      "cell_type": "code",
      "metadata": {
        "colab": {
          "base_uri": "https://localhost:8080/"
        },
        "id": "GnNSOi-ZoRI8",
        "outputId": "c7acf4d9-cc61-431e-9e2d-82f83d8f01fe"
      },
      "source": [
        "import tensorflow as tf\n",
        "print(tf.__version__)"
      ],
      "execution_count": null,
      "outputs": [
        {
          "output_type": "stream",
          "name": "stdout",
          "text": [
            "2.6.0\n"
          ]
        }
      ]
    },
    {
      "cell_type": "code",
      "metadata": {
        "colab": {
          "base_uri": "https://localhost:8080/"
        },
        "id": "WCDUOzvKop7r",
        "outputId": "9429b01b-d8de-45d2-889c-4898d08e53aa"
      },
      "source": [
        "!git clone https://github.com/tensorflow/models.git"
      ],
      "execution_count": null,
      "outputs": [
        {
          "output_type": "stream",
          "name": "stdout",
          "text": [
            "Cloning into 'models'...\n",
            "remote: Enumerating objects: 65305, done.\u001b[K\n",
            "remote: Total 65305 (delta 0), reused 0 (delta 0), pack-reused 65305\u001b[K\n",
            "Receiving objects: 100% (65305/65305), 575.49 MiB | 15.91 MiB/s, done.\n",
            "Resolving deltas: 100% (45700/45700), done.\n"
          ]
        }
      ]
    },
    {
      "cell_type": "code",
      "metadata": {
        "colab": {
          "base_uri": "https://localhost:8080/",
          "height": 35
        },
        "id": "eFiAXI5y2jr_",
        "outputId": "b11213ba-568b-4daf-ed10-5388f762f956"
      },
      "source": [
        "pwd"
      ],
      "execution_count": null,
      "outputs": [
        {
          "output_type": "execute_result",
          "data": {
            "application/vnd.google.colaboratory.intrinsic+json": {
              "type": "string"
            },
            "text/plain": [
              "'/content'"
            ]
          },
          "metadata": {},
          "execution_count": 4
        }
      ]
    },
    {
      "cell_type": "code",
      "metadata": {
        "colab": {
          "base_uri": "https://localhost:8080/"
        },
        "id": "Xs4cW6TY5rgR",
        "outputId": "00792bf1-17a0-4e4a-c00c-9527b718dabd"
      },
      "source": [
        "cd /content/models/research"
      ],
      "execution_count": null,
      "outputs": [
        {
          "output_type": "stream",
          "name": "stdout",
          "text": [
            "/content/models/research\n"
          ]
        }
      ]
    },
    {
      "cell_type": "code",
      "metadata": {
        "colab": {
          "base_uri": "https://localhost:8080/",
          "height": 35
        },
        "id": "IMEVdoMg6Db0",
        "outputId": "c2161900-3eab-4122-9381-8d54fba429df"
      },
      "source": [
        "pwd"
      ],
      "execution_count": null,
      "outputs": [
        {
          "output_type": "execute_result",
          "data": {
            "application/vnd.google.colaboratory.intrinsic+json": {
              "type": "string"
            },
            "text/plain": [
              "'/content/models/research'"
            ]
          },
          "metadata": {},
          "execution_count": 6
        }
      ]
    },
    {
      "cell_type": "code",
      "metadata": {
        "id": "5dIzjxni6FXh"
      },
      "source": [
        "!protoc object_detection/protos/*.proto --python_out=."
      ],
      "execution_count": null,
      "outputs": []
    },
    {
      "cell_type": "code",
      "metadata": {
        "colab": {
          "base_uri": "https://localhost:8080/"
        },
        "id": "7WdmiPlJ6Urq",
        "outputId": "1b5994b7-c530-4591-e015-7775ad67c7b6"
      },
      "source": [
        "!git clone https://github.com/cocodataset/cocoapi.git"
      ],
      "execution_count": null,
      "outputs": [
        {
          "output_type": "stream",
          "name": "stdout",
          "text": [
            "Cloning into 'cocoapi'...\n",
            "remote: Enumerating objects: 975, done.\u001b[K\n",
            "remote: Total 975 (delta 0), reused 0 (delta 0), pack-reused 975\u001b[K\n",
            "Receiving objects: 100% (975/975), 11.72 MiB | 49.00 KiB/s, done.\n",
            "Resolving deltas: 100% (576/576), done.\n"
          ]
        }
      ]
    },
    {
      "cell_type": "code",
      "metadata": {
        "colab": {
          "base_uri": "https://localhost:8080/"
        },
        "id": "5GVSi3gw7b2J",
        "outputId": "63288ae4-0128-41bb-d437-eec2e3f4a723"
      },
      "source": [
        "cd cocoapi/PythonAPI"
      ],
      "execution_count": null,
      "outputs": [
        {
          "output_type": "stream",
          "name": "stdout",
          "text": [
            "/content/models/research/cocoapi/PythonAPI\n"
          ]
        }
      ]
    },
    {
      "cell_type": "code",
      "metadata": {
        "colab": {
          "base_uri": "https://localhost:8080/"
        },
        "id": "QlmdWvDc7liQ",
        "outputId": "fd6ee0fd-1f6d-45e5-e745-5d07d4824e1d"
      },
      "source": [
        "!make"
      ],
      "execution_count": null,
      "outputs": [
        {
          "output_type": "stream",
          "name": "stdout",
          "text": [
            "python setup.py build_ext --inplace\n",
            "running build_ext\n",
            "cythoning pycocotools/_mask.pyx to pycocotools/_mask.c\n",
            "/usr/local/lib/python3.7/dist-packages/Cython/Compiler/Main.py:369: FutureWarning: Cython directive 'language_level' not set, using 2 for now (Py2). This will change in a later release! File: /content/models/research/cocoapi/PythonAPI/pycocotools/_mask.pyx\n",
            "  tree = Parsing.p_module(s, pxd, full_module_name)\n",
            "building 'pycocotools._mask' extension\n",
            "creating build\n",
            "creating build/common\n",
            "creating build/temp.linux-x86_64-3.7\n",
            "creating build/temp.linux-x86_64-3.7/pycocotools\n",
            "x86_64-linux-gnu-gcc -pthread -Wno-unused-result -Wsign-compare -DNDEBUG -g -fwrapv -O2 -Wall -g -fdebug-prefix-map=/build/python3.7-Y7dWVB/python3.7-3.7.12=. -fstack-protector-strong -Wformat -Werror=format-security -g -fdebug-prefix-map=/build/python3.7-Y7dWVB/python3.7-3.7.12=. -fstack-protector-strong -Wformat -Werror=format-security -Wdate-time -D_FORTIFY_SOURCE=2 -fPIC -I/usr/local/lib/python3.7/dist-packages/numpy/core/include -I../common -I/usr/include/python3.7m -c ../common/maskApi.c -o build/temp.linux-x86_64-3.7/../common/maskApi.o -Wno-cpp -Wno-unused-function -std=c99\n",
            "\u001b[01m\u001b[K../common/maskApi.c:\u001b[m\u001b[K In function ‘\u001b[01m\u001b[KrleDecode\u001b[m\u001b[K’:\n",
            "\u001b[01m\u001b[K../common/maskApi.c:46:7:\u001b[m\u001b[K \u001b[01;35m\u001b[Kwarning: \u001b[m\u001b[Kthis ‘\u001b[01m\u001b[Kfor\u001b[m\u001b[K’ clause does not guard... [\u001b[01;35m\u001b[K-Wmisleading-indentation\u001b[m\u001b[K]\n",
            "       \u001b[01;35m\u001b[Kfor\u001b[m\u001b[K( k=0; k<R[i].cnts[j]; k++ ) *(M++)=v; v=!v; }}\n",
            "       \u001b[01;35m\u001b[K^~~\u001b[m\u001b[K\n",
            "\u001b[01m\u001b[K../common/maskApi.c:46:49:\u001b[m\u001b[K \u001b[01;36m\u001b[Knote: \u001b[m\u001b[K...this statement, but the latter is misleadingly indented as if it were guarded by the ‘\u001b[01m\u001b[Kfor\u001b[m\u001b[K’\n",
            "       for( k=0; k<R[i].cnts[j]; k++ ) *(M++)=v; \u001b[01;36m\u001b[Kv\u001b[m\u001b[K=!v; }}\n",
            "                                                 \u001b[01;36m\u001b[K^\u001b[m\u001b[K\n",
            "\u001b[01m\u001b[K../common/maskApi.c:\u001b[m\u001b[K In function ‘\u001b[01m\u001b[KrleFrPoly\u001b[m\u001b[K’:\n",
            "\u001b[01m\u001b[K../common/maskApi.c:166:3:\u001b[m\u001b[K \u001b[01;35m\u001b[Kwarning: \u001b[m\u001b[Kthis ‘\u001b[01m\u001b[Kfor\u001b[m\u001b[K’ clause does not guard... [\u001b[01;35m\u001b[K-Wmisleading-indentation\u001b[m\u001b[K]\n",
            "   \u001b[01;35m\u001b[Kfor\u001b[m\u001b[K(j=0; j<k; j++) x[j]=(int)(scale*xy[j*2+0]+.5); x[k]=x[0];\n",
            "   \u001b[01;35m\u001b[K^~~\u001b[m\u001b[K\n",
            "\u001b[01m\u001b[K../common/maskApi.c:166:54:\u001b[m\u001b[K \u001b[01;36m\u001b[Knote: \u001b[m\u001b[K...this statement, but the latter is misleadingly indented as if it were guarded by the ‘\u001b[01m\u001b[Kfor\u001b[m\u001b[K’\n",
            "   for(j=0; j<k; j++) x[j]=(int)(scale*xy[j*2+0]+.5); \u001b[01;36m\u001b[Kx\u001b[m\u001b[K[k]=x[0];\n",
            "                                                      \u001b[01;36m\u001b[K^\u001b[m\u001b[K\n",
            "\u001b[01m\u001b[K../common/maskApi.c:167:3:\u001b[m\u001b[K \u001b[01;35m\u001b[Kwarning: \u001b[m\u001b[Kthis ‘\u001b[01m\u001b[Kfor\u001b[m\u001b[K’ clause does not guard... [\u001b[01;35m\u001b[K-Wmisleading-indentation\u001b[m\u001b[K]\n",
            "   \u001b[01;35m\u001b[Kfor\u001b[m\u001b[K(j=0; j<k; j++) y[j]=(int)(scale*xy[j*2+1]+.5); y[k]=y[0];\n",
            "   \u001b[01;35m\u001b[K^~~\u001b[m\u001b[K\n",
            "\u001b[01m\u001b[K../common/maskApi.c:167:54:\u001b[m\u001b[K \u001b[01;36m\u001b[Knote: \u001b[m\u001b[K...this statement, but the latter is misleadingly indented as if it were guarded by the ‘\u001b[01m\u001b[Kfor\u001b[m\u001b[K’\n",
            "   for(j=0; j<k; j++) y[j]=(int)(scale*xy[j*2+1]+.5); \u001b[01;36m\u001b[Ky\u001b[m\u001b[K[k]=y[0];\n",
            "                                                      \u001b[01;36m\u001b[K^\u001b[m\u001b[K\n",
            "\u001b[01m\u001b[K../common/maskApi.c:\u001b[m\u001b[K In function ‘\u001b[01m\u001b[KrleToString\u001b[m\u001b[K’:\n",
            "\u001b[01m\u001b[K../common/maskApi.c:212:7:\u001b[m\u001b[K \u001b[01;35m\u001b[Kwarning: \u001b[m\u001b[Kthis ‘\u001b[01m\u001b[Kif\u001b[m\u001b[K’ clause does not guard... [\u001b[01;35m\u001b[K-Wmisleading-indentation\u001b[m\u001b[K]\n",
            "       \u001b[01;35m\u001b[Kif\u001b[m\u001b[K(more) c |= 0x20; c+=48; s[p++]=c;\n",
            "       \u001b[01;35m\u001b[K^~\u001b[m\u001b[K\n",
            "\u001b[01m\u001b[K../common/maskApi.c:212:27:\u001b[m\u001b[K \u001b[01;36m\u001b[Knote: \u001b[m\u001b[K...this statement, but the latter is misleadingly indented as if it were guarded by the ‘\u001b[01m\u001b[Kif\u001b[m\u001b[K’\n",
            "       if(more) c |= 0x20; \u001b[01;36m\u001b[Kc\u001b[m\u001b[K+=48; s[p++]=c;\n",
            "                           \u001b[01;36m\u001b[K^\u001b[m\u001b[K\n",
            "\u001b[01m\u001b[K../common/maskApi.c:\u001b[m\u001b[K In function ‘\u001b[01m\u001b[KrleFrString\u001b[m\u001b[K’:\n",
            "\u001b[01m\u001b[K../common/maskApi.c:220:3:\u001b[m\u001b[K \u001b[01;35m\u001b[Kwarning: \u001b[m\u001b[Kthis ‘\u001b[01m\u001b[Kwhile\u001b[m\u001b[K’ clause does not guard... [\u001b[01;35m\u001b[K-Wmisleading-indentation\u001b[m\u001b[K]\n",
            "   \u001b[01;35m\u001b[Kwhile\u001b[m\u001b[K( s[m] ) m++; cnts=malloc(sizeof(uint)*m); m=0;\n",
            "   \u001b[01;35m\u001b[K^~~~~\u001b[m\u001b[K\n",
            "\u001b[01m\u001b[K../common/maskApi.c:220:22:\u001b[m\u001b[K \u001b[01;36m\u001b[Knote: \u001b[m\u001b[K...this statement, but the latter is misleadingly indented as if it were guarded by the ‘\u001b[01m\u001b[Kwhile\u001b[m\u001b[K’\n",
            "   while( s[m] ) m++; \u001b[01;36m\u001b[Kcnts\u001b[m\u001b[K=malloc(sizeof(uint)*m); m=0;\n",
            "                      \u001b[01;36m\u001b[K^~~~\u001b[m\u001b[K\n",
            "\u001b[01m\u001b[K../common/maskApi.c:228:5:\u001b[m\u001b[K \u001b[01;35m\u001b[Kwarning: \u001b[m\u001b[Kthis ‘\u001b[01m\u001b[Kif\u001b[m\u001b[K’ clause does not guard... [\u001b[01;35m\u001b[K-Wmisleading-indentation\u001b[m\u001b[K]\n",
            "     \u001b[01;35m\u001b[Kif\u001b[m\u001b[K(m>2) x+=(long) cnts[m-2]; cnts[m++]=(uint) x;\n",
            "     \u001b[01;35m\u001b[K^~\u001b[m\u001b[K\n",
            "\u001b[01m\u001b[K../common/maskApi.c:228:34:\u001b[m\u001b[K \u001b[01;36m\u001b[Knote: \u001b[m\u001b[K...this statement, but the latter is misleadingly indented as if it were guarded by the ‘\u001b[01m\u001b[Kif\u001b[m\u001b[K’\n",
            "     if(m>2) x+=(long) cnts[m-2]; \u001b[01;36m\u001b[Kcnts\u001b[m\u001b[K[m++]=(uint) x;\n",
            "                                  \u001b[01;36m\u001b[K^~~~\u001b[m\u001b[K\n",
            "\u001b[01m\u001b[K../common/maskApi.c:\u001b[m\u001b[K In function ‘\u001b[01m\u001b[KrleToBbox\u001b[m\u001b[K’:\n",
            "\u001b[01m\u001b[K../common/maskApi.c:141:31:\u001b[m\u001b[K \u001b[01;35m\u001b[Kwarning: \u001b[m\u001b[K‘\u001b[01m\u001b[Kxp\u001b[m\u001b[K’ may be used uninitialized in this function [\u001b[01;35m\u001b[K-Wmaybe-uninitialized\u001b[m\u001b[K]\n",
            "       if(j%2==0) xp=x; else if\u001b[01;35m\u001b[K(\u001b[m\u001b[Kxp<x) { ys=0; ye=h-1; }\n",
            "                               \u001b[01;35m\u001b[K^\u001b[m\u001b[K\n",
            "x86_64-linux-gnu-gcc -pthread -Wno-unused-result -Wsign-compare -DNDEBUG -g -fwrapv -O2 -Wall -g -fdebug-prefix-map=/build/python3.7-Y7dWVB/python3.7-3.7.12=. -fstack-protector-strong -Wformat -Werror=format-security -g -fdebug-prefix-map=/build/python3.7-Y7dWVB/python3.7-3.7.12=. -fstack-protector-strong -Wformat -Werror=format-security -Wdate-time -D_FORTIFY_SOURCE=2 -fPIC -I/usr/local/lib/python3.7/dist-packages/numpy/core/include -I../common -I/usr/include/python3.7m -c pycocotools/_mask.c -o build/temp.linux-x86_64-3.7/pycocotools/_mask.o -Wno-cpp -Wno-unused-function -std=c99\n",
            "creating build/lib.linux-x86_64-3.7\n",
            "creating build/lib.linux-x86_64-3.7/pycocotools\n",
            "x86_64-linux-gnu-gcc -pthread -shared -Wl,-O1 -Wl,-Bsymbolic-functions -Wl,-Bsymbolic-functions -Wl,-z,relro -Wl,-Bsymbolic-functions -Wl,-z,relro -g -fdebug-prefix-map=/build/python3.7-Y7dWVB/python3.7-3.7.12=. -fstack-protector-strong -Wformat -Werror=format-security -Wdate-time -D_FORTIFY_SOURCE=2 build/temp.linux-x86_64-3.7/../common/maskApi.o build/temp.linux-x86_64-3.7/pycocotools/_mask.o -o build/lib.linux-x86_64-3.7/pycocotools/_mask.cpython-37m-x86_64-linux-gnu.so\n",
            "copying build/lib.linux-x86_64-3.7/pycocotools/_mask.cpython-37m-x86_64-linux-gnu.so -> pycocotools\n",
            "rm -rf build\n"
          ]
        }
      ]
    },
    {
      "cell_type": "code",
      "metadata": {
        "id": "yY_rBqy37rfg"
      },
      "source": [
        "!cp -r pycocotools /content/models/research"
      ],
      "execution_count": null,
      "outputs": []
    },
    {
      "cell_type": "markdown",
      "metadata": {
        "id": "0tg7iUi28E_o"
      },
      "source": [
        "Installation object detection api"
      ]
    },
    {
      "cell_type": "code",
      "metadata": {
        "colab": {
          "base_uri": "https://localhost:8080/"
        },
        "id": "0MSBgVsL756c",
        "outputId": "5fbf2000-1615-475f-bd1b-62868cd7d5a8"
      },
      "source": [
        "cd /content/models/research"
      ],
      "execution_count": null,
      "outputs": [
        {
          "output_type": "stream",
          "name": "stdout",
          "text": [
            "/content/models/research\n"
          ]
        }
      ]
    },
    {
      "cell_type": "code",
      "metadata": {
        "id": "-r-YZ8fR8TV_"
      },
      "source": [
        "cp object_detection/packages/tf2/setup.py ."
      ],
      "execution_count": null,
      "outputs": []
    },
    {
      "cell_type": "code",
      "metadata": {
        "colab": {
          "base_uri": "https://localhost:8080/"
        },
        "id": "W0uZafds8jl6",
        "outputId": "82423337-09b2-49eb-b704-cac061e9d671"
      },
      "source": [
        "!python -m pip install --use-feature=2020-resolver ."
      ],
      "execution_count": null,
      "outputs": [
        {
          "output_type": "stream",
          "name": "stdout",
          "text": [
            "\u001b[33mWARNING: --use-feature=2020-resolver no longer has any effect, since it is now the default dependency resolver in pip. This will become an error in pip 21.0.\u001b[0m\n",
            "Processing /content/models/research\n",
            "\u001b[33m  DEPRECATION: A future pip version will change local packages to be built in-place without first copying to a temporary directory. We recommend you use --use-feature=in-tree-build to test your packages with this new behavior before it becomes the default.\n",
            "   pip 21.3 will remove support for this functionality. You can find discussion regarding this at https://github.com/pypa/pip/issues/7555.\u001b[0m\n",
            "Collecting avro-python3\n",
            "  Downloading avro-python3-1.10.2.tar.gz (38 kB)\n",
            "Collecting apache-beam\n",
            "  Downloading apache_beam-2.33.0-cp37-cp37m-manylinux2010_x86_64.whl (9.8 MB)\n",
            "\u001b[K     |████████████████████████████████| 9.8 MB 5.8 MB/s \n",
            "\u001b[?25hRequirement already satisfied: pillow in /usr/local/lib/python3.7/dist-packages (from object-detection==0.1) (7.1.2)\n",
            "Requirement already satisfied: lxml in /usr/local/lib/python3.7/dist-packages (from object-detection==0.1) (4.2.6)\n",
            "Requirement already satisfied: matplotlib in /usr/local/lib/python3.7/dist-packages (from object-detection==0.1) (3.2.2)\n",
            "Requirement already satisfied: Cython in /usr/local/lib/python3.7/dist-packages (from object-detection==0.1) (0.29.24)\n",
            "Requirement already satisfied: contextlib2 in /usr/local/lib/python3.7/dist-packages (from object-detection==0.1) (0.5.5)\n",
            "Collecting tf-slim\n",
            "  Downloading tf_slim-1.1.0-py2.py3-none-any.whl (352 kB)\n",
            "\u001b[K     |████████████████████████████████| 352 kB 39.2 MB/s \n",
            "\u001b[?25hRequirement already satisfied: six in /usr/local/lib/python3.7/dist-packages (from object-detection==0.1) (1.15.0)\n",
            "Requirement already satisfied: pycocotools in /usr/local/lib/python3.7/dist-packages (from object-detection==0.1) (2.0.2)\n",
            "Collecting lvis\n",
            "  Downloading lvis-0.5.3-py3-none-any.whl (14 kB)\n",
            "Requirement already satisfied: scipy in /usr/local/lib/python3.7/dist-packages (from object-detection==0.1) (1.4.1)\n",
            "Requirement already satisfied: pandas in /usr/local/lib/python3.7/dist-packages (from object-detection==0.1) (1.1.5)\n",
            "Collecting tf-models-official>=2.5.1\n",
            "  Downloading tf_models_official-2.6.0-py2.py3-none-any.whl (1.8 MB)\n",
            "\u001b[K     |████████████████████████████████| 1.8 MB 38.0 MB/s \n",
            "\u001b[?25hRequirement already satisfied: oauth2client in /usr/local/lib/python3.7/dist-packages (from tf-models-official>=2.5.1->object-detection==0.1) (4.1.3)\n",
            "Requirement already satisfied: kaggle>=1.3.9 in /usr/local/lib/python3.7/dist-packages (from tf-models-official>=2.5.1->object-detection==0.1) (1.5.12)\n",
            "Collecting tensorflow-addons\n",
            "  Downloading tensorflow_addons-0.14.0-cp37-cp37m-manylinux_2_12_x86_64.manylinux2010_x86_64.whl (1.1 MB)\n",
            "\u001b[K     |████████████████████████████████| 1.1 MB 42.4 MB/s \n",
            "\u001b[?25hCollecting tensorflow-text>=2.5.0\n",
            "  Downloading tensorflow_text-2.6.0-cp37-cp37m-manylinux1_x86_64.whl (4.4 MB)\n",
            "\u001b[K     |████████████████████████████████| 4.4 MB 40.0 MB/s \n",
            "\u001b[?25hCollecting sentencepiece\n",
            "  Downloading sentencepiece-0.1.96-cp37-cp37m-manylinux_2_17_x86_64.manylinux2014_x86_64.whl (1.2 MB)\n",
            "\u001b[K     |████████████████████████████████| 1.2 MB 36.9 MB/s \n",
            "\u001b[?25hCollecting py-cpuinfo>=3.3.0\n",
            "  Downloading py-cpuinfo-8.0.0.tar.gz (99 kB)\n",
            "\u001b[K     |████████████████████████████████| 99 kB 10.0 MB/s \n",
            "\u001b[?25hCollecting seqeval\n",
            "  Downloading seqeval-1.2.2.tar.gz (43 kB)\n",
            "\u001b[K     |████████████████████████████████| 43 kB 1.8 MB/s \n",
            "\u001b[?25hRequirement already satisfied: tensorflow-datasets in /usr/local/lib/python3.7/dist-packages (from tf-models-official>=2.5.1->object-detection==0.1) (4.0.1)\n",
            "Requirement already satisfied: psutil>=5.4.3 in /usr/local/lib/python3.7/dist-packages (from tf-models-official>=2.5.1->object-detection==0.1) (5.4.8)\n",
            "Collecting pyyaml>=5.1\n",
            "  Downloading PyYAML-6.0-cp37-cp37m-manylinux_2_5_x86_64.manylinux1_x86_64.manylinux_2_12_x86_64.manylinux2010_x86_64.whl (596 kB)\n",
            "\u001b[K     |████████████████████████████████| 596 kB 37.2 MB/s \n",
            "\u001b[?25hCollecting sacrebleu\n",
            "  Downloading sacrebleu-2.0.0-py3-none-any.whl (90 kB)\n",
            "\u001b[K     |████████████████████████████████| 90 kB 9.4 MB/s \n",
            "\u001b[?25hRequirement already satisfied: gin-config in /usr/local/lib/python3.7/dist-packages (from tf-models-official>=2.5.1->object-detection==0.1) (0.4.0)\n",
            "Collecting opencv-python-headless\n",
            "  Downloading opencv_python_headless-4.5.4.58-cp37-cp37m-manylinux2014_x86_64.whl (47.6 MB)\n",
            "\u001b[K     |████████████████████████████████| 47.6 MB 32 kB/s \n",
            "\u001b[?25hRequirement already satisfied: tensorflow>=2.5.0 in /usr/local/lib/python3.7/dist-packages (from tf-models-official>=2.5.1->object-detection==0.1) (2.6.0)\n",
            "Requirement already satisfied: google-api-python-client>=1.6.7 in /usr/local/lib/python3.7/dist-packages (from tf-models-official>=2.5.1->object-detection==0.1) (1.12.8)\n",
            "Requirement already satisfied: numpy>=1.15.4 in /usr/local/lib/python3.7/dist-packages (from tf-models-official>=2.5.1->object-detection==0.1) (1.19.5)\n",
            "Collecting tensorflow-model-optimization>=0.4.1\n",
            "  Downloading tensorflow_model_optimization-0.7.0-py2.py3-none-any.whl (213 kB)\n",
            "\u001b[K     |████████████████████████████████| 213 kB 52.5 MB/s \n",
            "\u001b[?25hRequirement already satisfied: tensorflow-hub>=0.6.0 in /usr/local/lib/python3.7/dist-packages (from tf-models-official>=2.5.1->object-detection==0.1) (0.12.0)\n",
            "Requirement already satisfied: uritemplate<4dev,>=3.0.0 in /usr/local/lib/python3.7/dist-packages (from google-api-python-client>=1.6.7->tf-models-official>=2.5.1->object-detection==0.1) (3.0.1)\n",
            "Requirement already satisfied: google-auth-httplib2>=0.0.3 in /usr/local/lib/python3.7/dist-packages (from google-api-python-client>=1.6.7->tf-models-official>=2.5.1->object-detection==0.1) (0.0.4)\n",
            "Requirement already satisfied: httplib2<1dev,>=0.15.0 in /usr/local/lib/python3.7/dist-packages (from google-api-python-client>=1.6.7->tf-models-official>=2.5.1->object-detection==0.1) (0.17.4)\n",
            "Requirement already satisfied: google-auth>=1.16.0 in /usr/local/lib/python3.7/dist-packages (from google-api-python-client>=1.6.7->tf-models-official>=2.5.1->object-detection==0.1) (1.35.0)\n",
            "Requirement already satisfied: google-api-core<2dev,>=1.21.0 in /usr/local/lib/python3.7/dist-packages (from google-api-python-client>=1.6.7->tf-models-official>=2.5.1->object-detection==0.1) (1.26.3)\n",
            "Requirement already satisfied: googleapis-common-protos<2.0dev,>=1.6.0 in /usr/local/lib/python3.7/dist-packages (from google-api-core<2dev,>=1.21.0->google-api-python-client>=1.6.7->tf-models-official>=2.5.1->object-detection==0.1) (1.53.0)\n",
            "Requirement already satisfied: packaging>=14.3 in /usr/local/lib/python3.7/dist-packages (from google-api-core<2dev,>=1.21.0->google-api-python-client>=1.6.7->tf-models-official>=2.5.1->object-detection==0.1) (21.0)\n",
            "Requirement already satisfied: pytz in /usr/local/lib/python3.7/dist-packages (from google-api-core<2dev,>=1.21.0->google-api-python-client>=1.6.7->tf-models-official>=2.5.1->object-detection==0.1) (2018.9)\n",
            "Requirement already satisfied: setuptools>=40.3.0 in /usr/local/lib/python3.7/dist-packages (from google-api-core<2dev,>=1.21.0->google-api-python-client>=1.6.7->tf-models-official>=2.5.1->object-detection==0.1) (57.4.0)\n",
            "Requirement already satisfied: protobuf>=3.12.0 in /usr/local/lib/python3.7/dist-packages (from google-api-core<2dev,>=1.21.0->google-api-python-client>=1.6.7->tf-models-official>=2.5.1->object-detection==0.1) (3.17.3)\n",
            "Requirement already satisfied: requests<3.0.0dev,>=2.18.0 in /usr/local/lib/python3.7/dist-packages (from google-api-core<2dev,>=1.21.0->google-api-python-client>=1.6.7->tf-models-official>=2.5.1->object-detection==0.1) (2.23.0)\n",
            "Requirement already satisfied: cachetools<5.0,>=2.0.0 in /usr/local/lib/python3.7/dist-packages (from google-auth>=1.16.0->google-api-python-client>=1.6.7->tf-models-official>=2.5.1->object-detection==0.1) (4.2.4)\n",
            "Requirement already satisfied: rsa<5,>=3.1.4 in /usr/local/lib/python3.7/dist-packages (from google-auth>=1.16.0->google-api-python-client>=1.6.7->tf-models-official>=2.5.1->object-detection==0.1) (4.7.2)\n",
            "Requirement already satisfied: pyasn1-modules>=0.2.1 in /usr/local/lib/python3.7/dist-packages (from google-auth>=1.16.0->google-api-python-client>=1.6.7->tf-models-official>=2.5.1->object-detection==0.1) (0.2.8)\n",
            "Requirement already satisfied: urllib3 in /usr/local/lib/python3.7/dist-packages (from kaggle>=1.3.9->tf-models-official>=2.5.1->object-detection==0.1) (1.24.3)\n",
            "Requirement already satisfied: python-dateutil in /usr/local/lib/python3.7/dist-packages (from kaggle>=1.3.9->tf-models-official>=2.5.1->object-detection==0.1) (2.8.2)\n",
            "Requirement already satisfied: python-slugify in /usr/local/lib/python3.7/dist-packages (from kaggle>=1.3.9->tf-models-official>=2.5.1->object-detection==0.1) (5.0.2)\n",
            "Requirement already satisfied: tqdm in /usr/local/lib/python3.7/dist-packages (from kaggle>=1.3.9->tf-models-official>=2.5.1->object-detection==0.1) (4.62.3)\n",
            "Requirement already satisfied: certifi in /usr/local/lib/python3.7/dist-packages (from kaggle>=1.3.9->tf-models-official>=2.5.1->object-detection==0.1) (2021.5.30)\n",
            "Requirement already satisfied: pyparsing>=2.0.2 in /usr/local/lib/python3.7/dist-packages (from packaging>=14.3->google-api-core<2dev,>=1.21.0->google-api-python-client>=1.6.7->tf-models-official>=2.5.1->object-detection==0.1) (2.4.7)\n",
            "Requirement already satisfied: pyasn1<0.5.0,>=0.4.6 in /usr/local/lib/python3.7/dist-packages (from pyasn1-modules>=0.2.1->google-auth>=1.16.0->google-api-python-client>=1.6.7->tf-models-official>=2.5.1->object-detection==0.1) (0.4.8)\n",
            "Requirement already satisfied: idna<3,>=2.5 in /usr/local/lib/python3.7/dist-packages (from requests<3.0.0dev,>=2.18.0->google-api-core<2dev,>=1.21.0->google-api-python-client>=1.6.7->tf-models-official>=2.5.1->object-detection==0.1) (2.10)\n",
            "Requirement already satisfied: chardet<4,>=3.0.2 in /usr/local/lib/python3.7/dist-packages (from requests<3.0.0dev,>=2.18.0->google-api-core<2dev,>=1.21.0->google-api-python-client>=1.6.7->tf-models-official>=2.5.1->object-detection==0.1) (3.0.4)\n",
            "Requirement already satisfied: flatbuffers~=1.12.0 in /usr/local/lib/python3.7/dist-packages (from tensorflow>=2.5.0->tf-models-official>=2.5.1->object-detection==0.1) (1.12)\n",
            "Requirement already satisfied: google-pasta~=0.2 in /usr/local/lib/python3.7/dist-packages (from tensorflow>=2.5.0->tf-models-official>=2.5.1->object-detection==0.1) (0.2.0)\n",
            "Requirement already satisfied: astunparse~=1.6.3 in /usr/local/lib/python3.7/dist-packages (from tensorflow>=2.5.0->tf-models-official>=2.5.1->object-detection==0.1) (1.6.3)\n",
            "Requirement already satisfied: h5py~=3.1.0 in /usr/local/lib/python3.7/dist-packages (from tensorflow>=2.5.0->tf-models-official>=2.5.1->object-detection==0.1) (3.1.0)\n",
            "Requirement already satisfied: clang~=5.0 in /usr/local/lib/python3.7/dist-packages (from tensorflow>=2.5.0->tf-models-official>=2.5.1->object-detection==0.1) (5.0)\n",
            "Requirement already satisfied: keras~=2.6 in /usr/local/lib/python3.7/dist-packages (from tensorflow>=2.5.0->tf-models-official>=2.5.1->object-detection==0.1) (2.6.0)\n",
            "Requirement already satisfied: tensorboard~=2.6 in /usr/local/lib/python3.7/dist-packages (from tensorflow>=2.5.0->tf-models-official>=2.5.1->object-detection==0.1) (2.6.0)\n",
            "Requirement already satisfied: grpcio<2.0,>=1.37.0 in /usr/local/lib/python3.7/dist-packages (from tensorflow>=2.5.0->tf-models-official>=2.5.1->object-detection==0.1) (1.41.0)\n",
            "Requirement already satisfied: typing-extensions~=3.7.4 in /usr/local/lib/python3.7/dist-packages (from tensorflow>=2.5.0->tf-models-official>=2.5.1->object-detection==0.1) (3.7.4.3)\n",
            "Requirement already satisfied: absl-py~=0.10 in /usr/local/lib/python3.7/dist-packages (from tensorflow>=2.5.0->tf-models-official>=2.5.1->object-detection==0.1) (0.12.0)\n",
            "Requirement already satisfied: wheel~=0.35 in /usr/local/lib/python3.7/dist-packages (from tensorflow>=2.5.0->tf-models-official>=2.5.1->object-detection==0.1) (0.37.0)\n",
            "Requirement already satisfied: gast==0.4.0 in /usr/local/lib/python3.7/dist-packages (from tensorflow>=2.5.0->tf-models-official>=2.5.1->object-detection==0.1) (0.4.0)\n",
            "Requirement already satisfied: opt-einsum~=3.3.0 in /usr/local/lib/python3.7/dist-packages (from tensorflow>=2.5.0->tf-models-official>=2.5.1->object-detection==0.1) (3.3.0)\n",
            "Requirement already satisfied: termcolor~=1.1.0 in /usr/local/lib/python3.7/dist-packages (from tensorflow>=2.5.0->tf-models-official>=2.5.1->object-detection==0.1) (1.1.0)\n",
            "Requirement already satisfied: keras-preprocessing~=1.1.2 in /usr/local/lib/python3.7/dist-packages (from tensorflow>=2.5.0->tf-models-official>=2.5.1->object-detection==0.1) (1.1.2)\n",
            "Requirement already satisfied: tensorflow-estimator~=2.6 in /usr/local/lib/python3.7/dist-packages (from tensorflow>=2.5.0->tf-models-official>=2.5.1->object-detection==0.1) (2.6.0)\n",
            "Requirement already satisfied: wrapt~=1.12.1 in /usr/local/lib/python3.7/dist-packages (from tensorflow>=2.5.0->tf-models-official>=2.5.1->object-detection==0.1) (1.12.1)\n",
            "Requirement already satisfied: cached-property in /usr/local/lib/python3.7/dist-packages (from h5py~=3.1.0->tensorflow>=2.5.0->tf-models-official>=2.5.1->object-detection==0.1) (1.5.2)\n",
            "Requirement already satisfied: tensorboard-plugin-wit>=1.6.0 in /usr/local/lib/python3.7/dist-packages (from tensorboard~=2.6->tensorflow>=2.5.0->tf-models-official>=2.5.1->object-detection==0.1) (1.8.0)\n",
            "Requirement already satisfied: google-auth-oauthlib<0.5,>=0.4.1 in /usr/local/lib/python3.7/dist-packages (from tensorboard~=2.6->tensorflow>=2.5.0->tf-models-official>=2.5.1->object-detection==0.1) (0.4.6)\n",
            "Requirement already satisfied: tensorboard-data-server<0.7.0,>=0.6.0 in /usr/local/lib/python3.7/dist-packages (from tensorboard~=2.6->tensorflow>=2.5.0->tf-models-official>=2.5.1->object-detection==0.1) (0.6.1)\n",
            "Requirement already satisfied: markdown>=2.6.8 in /usr/local/lib/python3.7/dist-packages (from tensorboard~=2.6->tensorflow>=2.5.0->tf-models-official>=2.5.1->object-detection==0.1) (3.3.4)\n",
            "Requirement already satisfied: werkzeug>=0.11.15 in /usr/local/lib/python3.7/dist-packages (from tensorboard~=2.6->tensorflow>=2.5.0->tf-models-official>=2.5.1->object-detection==0.1) (1.0.1)\n",
            "Requirement already satisfied: requests-oauthlib>=0.7.0 in /usr/local/lib/python3.7/dist-packages (from google-auth-oauthlib<0.5,>=0.4.1->tensorboard~=2.6->tensorflow>=2.5.0->tf-models-official>=2.5.1->object-detection==0.1) (1.3.0)\n",
            "Requirement already satisfied: importlib-metadata in /usr/local/lib/python3.7/dist-packages (from markdown>=2.6.8->tensorboard~=2.6->tensorflow>=2.5.0->tf-models-official>=2.5.1->object-detection==0.1) (4.8.1)\n",
            "Requirement already satisfied: oauthlib>=3.0.0 in /usr/local/lib/python3.7/dist-packages (from requests-oauthlib>=0.7.0->google-auth-oauthlib<0.5,>=0.4.1->tensorboard~=2.6->tensorflow>=2.5.0->tf-models-official>=2.5.1->object-detection==0.1) (3.1.1)\n",
            "Requirement already satisfied: dm-tree~=0.1.1 in /usr/local/lib/python3.7/dist-packages (from tensorflow-model-optimization>=0.4.1->tf-models-official>=2.5.1->object-detection==0.1) (0.1.6)\n",
            "Requirement already satisfied: pymongo<4.0.0,>=3.8.0 in /usr/local/lib/python3.7/dist-packages (from apache-beam->object-detection==0.1) (3.12.0)\n",
            "Collecting dill<0.3.2,>=0.3.1.1\n",
            "  Downloading dill-0.3.1.1.tar.gz (151 kB)\n",
            "\u001b[K     |████████████████████████████████| 151 kB 50.9 MB/s \n",
            "\u001b[?25hRequirement already satisfied: pydot<2,>=1.2.0 in /usr/local/lib/python3.7/dist-packages (from apache-beam->object-detection==0.1) (1.3.0)\n",
            "Collecting future<1.0.0,>=0.18.2\n",
            "  Downloading future-0.18.2.tar.gz (829 kB)\n",
            "\u001b[K     |████████████████████████████████| 829 kB 43.5 MB/s \n",
            "\u001b[?25hCollecting fastavro<2,>=0.21.4\n",
            "  Downloading fastavro-1.4.6-cp37-cp37m-manylinux_2_17_x86_64.manylinux2014_x86_64.whl (2.3 MB)\n",
            "\u001b[K     |████████████████████████████████| 2.3 MB 31.6 MB/s \n",
            "\u001b[?25hCollecting requests<3.0.0dev,>=2.18.0\n",
            "  Downloading requests-2.26.0-py2.py3-none-any.whl (62 kB)\n",
            "\u001b[K     |████████████████████████████████| 62 kB 749 kB/s \n",
            "\u001b[?25hRequirement already satisfied: pyarrow<5.0.0,>=0.15.1 in /usr/local/lib/python3.7/dist-packages (from apache-beam->object-detection==0.1) (3.0.0)\n",
            "Collecting orjson<4.0\n",
            "  Downloading orjson-3.6.4-cp37-cp37m-manylinux_2_24_x86_64.whl (249 kB)\n",
            "\u001b[K     |████████████████████████████████| 249 kB 52.6 MB/s \n",
            "\u001b[?25hRequirement already satisfied: crcmod<2.0,>=1.7 in /usr/local/lib/python3.7/dist-packages (from apache-beam->object-detection==0.1) (1.7)\n",
            "Collecting avro-python3\n",
            "  Downloading avro-python3-1.9.2.1.tar.gz (37 kB)\n",
            "Collecting hdfs<3.0.0,>=2.1.0\n",
            "  Downloading hdfs-2.6.0-py3-none-any.whl (33 kB)\n",
            "Requirement already satisfied: docopt in /usr/local/lib/python3.7/dist-packages (from hdfs<3.0.0,>=2.1.0->apache-beam->object-detection==0.1) (0.6.2)\n",
            "Requirement already satisfied: charset-normalizer~=2.0.0 in /usr/local/lib/python3.7/dist-packages (from requests<3.0.0dev,>=2.18.0->google-api-core<2dev,>=1.21.0->google-api-python-client>=1.6.7->tf-models-official>=2.5.1->object-detection==0.1) (2.0.6)\n",
            "Requirement already satisfied: zipp>=0.5 in /usr/local/lib/python3.7/dist-packages (from importlib-metadata->markdown>=2.6.8->tensorboard~=2.6->tensorflow>=2.5.0->tf-models-official>=2.5.1->object-detection==0.1) (3.6.0)\n",
            "Requirement already satisfied: kiwisolver>=1.1.0 in /usr/local/lib/python3.7/dist-packages (from lvis->object-detection==0.1) (1.3.2)\n",
            "Requirement already satisfied: opencv-python>=4.1.0.25 in /usr/local/lib/python3.7/dist-packages (from lvis->object-detection==0.1) (4.1.2.30)\n",
            "Requirement already satisfied: cycler>=0.10.0 in /usr/local/lib/python3.7/dist-packages (from lvis->object-detection==0.1) (0.10.0)\n",
            "Requirement already satisfied: text-unidecode>=1.3 in /usr/local/lib/python3.7/dist-packages (from python-slugify->kaggle>=1.3.9->tf-models-official>=2.5.1->object-detection==0.1) (1.3)\n",
            "Collecting colorama\n",
            "  Downloading colorama-0.4.4-py2.py3-none-any.whl (16 kB)\n",
            "Collecting portalocker\n",
            "  Downloading portalocker-2.3.2-py2.py3-none-any.whl (15 kB)\n",
            "Requirement already satisfied: regex in /usr/local/lib/python3.7/dist-packages (from sacrebleu->tf-models-official>=2.5.1->object-detection==0.1) (2019.12.20)\n",
            "Requirement already satisfied: tabulate>=0.8.9 in /usr/local/lib/python3.7/dist-packages (from sacrebleu->tf-models-official>=2.5.1->object-detection==0.1) (0.8.9)\n",
            "Requirement already satisfied: scikit-learn>=0.21.3 in /usr/local/lib/python3.7/dist-packages (from seqeval->tf-models-official>=2.5.1->object-detection==0.1) (0.22.2.post1)\n",
            "Requirement already satisfied: joblib>=0.11 in /usr/local/lib/python3.7/dist-packages (from scikit-learn>=0.21.3->seqeval->tf-models-official>=2.5.1->object-detection==0.1) (1.0.1)\n",
            "Requirement already satisfied: typeguard>=2.7 in /usr/local/lib/python3.7/dist-packages (from tensorflow-addons->tf-models-official>=2.5.1->object-detection==0.1) (2.7.1)\n",
            "Requirement already satisfied: promise in /usr/local/lib/python3.7/dist-packages (from tensorflow-datasets->tf-models-official>=2.5.1->object-detection==0.1) (2.3)\n",
            "Requirement already satisfied: tensorflow-metadata in /usr/local/lib/python3.7/dist-packages (from tensorflow-datasets->tf-models-official>=2.5.1->object-detection==0.1) (1.2.0)\n",
            "Requirement already satisfied: attrs>=18.1.0 in /usr/local/lib/python3.7/dist-packages (from tensorflow-datasets->tf-models-official>=2.5.1->object-detection==0.1) (21.2.0)\n",
            "Requirement already satisfied: importlib-resources in /usr/local/lib/python3.7/dist-packages (from tensorflow-datasets->tf-models-official>=2.5.1->object-detection==0.1) (5.2.2)\n",
            "Building wheels for collected packages: object-detection, py-cpuinfo, avro-python3, dill, future, seqeval\n",
            "  Building wheel for object-detection (setup.py) ... \u001b[?25l\u001b[?25hdone\n",
            "  Created wheel for object-detection: filename=object_detection-0.1-py3-none-any.whl size=1675714 sha256=81e251cc0f0937f6d879105d0bfd5cd02dbee8b0a1cb99e0a10de73d1ce7b412\n",
            "  Stored in directory: /tmp/pip-ephem-wheel-cache-bbjpy3eh/wheels/fa/a4/d2/e9a5057e414fd46c8e543d2706cd836d64e1fcd9eccceb2329\n",
            "  Building wheel for py-cpuinfo (setup.py) ... \u001b[?25l\u001b[?25hdone\n",
            "  Created wheel for py-cpuinfo: filename=py_cpuinfo-8.0.0-py3-none-any.whl size=22258 sha256=ec0f75141d08216c9dcdd76d0ba73e5537eda841cda4c3b9e51495485e0c7132\n",
            "  Stored in directory: /root/.cache/pip/wheels/d2/f1/1f/041add21dc9c4220157f1bd2bd6afe1f1a49524c3396b94401\n",
            "  Building wheel for avro-python3 (setup.py) ... \u001b[?25l\u001b[?25hdone\n",
            "  Created wheel for avro-python3: filename=avro_python3-1.9.2.1-py3-none-any.whl size=43512 sha256=775d6d30a3beae86866075bdd0e22894d6621caf1c756a991547a76b6b39ff89\n",
            "  Stored in directory: /root/.cache/pip/wheels/bc/49/5f/fdb5b9d85055c478213e0158ac122b596816149a02d82e0ab1\n",
            "  Building wheel for dill (setup.py) ... \u001b[?25l\u001b[?25hdone\n",
            "  Created wheel for dill: filename=dill-0.3.1.1-py3-none-any.whl size=78546 sha256=f36ef0be047ae02ed6c35d6af08cb403aec382e874211b05473d14aa812ea324\n",
            "  Stored in directory: /root/.cache/pip/wheels/a4/61/fd/c57e374e580aa78a45ed78d5859b3a44436af17e22ca53284f\n",
            "  Building wheel for future (setup.py) ... \u001b[?25l\u001b[?25hdone\n",
            "  Created wheel for future: filename=future-0.18.2-py3-none-any.whl size=491070 sha256=56723191988f542418fb04d8cf70c647e7b9f09554280840e954d449f1fbc75b\n",
            "  Stored in directory: /root/.cache/pip/wheels/56/b0/fe/4410d17b32f1f0c3cf54cdfb2bc04d7b4b8f4ae377e2229ba0\n",
            "  Building wheel for seqeval (setup.py) ... \u001b[?25l\u001b[?25hdone\n",
            "  Created wheel for seqeval: filename=seqeval-1.2.2-py3-none-any.whl size=16181 sha256=1112dfc279cc1407ca26e970d1b4cccf6f1c50ad704407d9d99f624b73e458f9\n",
            "  Stored in directory: /root/.cache/pip/wheels/05/96/ee/7cac4e74f3b19e3158dce26a20a1c86b3533c43ec72a549fd7\n",
            "Successfully built object-detection py-cpuinfo avro-python3 dill future seqeval\n",
            "Installing collected packages: requests, portalocker, future, dill, colorama, tf-slim, tensorflow-text, tensorflow-model-optimization, tensorflow-addons, seqeval, sentencepiece, sacrebleu, pyyaml, py-cpuinfo, orjson, opencv-python-headless, hdfs, fastavro, avro-python3, tf-models-official, lvis, apache-beam, object-detection\n",
            "  Attempting uninstall: requests\n",
            "    Found existing installation: requests 2.23.0\n",
            "    Uninstalling requests-2.23.0:\n",
            "      Successfully uninstalled requests-2.23.0\n",
            "  Attempting uninstall: future\n",
            "    Found existing installation: future 0.16.0\n",
            "    Uninstalling future-0.16.0:\n",
            "      Successfully uninstalled future-0.16.0\n",
            "  Attempting uninstall: dill\n",
            "    Found existing installation: dill 0.3.4\n",
            "    Uninstalling dill-0.3.4:\n",
            "      Successfully uninstalled dill-0.3.4\n",
            "  Attempting uninstall: pyyaml\n",
            "    Found existing installation: PyYAML 3.13\n",
            "    Uninstalling PyYAML-3.13:\n",
            "      Successfully uninstalled PyYAML-3.13\n",
            "\u001b[31mERROR: pip's dependency resolver does not currently take into account all the packages that are installed. This behaviour is the source of the following dependency conflicts.\n",
            "multiprocess 0.70.12.2 requires dill>=0.3.4, but you have dill 0.3.1.1 which is incompatible.\n",
            "google-colab 1.0.0 requires requests~=2.23.0, but you have requests 2.26.0 which is incompatible.\n",
            "datascience 0.10.6 requires folium==0.2.1, but you have folium 0.8.3 which is incompatible.\u001b[0m\n",
            "Successfully installed apache-beam-2.33.0 avro-python3-1.9.2.1 colorama-0.4.4 dill-0.3.1.1 fastavro-1.4.6 future-0.18.2 hdfs-2.6.0 lvis-0.5.3 object-detection-0.1 opencv-python-headless-4.5.4.58 orjson-3.6.4 portalocker-2.3.2 py-cpuinfo-8.0.0 pyyaml-6.0 requests-2.26.0 sacrebleu-2.0.0 sentencepiece-0.1.96 seqeval-1.2.2 tensorflow-addons-0.14.0 tensorflow-model-optimization-0.7.0 tensorflow-text-2.6.0 tf-models-official-2.6.0 tf-slim-1.1.0\n"
          ]
        }
      ]
    },
    {
      "cell_type": "code",
      "metadata": {
        "colab": {
          "base_uri": "https://localhost:8080/"
        },
        "id": "I5qYSPay8nlN",
        "outputId": "81a36e42-dce0-41e8-ab48-264343495d22"
      },
      "source": [
        "!python object_detection/builders/model_builder_tf2_test.py"
      ],
      "execution_count": null,
      "outputs": [
        {
          "output_type": "stream",
          "name": "stdout",
          "text": [
            "2021-10-24 13:03:55.393421: I tensorflow/stream_executor/cuda/cuda_gpu_executor.cc:937] successful NUMA node read from SysFS had negative value (-1), but there must be at least one NUMA node, so returning NUMA node zero\n",
            "2021-10-24 13:03:55.802237: I tensorflow/stream_executor/cuda/cuda_gpu_executor.cc:937] successful NUMA node read from SysFS had negative value (-1), but there must be at least one NUMA node, so returning NUMA node zero\n",
            "2021-10-24 13:03:55.803209: I tensorflow/stream_executor/cuda/cuda_gpu_executor.cc:937] successful NUMA node read from SysFS had negative value (-1), but there must be at least one NUMA node, so returning NUMA node zero\n",
            "Running tests under Python 3.7.12: /usr/bin/python3\n",
            "[ RUN      ] ModelBuilderTF2Test.test_create_center_net_deepmac\n",
            "2021-10-24 13:03:55.824585: I tensorflow/stream_executor/cuda/cuda_gpu_executor.cc:937] successful NUMA node read from SysFS had negative value (-1), but there must be at least one NUMA node, so returning NUMA node zero\n",
            "2021-10-24 13:03:55.825481: I tensorflow/stream_executor/cuda/cuda_gpu_executor.cc:937] successful NUMA node read from SysFS had negative value (-1), but there must be at least one NUMA node, so returning NUMA node zero\n",
            "2021-10-24 13:03:55.826235: I tensorflow/stream_executor/cuda/cuda_gpu_executor.cc:937] successful NUMA node read from SysFS had negative value (-1), but there must be at least one NUMA node, so returning NUMA node zero\n",
            "2021-10-24 13:04:00.798605: I tensorflow/stream_executor/cuda/cuda_gpu_executor.cc:937] successful NUMA node read from SysFS had negative value (-1), but there must be at least one NUMA node, so returning NUMA node zero\n",
            "2021-10-24 13:04:00.799516: I tensorflow/stream_executor/cuda/cuda_gpu_executor.cc:937] successful NUMA node read from SysFS had negative value (-1), but there must be at least one NUMA node, so returning NUMA node zero\n",
            "2021-10-24 13:04:00.800457: I tensorflow/stream_executor/cuda/cuda_gpu_executor.cc:937] successful NUMA node read from SysFS had negative value (-1), but there must be at least one NUMA node, so returning NUMA node zero\n",
            "2021-10-24 13:04:00.801377: W tensorflow/core/common_runtime/gpu/gpu_bfc_allocator.cc:39] Overriding allow_growth setting because the TF_FORCE_GPU_ALLOW_GROWTH environment variable is set. Original config value was 0.\n",
            "2021-10-24 13:04:00.801461: I tensorflow/core/common_runtime/gpu/gpu_device.cc:1510] Created device /job:localhost/replica:0/task:0/device:GPU:0 with 10819 MB memory:  -> device: 0, name: Tesla K80, pci bus id: 0000:00:04.0, compute capability: 3.7\n",
            "W1024 13:04:01.173810 140093042227072 model_builder.py:1100] Building experimental DeepMAC meta-arch. Some features may be omitted.\n",
            "INFO:tensorflow:time(__main__.ModelBuilderTF2Test.test_create_center_net_deepmac): 5.77s\n",
            "I1024 13:04:01.582960 140093042227072 test_util.py:2189] time(__main__.ModelBuilderTF2Test.test_create_center_net_deepmac): 5.77s\n",
            "[       OK ] ModelBuilderTF2Test.test_create_center_net_deepmac\n",
            "[ RUN      ] ModelBuilderTF2Test.test_create_center_net_model0 (customize_head_params=True)\n",
            "INFO:tensorflow:time(__main__.ModelBuilderTF2Test.test_create_center_net_model0 (customize_head_params=True)): 0.62s\n",
            "I1024 13:04:02.203474 140093042227072 test_util.py:2189] time(__main__.ModelBuilderTF2Test.test_create_center_net_model0 (customize_head_params=True)): 0.62s\n",
            "[       OK ] ModelBuilderTF2Test.test_create_center_net_model0 (customize_head_params=True)\n",
            "[ RUN      ] ModelBuilderTF2Test.test_create_center_net_model1 (customize_head_params=False)\n",
            "INFO:tensorflow:time(__main__.ModelBuilderTF2Test.test_create_center_net_model1 (customize_head_params=False)): 0.35s\n",
            "I1024 13:04:02.553333 140093042227072 test_util.py:2189] time(__main__.ModelBuilderTF2Test.test_create_center_net_model1 (customize_head_params=False)): 0.35s\n",
            "[       OK ] ModelBuilderTF2Test.test_create_center_net_model1 (customize_head_params=False)\n",
            "[ RUN      ] ModelBuilderTF2Test.test_create_center_net_model_from_keypoints\n",
            "INFO:tensorflow:time(__main__.ModelBuilderTF2Test.test_create_center_net_model_from_keypoints): 0.32s\n",
            "I1024 13:04:02.875235 140093042227072 test_util.py:2189] time(__main__.ModelBuilderTF2Test.test_create_center_net_model_from_keypoints): 0.32s\n",
            "[       OK ] ModelBuilderTF2Test.test_create_center_net_model_from_keypoints\n",
            "[ RUN      ] ModelBuilderTF2Test.test_create_center_net_model_mobilenet\n",
            "INFO:tensorflow:time(__main__.ModelBuilderTF2Test.test_create_center_net_model_mobilenet): 2.16s\n",
            "I1024 13:04:05.040600 140093042227072 test_util.py:2189] time(__main__.ModelBuilderTF2Test.test_create_center_net_model_mobilenet): 2.16s\n",
            "[       OK ] ModelBuilderTF2Test.test_create_center_net_model_mobilenet\n",
            "[ RUN      ] ModelBuilderTF2Test.test_create_experimental_model\n",
            "INFO:tensorflow:time(__main__.ModelBuilderTF2Test.test_create_experimental_model): 0.0s\n",
            "I1024 13:04:05.041636 140093042227072 test_util.py:2189] time(__main__.ModelBuilderTF2Test.test_create_experimental_model): 0.0s\n",
            "[       OK ] ModelBuilderTF2Test.test_create_experimental_model\n",
            "[ RUN      ] ModelBuilderTF2Test.test_create_faster_rcnn_from_config_with_crop_feature0 (True)\n",
            "INFO:tensorflow:time(__main__.ModelBuilderTF2Test.test_create_faster_rcnn_from_config_with_crop_feature0 (True)): 0.03s\n",
            "I1024 13:04:05.067597 140093042227072 test_util.py:2189] time(__main__.ModelBuilderTF2Test.test_create_faster_rcnn_from_config_with_crop_feature0 (True)): 0.03s\n",
            "[       OK ] ModelBuilderTF2Test.test_create_faster_rcnn_from_config_with_crop_feature0 (True)\n",
            "[ RUN      ] ModelBuilderTF2Test.test_create_faster_rcnn_from_config_with_crop_feature1 (False)\n",
            "INFO:tensorflow:time(__main__.ModelBuilderTF2Test.test_create_faster_rcnn_from_config_with_crop_feature1 (False)): 0.02s\n",
            "I1024 13:04:05.086011 140093042227072 test_util.py:2189] time(__main__.ModelBuilderTF2Test.test_create_faster_rcnn_from_config_with_crop_feature1 (False)): 0.02s\n",
            "[       OK ] ModelBuilderTF2Test.test_create_faster_rcnn_from_config_with_crop_feature1 (False)\n",
            "[ RUN      ] ModelBuilderTF2Test.test_create_faster_rcnn_model_from_config_with_example_miner\n",
            "INFO:tensorflow:time(__main__.ModelBuilderTF2Test.test_create_faster_rcnn_model_from_config_with_example_miner): 0.02s\n",
            "I1024 13:04:05.104285 140093042227072 test_util.py:2189] time(__main__.ModelBuilderTF2Test.test_create_faster_rcnn_model_from_config_with_example_miner): 0.02s\n",
            "[       OK ] ModelBuilderTF2Test.test_create_faster_rcnn_model_from_config_with_example_miner\n",
            "[ RUN      ] ModelBuilderTF2Test.test_create_faster_rcnn_models_from_config_faster_rcnn_with_matmul\n",
            "INFO:tensorflow:time(__main__.ModelBuilderTF2Test.test_create_faster_rcnn_models_from_config_faster_rcnn_with_matmul): 0.12s\n",
            "I1024 13:04:05.226438 140093042227072 test_util.py:2189] time(__main__.ModelBuilderTF2Test.test_create_faster_rcnn_models_from_config_faster_rcnn_with_matmul): 0.12s\n",
            "[       OK ] ModelBuilderTF2Test.test_create_faster_rcnn_models_from_config_faster_rcnn_with_matmul\n",
            "[ RUN      ] ModelBuilderTF2Test.test_create_faster_rcnn_models_from_config_faster_rcnn_without_matmul\n",
            "INFO:tensorflow:time(__main__.ModelBuilderTF2Test.test_create_faster_rcnn_models_from_config_faster_rcnn_without_matmul): 0.12s\n",
            "I1024 13:04:05.346466 140093042227072 test_util.py:2189] time(__main__.ModelBuilderTF2Test.test_create_faster_rcnn_models_from_config_faster_rcnn_without_matmul): 0.12s\n",
            "[       OK ] ModelBuilderTF2Test.test_create_faster_rcnn_models_from_config_faster_rcnn_without_matmul\n",
            "[ RUN      ] ModelBuilderTF2Test.test_create_faster_rcnn_models_from_config_mask_rcnn_with_matmul\n",
            "INFO:tensorflow:time(__main__.ModelBuilderTF2Test.test_create_faster_rcnn_models_from_config_mask_rcnn_with_matmul): 0.12s\n",
            "I1024 13:04:05.469192 140093042227072 test_util.py:2189] time(__main__.ModelBuilderTF2Test.test_create_faster_rcnn_models_from_config_mask_rcnn_with_matmul): 0.12s\n",
            "[       OK ] ModelBuilderTF2Test.test_create_faster_rcnn_models_from_config_mask_rcnn_with_matmul\n",
            "[ RUN      ] ModelBuilderTF2Test.test_create_faster_rcnn_models_from_config_mask_rcnn_without_matmul\n",
            "INFO:tensorflow:time(__main__.ModelBuilderTF2Test.test_create_faster_rcnn_models_from_config_mask_rcnn_without_matmul): 0.12s\n",
            "I1024 13:04:05.593469 140093042227072 test_util.py:2189] time(__main__.ModelBuilderTF2Test.test_create_faster_rcnn_models_from_config_mask_rcnn_without_matmul): 0.12s\n",
            "[       OK ] ModelBuilderTF2Test.test_create_faster_rcnn_models_from_config_mask_rcnn_without_matmul\n",
            "[ RUN      ] ModelBuilderTF2Test.test_create_rfcn_model_from_config\n",
            "INFO:tensorflow:time(__main__.ModelBuilderTF2Test.test_create_rfcn_model_from_config): 0.12s\n",
            "I1024 13:04:05.709799 140093042227072 test_util.py:2189] time(__main__.ModelBuilderTF2Test.test_create_rfcn_model_from_config): 0.12s\n",
            "[       OK ] ModelBuilderTF2Test.test_create_rfcn_model_from_config\n",
            "[ RUN      ] ModelBuilderTF2Test.test_create_ssd_fpn_model_from_config\n",
            "INFO:tensorflow:time(__main__.ModelBuilderTF2Test.test_create_ssd_fpn_model_from_config): 0.04s\n",
            "I1024 13:04:05.749159 140093042227072 test_util.py:2189] time(__main__.ModelBuilderTF2Test.test_create_ssd_fpn_model_from_config): 0.04s\n",
            "[       OK ] ModelBuilderTF2Test.test_create_ssd_fpn_model_from_config\n",
            "[ RUN      ] ModelBuilderTF2Test.test_create_ssd_models_from_config\n",
            "I1024 13:04:06.103149 140093042227072 ssd_efficientnet_bifpn_feature_extractor.py:143] EfficientDet EfficientNet backbone version: efficientnet-b0\n",
            "I1024 13:04:06.103375 140093042227072 ssd_efficientnet_bifpn_feature_extractor.py:144] EfficientDet BiFPN num filters: 64\n",
            "I1024 13:04:06.103516 140093042227072 ssd_efficientnet_bifpn_feature_extractor.py:146] EfficientDet BiFPN num iterations: 3\n",
            "I1024 13:04:06.105924 140093042227072 efficientnet_model.py:147] round_filter input=32 output=32\n",
            "I1024 13:04:06.125912 140093042227072 efficientnet_model.py:147] round_filter input=32 output=32\n",
            "I1024 13:04:06.126074 140093042227072 efficientnet_model.py:147] round_filter input=16 output=16\n",
            "I1024 13:04:06.198878 140093042227072 efficientnet_model.py:147] round_filter input=16 output=16\n",
            "I1024 13:04:06.199030 140093042227072 efficientnet_model.py:147] round_filter input=24 output=24\n",
            "I1024 13:04:06.378823 140093042227072 efficientnet_model.py:147] round_filter input=24 output=24\n",
            "I1024 13:04:06.378993 140093042227072 efficientnet_model.py:147] round_filter input=40 output=40\n",
            "I1024 13:04:06.552650 140093042227072 efficientnet_model.py:147] round_filter input=40 output=40\n",
            "I1024 13:04:06.552830 140093042227072 efficientnet_model.py:147] round_filter input=80 output=80\n",
            "I1024 13:04:06.821020 140093042227072 efficientnet_model.py:147] round_filter input=80 output=80\n",
            "I1024 13:04:06.821232 140093042227072 efficientnet_model.py:147] round_filter input=112 output=112\n",
            "I1024 13:04:07.088482 140093042227072 efficientnet_model.py:147] round_filter input=112 output=112\n",
            "I1024 13:04:07.088723 140093042227072 efficientnet_model.py:147] round_filter input=192 output=192\n",
            "I1024 13:04:07.458775 140093042227072 efficientnet_model.py:147] round_filter input=192 output=192\n",
            "I1024 13:04:07.458986 140093042227072 efficientnet_model.py:147] round_filter input=320 output=320\n",
            "I1024 13:04:07.544987 140093042227072 efficientnet_model.py:147] round_filter input=1280 output=1280\n",
            "I1024 13:04:07.579275 140093042227072 efficientnet_model.py:458] Building model efficientnet with params ModelConfig(width_coefficient=1.0, depth_coefficient=1.0, resolution=224, dropout_rate=0.2, blocks=(BlockConfig(input_filters=32, output_filters=16, kernel_size=3, num_repeat=1, expand_ratio=1, strides=(1, 1), se_ratio=0.25, id_skip=True, fused_conv=False, conv_type='depthwise'), BlockConfig(input_filters=16, output_filters=24, kernel_size=3, num_repeat=2, expand_ratio=6, strides=(2, 2), se_ratio=0.25, id_skip=True, fused_conv=False, conv_type='depthwise'), BlockConfig(input_filters=24, output_filters=40, kernel_size=5, num_repeat=2, expand_ratio=6, strides=(2, 2), se_ratio=0.25, id_skip=True, fused_conv=False, conv_type='depthwise'), BlockConfig(input_filters=40, output_filters=80, kernel_size=3, num_repeat=3, expand_ratio=6, strides=(2, 2), se_ratio=0.25, id_skip=True, fused_conv=False, conv_type='depthwise'), BlockConfig(input_filters=80, output_filters=112, kernel_size=5, num_repeat=3, expand_ratio=6, strides=(1, 1), se_ratio=0.25, id_skip=True, fused_conv=False, conv_type='depthwise'), BlockConfig(input_filters=112, output_filters=192, kernel_size=5, num_repeat=4, expand_ratio=6, strides=(2, 2), se_ratio=0.25, id_skip=True, fused_conv=False, conv_type='depthwise'), BlockConfig(input_filters=192, output_filters=320, kernel_size=3, num_repeat=1, expand_ratio=6, strides=(1, 1), se_ratio=0.25, id_skip=True, fused_conv=False, conv_type='depthwise')), stem_base_filters=32, top_base_filters=1280, activation='simple_swish', batch_norm='default', bn_momentum=0.99, bn_epsilon=0.001, weight_decay=5e-06, drop_connect_rate=0.2, depth_divisor=8, min_depth=None, use_se=True, input_channels=3, num_classes=1000, model_name='efficientnet', rescale_input=False, data_format='channels_last', dtype='float32')\n",
            "I1024 13:04:07.640808 140093042227072 ssd_efficientnet_bifpn_feature_extractor.py:143] EfficientDet EfficientNet backbone version: efficientnet-b1\n",
            "I1024 13:04:07.640951 140093042227072 ssd_efficientnet_bifpn_feature_extractor.py:144] EfficientDet BiFPN num filters: 88\n",
            "I1024 13:04:07.641057 140093042227072 ssd_efficientnet_bifpn_feature_extractor.py:146] EfficientDet BiFPN num iterations: 4\n",
            "I1024 13:04:07.643060 140093042227072 efficientnet_model.py:147] round_filter input=32 output=32\n",
            "I1024 13:04:07.660522 140093042227072 efficientnet_model.py:147] round_filter input=32 output=32\n",
            "I1024 13:04:07.660650 140093042227072 efficientnet_model.py:147] round_filter input=16 output=16\n",
            "I1024 13:04:07.808621 140093042227072 efficientnet_model.py:147] round_filter input=16 output=16\n",
            "I1024 13:04:07.808834 140093042227072 efficientnet_model.py:147] round_filter input=24 output=24\n",
            "I1024 13:04:08.082751 140093042227072 efficientnet_model.py:147] round_filter input=24 output=24\n",
            "I1024 13:04:08.082970 140093042227072 efficientnet_model.py:147] round_filter input=40 output=40\n",
            "I1024 13:04:08.361162 140093042227072 efficientnet_model.py:147] round_filter input=40 output=40\n",
            "I1024 13:04:08.361488 140093042227072 efficientnet_model.py:147] round_filter input=80 output=80\n",
            "I1024 13:04:08.719270 140093042227072 efficientnet_model.py:147] round_filter input=80 output=80\n",
            "I1024 13:04:08.719515 140093042227072 efficientnet_model.py:147] round_filter input=112 output=112\n",
            "I1024 13:04:09.088565 140093042227072 efficientnet_model.py:147] round_filter input=112 output=112\n",
            "I1024 13:04:09.088808 140093042227072 efficientnet_model.py:147] round_filter input=192 output=192\n",
            "I1024 13:04:09.542288 140093042227072 efficientnet_model.py:147] round_filter input=192 output=192\n",
            "I1024 13:04:09.542511 140093042227072 efficientnet_model.py:147] round_filter input=320 output=320\n",
            "I1024 13:04:09.733689 140093042227072 efficientnet_model.py:147] round_filter input=1280 output=1280\n",
            "I1024 13:04:09.770907 140093042227072 efficientnet_model.py:458] Building model efficientnet with params ModelConfig(width_coefficient=1.0, depth_coefficient=1.1, resolution=240, dropout_rate=0.2, blocks=(BlockConfig(input_filters=32, output_filters=16, kernel_size=3, num_repeat=1, expand_ratio=1, strides=(1, 1), se_ratio=0.25, id_skip=True, fused_conv=False, conv_type='depthwise'), BlockConfig(input_filters=16, output_filters=24, kernel_size=3, num_repeat=2, expand_ratio=6, strides=(2, 2), se_ratio=0.25, id_skip=True, fused_conv=False, conv_type='depthwise'), BlockConfig(input_filters=24, output_filters=40, kernel_size=5, num_repeat=2, expand_ratio=6, strides=(2, 2), se_ratio=0.25, id_skip=True, fused_conv=False, conv_type='depthwise'), BlockConfig(input_filters=40, output_filters=80, kernel_size=3, num_repeat=3, expand_ratio=6, strides=(2, 2), se_ratio=0.25, id_skip=True, fused_conv=False, conv_type='depthwise'), BlockConfig(input_filters=80, output_filters=112, kernel_size=5, num_repeat=3, expand_ratio=6, strides=(1, 1), se_ratio=0.25, id_skip=True, fused_conv=False, conv_type='depthwise'), BlockConfig(input_filters=112, output_filters=192, kernel_size=5, num_repeat=4, expand_ratio=6, strides=(2, 2), se_ratio=0.25, id_skip=True, fused_conv=False, conv_type='depthwise'), BlockConfig(input_filters=192, output_filters=320, kernel_size=3, num_repeat=1, expand_ratio=6, strides=(1, 1), se_ratio=0.25, id_skip=True, fused_conv=False, conv_type='depthwise')), stem_base_filters=32, top_base_filters=1280, activation='simple_swish', batch_norm='default', bn_momentum=0.99, bn_epsilon=0.001, weight_decay=5e-06, drop_connect_rate=0.2, depth_divisor=8, min_depth=None, use_se=True, input_channels=3, num_classes=1000, model_name='efficientnet', rescale_input=False, data_format='channels_last', dtype='float32')\n",
            "I1024 13:04:09.974087 140093042227072 ssd_efficientnet_bifpn_feature_extractor.py:143] EfficientDet EfficientNet backbone version: efficientnet-b2\n",
            "I1024 13:04:09.974267 140093042227072 ssd_efficientnet_bifpn_feature_extractor.py:144] EfficientDet BiFPN num filters: 112\n",
            "I1024 13:04:09.974373 140093042227072 ssd_efficientnet_bifpn_feature_extractor.py:146] EfficientDet BiFPN num iterations: 5\n",
            "I1024 13:04:09.976526 140093042227072 efficientnet_model.py:147] round_filter input=32 output=32\n",
            "I1024 13:04:09.995183 140093042227072 efficientnet_model.py:147] round_filter input=32 output=32\n",
            "I1024 13:04:09.995363 140093042227072 efficientnet_model.py:147] round_filter input=16 output=16\n",
            "I1024 13:04:10.138126 140093042227072 efficientnet_model.py:147] round_filter input=16 output=16\n",
            "I1024 13:04:10.138333 140093042227072 efficientnet_model.py:147] round_filter input=24 output=24\n",
            "I1024 13:04:10.410284 140093042227072 efficientnet_model.py:147] round_filter input=24 output=24\n",
            "I1024 13:04:10.410521 140093042227072 efficientnet_model.py:147] round_filter input=40 output=48\n",
            "I1024 13:04:10.673995 140093042227072 efficientnet_model.py:147] round_filter input=40 output=48\n",
            "I1024 13:04:10.674179 140093042227072 efficientnet_model.py:147] round_filter input=80 output=88\n",
            "I1024 13:04:11.044640 140093042227072 efficientnet_model.py:147] round_filter input=80 output=88\n",
            "I1024 13:04:11.044867 140093042227072 efficientnet_model.py:147] round_filter input=112 output=120\n",
            "I1024 13:04:11.410473 140093042227072 efficientnet_model.py:147] round_filter input=112 output=120\n",
            "I1024 13:04:11.410686 140093042227072 efficientnet_model.py:147] round_filter input=192 output=208\n",
            "I1024 13:04:11.872482 140093042227072 efficientnet_model.py:147] round_filter input=192 output=208\n",
            "I1024 13:04:11.872710 140093042227072 efficientnet_model.py:147] round_filter input=320 output=352\n",
            "I1024 13:04:12.057619 140093042227072 efficientnet_model.py:147] round_filter input=1280 output=1408\n",
            "I1024 13:04:12.090949 140093042227072 efficientnet_model.py:458] Building model efficientnet with params ModelConfig(width_coefficient=1.1, depth_coefficient=1.2, resolution=260, dropout_rate=0.3, blocks=(BlockConfig(input_filters=32, output_filters=16, kernel_size=3, num_repeat=1, expand_ratio=1, strides=(1, 1), se_ratio=0.25, id_skip=True, fused_conv=False, conv_type='depthwise'), BlockConfig(input_filters=16, output_filters=24, kernel_size=3, num_repeat=2, expand_ratio=6, strides=(2, 2), se_ratio=0.25, id_skip=True, fused_conv=False, conv_type='depthwise'), BlockConfig(input_filters=24, output_filters=40, kernel_size=5, num_repeat=2, expand_ratio=6, strides=(2, 2), se_ratio=0.25, id_skip=True, fused_conv=False, conv_type='depthwise'), BlockConfig(input_filters=40, output_filters=80, kernel_size=3, num_repeat=3, expand_ratio=6, strides=(2, 2), se_ratio=0.25, id_skip=True, fused_conv=False, conv_type='depthwise'), BlockConfig(input_filters=80, output_filters=112, kernel_size=5, num_repeat=3, expand_ratio=6, strides=(1, 1), se_ratio=0.25, id_skip=True, fused_conv=False, conv_type='depthwise'), BlockConfig(input_filters=112, output_filters=192, kernel_size=5, num_repeat=4, expand_ratio=6, strides=(2, 2), se_ratio=0.25, id_skip=True, fused_conv=False, conv_type='depthwise'), BlockConfig(input_filters=192, output_filters=320, kernel_size=3, num_repeat=1, expand_ratio=6, strides=(1, 1), se_ratio=0.25, id_skip=True, fused_conv=False, conv_type='depthwise')), stem_base_filters=32, top_base_filters=1280, activation='simple_swish', batch_norm='default', bn_momentum=0.99, bn_epsilon=0.001, weight_decay=5e-06, drop_connect_rate=0.2, depth_divisor=8, min_depth=None, use_se=True, input_channels=3, num_classes=1000, model_name='efficientnet', rescale_input=False, data_format='channels_last', dtype='float32')\n",
            "I1024 13:04:12.169142 140093042227072 ssd_efficientnet_bifpn_feature_extractor.py:143] EfficientDet EfficientNet backbone version: efficientnet-b3\n",
            "I1024 13:04:12.169472 140093042227072 ssd_efficientnet_bifpn_feature_extractor.py:144] EfficientDet BiFPN num filters: 160\n",
            "I1024 13:04:12.169637 140093042227072 ssd_efficientnet_bifpn_feature_extractor.py:146] EfficientDet BiFPN num iterations: 6\n",
            "I1024 13:04:12.172532 140093042227072 efficientnet_model.py:147] round_filter input=32 output=40\n",
            "I1024 13:04:12.192985 140093042227072 efficientnet_model.py:147] round_filter input=32 output=40\n",
            "I1024 13:04:12.193127 140093042227072 efficientnet_model.py:147] round_filter input=16 output=24\n",
            "I1024 13:04:12.334963 140093042227072 efficientnet_model.py:147] round_filter input=16 output=24\n",
            "I1024 13:04:12.335168 140093042227072 efficientnet_model.py:147] round_filter input=24 output=32\n",
            "I1024 13:04:12.608355 140093042227072 efficientnet_model.py:147] round_filter input=24 output=32\n",
            "I1024 13:04:12.608605 140093042227072 efficientnet_model.py:147] round_filter input=40 output=48\n",
            "I1024 13:04:12.875985 140093042227072 efficientnet_model.py:147] round_filter input=40 output=48\n",
            "I1024 13:04:12.876194 140093042227072 efficientnet_model.py:147] round_filter input=80 output=96\n",
            "I1024 13:04:13.338822 140093042227072 efficientnet_model.py:147] round_filter input=80 output=96\n",
            "I1024 13:04:13.339051 140093042227072 efficientnet_model.py:147] round_filter input=112 output=136\n",
            "I1024 13:04:13.795530 140093042227072 efficientnet_model.py:147] round_filter input=112 output=136\n",
            "I1024 13:04:13.795765 140093042227072 efficientnet_model.py:147] round_filter input=192 output=232\n",
            "I1024 13:04:14.350839 140093042227072 efficientnet_model.py:147] round_filter input=192 output=232\n",
            "I1024 13:04:14.351041 140093042227072 efficientnet_model.py:147] round_filter input=320 output=384\n",
            "I1024 13:04:14.529167 140093042227072 efficientnet_model.py:147] round_filter input=1280 output=1536\n",
            "I1024 13:04:14.561684 140093042227072 efficientnet_model.py:458] Building model efficientnet with params ModelConfig(width_coefficient=1.2, depth_coefficient=1.4, resolution=300, dropout_rate=0.3, blocks=(BlockConfig(input_filters=32, output_filters=16, kernel_size=3, num_repeat=1, expand_ratio=1, strides=(1, 1), se_ratio=0.25, id_skip=True, fused_conv=False, conv_type='depthwise'), BlockConfig(input_filters=16, output_filters=24, kernel_size=3, num_repeat=2, expand_ratio=6, strides=(2, 2), se_ratio=0.25, id_skip=True, fused_conv=False, conv_type='depthwise'), BlockConfig(input_filters=24, output_filters=40, kernel_size=5, num_repeat=2, expand_ratio=6, strides=(2, 2), se_ratio=0.25, id_skip=True, fused_conv=False, conv_type='depthwise'), BlockConfig(input_filters=40, output_filters=80, kernel_size=3, num_repeat=3, expand_ratio=6, strides=(2, 2), se_ratio=0.25, id_skip=True, fused_conv=False, conv_type='depthwise'), BlockConfig(input_filters=80, output_filters=112, kernel_size=5, num_repeat=3, expand_ratio=6, strides=(1, 1), se_ratio=0.25, id_skip=True, fused_conv=False, conv_type='depthwise'), BlockConfig(input_filters=112, output_filters=192, kernel_size=5, num_repeat=4, expand_ratio=6, strides=(2, 2), se_ratio=0.25, id_skip=True, fused_conv=False, conv_type='depthwise'), BlockConfig(input_filters=192, output_filters=320, kernel_size=3, num_repeat=1, expand_ratio=6, strides=(1, 1), se_ratio=0.25, id_skip=True, fused_conv=False, conv_type='depthwise')), stem_base_filters=32, top_base_filters=1280, activation='simple_swish', batch_norm='default', bn_momentum=0.99, bn_epsilon=0.001, weight_decay=5e-06, drop_connect_rate=0.2, depth_divisor=8, min_depth=None, use_se=True, input_channels=3, num_classes=1000, model_name='efficientnet', rescale_input=False, data_format='channels_last', dtype='float32')\n",
            "I1024 13:04:14.841398 140093042227072 ssd_efficientnet_bifpn_feature_extractor.py:143] EfficientDet EfficientNet backbone version: efficientnet-b4\n",
            "I1024 13:04:14.841618 140093042227072 ssd_efficientnet_bifpn_feature_extractor.py:144] EfficientDet BiFPN num filters: 224\n",
            "I1024 13:04:14.841717 140093042227072 ssd_efficientnet_bifpn_feature_extractor.py:146] EfficientDet BiFPN num iterations: 7\n",
            "I1024 13:04:14.843773 140093042227072 efficientnet_model.py:147] round_filter input=32 output=48\n",
            "I1024 13:04:14.861993 140093042227072 efficientnet_model.py:147] round_filter input=32 output=48\n",
            "I1024 13:04:14.862118 140093042227072 efficientnet_model.py:147] round_filter input=16 output=24\n",
            "I1024 13:04:15.009994 140093042227072 efficientnet_model.py:147] round_filter input=16 output=24\n",
            "I1024 13:04:15.010175 140093042227072 efficientnet_model.py:147] round_filter input=24 output=32\n",
            "I1024 13:04:15.367459 140093042227072 efficientnet_model.py:147] round_filter input=24 output=32\n",
            "I1024 13:04:15.367655 140093042227072 efficientnet_model.py:147] round_filter input=40 output=56\n",
            "I1024 13:04:15.731475 140093042227072 efficientnet_model.py:147] round_filter input=40 output=56\n",
            "I1024 13:04:15.731751 140093042227072 efficientnet_model.py:147] round_filter input=80 output=112\n",
            "I1024 13:04:16.285532 140093042227072 efficientnet_model.py:147] round_filter input=80 output=112\n",
            "I1024 13:04:16.285801 140093042227072 efficientnet_model.py:147] round_filter input=112 output=160\n",
            "I1024 13:04:16.830882 140093042227072 efficientnet_model.py:147] round_filter input=112 output=160\n",
            "I1024 13:04:16.831129 140093042227072 efficientnet_model.py:147] round_filter input=192 output=272\n",
            "I1024 13:04:17.565672 140093042227072 efficientnet_model.py:147] round_filter input=192 output=272\n",
            "I1024 13:04:17.565892 140093042227072 efficientnet_model.py:147] round_filter input=320 output=448\n",
            "I1024 13:04:17.742058 140093042227072 efficientnet_model.py:147] round_filter input=1280 output=1792\n",
            "I1024 13:04:17.775542 140093042227072 efficientnet_model.py:458] Building model efficientnet with params ModelConfig(width_coefficient=1.4, depth_coefficient=1.8, resolution=380, dropout_rate=0.4, blocks=(BlockConfig(input_filters=32, output_filters=16, kernel_size=3, num_repeat=1, expand_ratio=1, strides=(1, 1), se_ratio=0.25, id_skip=True, fused_conv=False, conv_type='depthwise'), BlockConfig(input_filters=16, output_filters=24, kernel_size=3, num_repeat=2, expand_ratio=6, strides=(2, 2), se_ratio=0.25, id_skip=True, fused_conv=False, conv_type='depthwise'), BlockConfig(input_filters=24, output_filters=40, kernel_size=5, num_repeat=2, expand_ratio=6, strides=(2, 2), se_ratio=0.25, id_skip=True, fused_conv=False, conv_type='depthwise'), BlockConfig(input_filters=40, output_filters=80, kernel_size=3, num_repeat=3, expand_ratio=6, strides=(2, 2), se_ratio=0.25, id_skip=True, fused_conv=False, conv_type='depthwise'), BlockConfig(input_filters=80, output_filters=112, kernel_size=5, num_repeat=3, expand_ratio=6, strides=(1, 1), se_ratio=0.25, id_skip=True, fused_conv=False, conv_type='depthwise'), BlockConfig(input_filters=112, output_filters=192, kernel_size=5, num_repeat=4, expand_ratio=6, strides=(2, 2), se_ratio=0.25, id_skip=True, fused_conv=False, conv_type='depthwise'), BlockConfig(input_filters=192, output_filters=320, kernel_size=3, num_repeat=1, expand_ratio=6, strides=(1, 1), se_ratio=0.25, id_skip=True, fused_conv=False, conv_type='depthwise')), stem_base_filters=32, top_base_filters=1280, activation='simple_swish', batch_norm='default', bn_momentum=0.99, bn_epsilon=0.001, weight_decay=5e-06, drop_connect_rate=0.2, depth_divisor=8, min_depth=None, use_se=True, input_channels=3, num_classes=1000, model_name='efficientnet', rescale_input=False, data_format='channels_last', dtype='float32')\n",
            "I1024 13:04:17.871884 140093042227072 ssd_efficientnet_bifpn_feature_extractor.py:143] EfficientDet EfficientNet backbone version: efficientnet-b5\n",
            "I1024 13:04:17.872105 140093042227072 ssd_efficientnet_bifpn_feature_extractor.py:144] EfficientDet BiFPN num filters: 288\n",
            "I1024 13:04:17.872210 140093042227072 ssd_efficientnet_bifpn_feature_extractor.py:146] EfficientDet BiFPN num iterations: 7\n",
            "I1024 13:04:17.874280 140093042227072 efficientnet_model.py:147] round_filter input=32 output=48\n",
            "I1024 13:04:17.892864 140093042227072 efficientnet_model.py:147] round_filter input=32 output=48\n",
            "I1024 13:04:17.893003 140093042227072 efficientnet_model.py:147] round_filter input=16 output=24\n",
            "I1024 13:04:18.119006 140093042227072 efficientnet_model.py:147] round_filter input=16 output=24\n",
            "I1024 13:04:18.119197 140093042227072 efficientnet_model.py:147] round_filter input=24 output=40\n",
            "I1024 13:04:18.576081 140093042227072 efficientnet_model.py:147] round_filter input=24 output=40\n",
            "I1024 13:04:18.576291 140093042227072 efficientnet_model.py:147] round_filter input=40 output=64\n",
            "I1024 13:04:19.033899 140093042227072 efficientnet_model.py:147] round_filter input=40 output=64\n",
            "I1024 13:04:19.034105 140093042227072 efficientnet_model.py:147] round_filter input=80 output=128\n",
            "I1024 13:04:19.678076 140093042227072 efficientnet_model.py:147] round_filter input=80 output=128\n",
            "I1024 13:04:19.678297 140093042227072 efficientnet_model.py:147] round_filter input=112 output=176\n",
            "I1024 13:04:20.572672 140093042227072 efficientnet_model.py:147] round_filter input=112 output=176\n",
            "I1024 13:04:20.572881 140093042227072 efficientnet_model.py:147] round_filter input=192 output=304\n",
            "I1024 13:04:21.419415 140093042227072 efficientnet_model.py:147] round_filter input=192 output=304\n",
            "I1024 13:04:21.419669 140093042227072 efficientnet_model.py:147] round_filter input=320 output=512\n",
            "I1024 13:04:21.690715 140093042227072 efficientnet_model.py:147] round_filter input=1280 output=2048\n",
            "I1024 13:04:21.724131 140093042227072 efficientnet_model.py:458] Building model efficientnet with params ModelConfig(width_coefficient=1.6, depth_coefficient=2.2, resolution=456, dropout_rate=0.4, blocks=(BlockConfig(input_filters=32, output_filters=16, kernel_size=3, num_repeat=1, expand_ratio=1, strides=(1, 1), se_ratio=0.25, id_skip=True, fused_conv=False, conv_type='depthwise'), BlockConfig(input_filters=16, output_filters=24, kernel_size=3, num_repeat=2, expand_ratio=6, strides=(2, 2), se_ratio=0.25, id_skip=True, fused_conv=False, conv_type='depthwise'), BlockConfig(input_filters=24, output_filters=40, kernel_size=5, num_repeat=2, expand_ratio=6, strides=(2, 2), se_ratio=0.25, id_skip=True, fused_conv=False, conv_type='depthwise'), BlockConfig(input_filters=40, output_filters=80, kernel_size=3, num_repeat=3, expand_ratio=6, strides=(2, 2), se_ratio=0.25, id_skip=True, fused_conv=False, conv_type='depthwise'), BlockConfig(input_filters=80, output_filters=112, kernel_size=5, num_repeat=3, expand_ratio=6, strides=(1, 1), se_ratio=0.25, id_skip=True, fused_conv=False, conv_type='depthwise'), BlockConfig(input_filters=112, output_filters=192, kernel_size=5, num_repeat=4, expand_ratio=6, strides=(2, 2), se_ratio=0.25, id_skip=True, fused_conv=False, conv_type='depthwise'), BlockConfig(input_filters=192, output_filters=320, kernel_size=3, num_repeat=1, expand_ratio=6, strides=(1, 1), se_ratio=0.25, id_skip=True, fused_conv=False, conv_type='depthwise')), stem_base_filters=32, top_base_filters=1280, activation='simple_swish', batch_norm='default', bn_momentum=0.99, bn_epsilon=0.001, weight_decay=5e-06, drop_connect_rate=0.2, depth_divisor=8, min_depth=None, use_se=True, input_channels=3, num_classes=1000, model_name='efficientnet', rescale_input=False, data_format='channels_last', dtype='float32')\n",
            "I1024 13:04:21.835354 140093042227072 ssd_efficientnet_bifpn_feature_extractor.py:143] EfficientDet EfficientNet backbone version: efficientnet-b6\n",
            "I1024 13:04:21.835559 140093042227072 ssd_efficientnet_bifpn_feature_extractor.py:144] EfficientDet BiFPN num filters: 384\n",
            "I1024 13:04:21.835666 140093042227072 ssd_efficientnet_bifpn_feature_extractor.py:146] EfficientDet BiFPN num iterations: 8\n",
            "I1024 13:04:21.837738 140093042227072 efficientnet_model.py:147] round_filter input=32 output=56\n",
            "I1024 13:04:21.857022 140093042227072 efficientnet_model.py:147] round_filter input=32 output=56\n",
            "I1024 13:04:21.857212 140093042227072 efficientnet_model.py:147] round_filter input=16 output=32\n",
            "I1024 13:04:22.075887 140093042227072 efficientnet_model.py:147] round_filter input=16 output=32\n",
            "I1024 13:04:22.076081 140093042227072 efficientnet_model.py:147] round_filter input=24 output=40\n",
            "I1024 13:04:22.642807 140093042227072 efficientnet_model.py:147] round_filter input=24 output=40\n",
            "I1024 13:04:22.643050 140093042227072 efficientnet_model.py:147] round_filter input=40 output=72\n",
            "I1024 13:04:23.196189 140093042227072 efficientnet_model.py:147] round_filter input=40 output=72\n",
            "I1024 13:04:23.196410 140093042227072 efficientnet_model.py:147] round_filter input=80 output=144\n",
            "I1024 13:04:23.925459 140093042227072 efficientnet_model.py:147] round_filter input=80 output=144\n",
            "I1024 13:04:23.925683 140093042227072 efficientnet_model.py:147] round_filter input=112 output=200\n",
            "I1024 13:04:24.663279 140093042227072 efficientnet_model.py:147] round_filter input=112 output=200\n",
            "I1024 13:04:24.663509 140093042227072 efficientnet_model.py:147] round_filter input=192 output=344\n",
            "I1024 13:04:25.904712 140093042227072 efficientnet_model.py:147] round_filter input=192 output=344\n",
            "I1024 13:04:25.904914 140093042227072 efficientnet_model.py:147] round_filter input=320 output=576\n",
            "I1024 13:04:26.176598 140093042227072 efficientnet_model.py:147] round_filter input=1280 output=2304\n",
            "I1024 13:04:26.212890 140093042227072 efficientnet_model.py:458] Building model efficientnet with params ModelConfig(width_coefficient=1.8, depth_coefficient=2.6, resolution=528, dropout_rate=0.5, blocks=(BlockConfig(input_filters=32, output_filters=16, kernel_size=3, num_repeat=1, expand_ratio=1, strides=(1, 1), se_ratio=0.25, id_skip=True, fused_conv=False, conv_type='depthwise'), BlockConfig(input_filters=16, output_filters=24, kernel_size=3, num_repeat=2, expand_ratio=6, strides=(2, 2), se_ratio=0.25, id_skip=True, fused_conv=False, conv_type='depthwise'), BlockConfig(input_filters=24, output_filters=40, kernel_size=5, num_repeat=2, expand_ratio=6, strides=(2, 2), se_ratio=0.25, id_skip=True, fused_conv=False, conv_type='depthwise'), BlockConfig(input_filters=40, output_filters=80, kernel_size=3, num_repeat=3, expand_ratio=6, strides=(2, 2), se_ratio=0.25, id_skip=True, fused_conv=False, conv_type='depthwise'), BlockConfig(input_filters=80, output_filters=112, kernel_size=5, num_repeat=3, expand_ratio=6, strides=(1, 1), se_ratio=0.25, id_skip=True, fused_conv=False, conv_type='depthwise'), BlockConfig(input_filters=112, output_filters=192, kernel_size=5, num_repeat=4, expand_ratio=6, strides=(2, 2), se_ratio=0.25, id_skip=True, fused_conv=False, conv_type='depthwise'), BlockConfig(input_filters=192, output_filters=320, kernel_size=3, num_repeat=1, expand_ratio=6, strides=(1, 1), se_ratio=0.25, id_skip=True, fused_conv=False, conv_type='depthwise')), stem_base_filters=32, top_base_filters=1280, activation='simple_swish', batch_norm='default', bn_momentum=0.99, bn_epsilon=0.001, weight_decay=5e-06, drop_connect_rate=0.2, depth_divisor=8, min_depth=None, use_se=True, input_channels=3, num_classes=1000, model_name='efficientnet', rescale_input=False, data_format='channels_last', dtype='float32')\n",
            "I1024 13:04:26.335192 140093042227072 ssd_efficientnet_bifpn_feature_extractor.py:143] EfficientDet EfficientNet backbone version: efficientnet-b7\n",
            "I1024 13:04:26.335406 140093042227072 ssd_efficientnet_bifpn_feature_extractor.py:144] EfficientDet BiFPN num filters: 384\n",
            "I1024 13:04:26.335535 140093042227072 ssd_efficientnet_bifpn_feature_extractor.py:146] EfficientDet BiFPN num iterations: 8\n",
            "I1024 13:04:26.337984 140093042227072 efficientnet_model.py:147] round_filter input=32 output=64\n",
            "I1024 13:04:26.356701 140093042227072 efficientnet_model.py:147] round_filter input=32 output=64\n",
            "I1024 13:04:26.356832 140093042227072 efficientnet_model.py:147] round_filter input=16 output=32\n",
            "I1024 13:04:26.654335 140093042227072 efficientnet_model.py:147] round_filter input=16 output=32\n",
            "I1024 13:04:26.654555 140093042227072 efficientnet_model.py:147] round_filter input=24 output=48\n",
            "I1024 13:04:27.299210 140093042227072 efficientnet_model.py:147] round_filter input=24 output=48\n",
            "I1024 13:04:27.299435 140093042227072 efficientnet_model.py:147] round_filter input=40 output=80\n",
            "I1024 13:04:27.934382 140093042227072 efficientnet_model.py:147] round_filter input=40 output=80\n",
            "I1024 13:04:27.934624 140093042227072 efficientnet_model.py:147] round_filter input=80 output=160\n",
            "I1024 13:04:28.858333 140093042227072 efficientnet_model.py:147] round_filter input=80 output=160\n",
            "I1024 13:04:28.858595 140093042227072 efficientnet_model.py:147] round_filter input=112 output=224\n",
            "I1024 13:04:29.767822 140093042227072 efficientnet_model.py:147] round_filter input=112 output=224\n",
            "I1024 13:04:29.768022 140093042227072 efficientnet_model.py:147] round_filter input=192 output=384\n",
            "I1024 13:04:30.965644 140093042227072 efficientnet_model.py:147] round_filter input=192 output=384\n",
            "I1024 13:04:30.965878 140093042227072 efficientnet_model.py:147] round_filter input=320 output=640\n",
            "I1024 13:04:31.612931 140093042227072 efficientnet_model.py:147] round_filter input=1280 output=2560\n",
            "I1024 13:04:31.647694 140093042227072 efficientnet_model.py:458] Building model efficientnet with params ModelConfig(width_coefficient=2.0, depth_coefficient=3.1, resolution=600, dropout_rate=0.5, blocks=(BlockConfig(input_filters=32, output_filters=16, kernel_size=3, num_repeat=1, expand_ratio=1, strides=(1, 1), se_ratio=0.25, id_skip=True, fused_conv=False, conv_type='depthwise'), BlockConfig(input_filters=16, output_filters=24, kernel_size=3, num_repeat=2, expand_ratio=6, strides=(2, 2), se_ratio=0.25, id_skip=True, fused_conv=False, conv_type='depthwise'), BlockConfig(input_filters=24, output_filters=40, kernel_size=5, num_repeat=2, expand_ratio=6, strides=(2, 2), se_ratio=0.25, id_skip=True, fused_conv=False, conv_type='depthwise'), BlockConfig(input_filters=40, output_filters=80, kernel_size=3, num_repeat=3, expand_ratio=6, strides=(2, 2), se_ratio=0.25, id_skip=True, fused_conv=False, conv_type='depthwise'), BlockConfig(input_filters=80, output_filters=112, kernel_size=5, num_repeat=3, expand_ratio=6, strides=(1, 1), se_ratio=0.25, id_skip=True, fused_conv=False, conv_type='depthwise'), BlockConfig(input_filters=112, output_filters=192, kernel_size=5, num_repeat=4, expand_ratio=6, strides=(2, 2), se_ratio=0.25, id_skip=True, fused_conv=False, conv_type='depthwise'), BlockConfig(input_filters=192, output_filters=320, kernel_size=3, num_repeat=1, expand_ratio=6, strides=(1, 1), se_ratio=0.25, id_skip=True, fused_conv=False, conv_type='depthwise')), stem_base_filters=32, top_base_filters=1280, activation='simple_swish', batch_norm='default', bn_momentum=0.99, bn_epsilon=0.001, weight_decay=5e-06, drop_connect_rate=0.2, depth_divisor=8, min_depth=None, use_se=True, input_channels=3, num_classes=1000, model_name='efficientnet', rescale_input=False, data_format='channels_last', dtype='float32')\n",
            "INFO:tensorflow:time(__main__.ModelBuilderTF2Test.test_create_ssd_models_from_config): 26.04s\n",
            "I1024 13:04:31.792334 140093042227072 test_util.py:2189] time(__main__.ModelBuilderTF2Test.test_create_ssd_models_from_config): 26.04s\n",
            "[       OK ] ModelBuilderTF2Test.test_create_ssd_models_from_config\n",
            "[ RUN      ] ModelBuilderTF2Test.test_invalid_faster_rcnn_batchnorm_update\n",
            "INFO:tensorflow:time(__main__.ModelBuilderTF2Test.test_invalid_faster_rcnn_batchnorm_update): 0.0s\n",
            "I1024 13:04:31.799347 140093042227072 test_util.py:2189] time(__main__.ModelBuilderTF2Test.test_invalid_faster_rcnn_batchnorm_update): 0.0s\n",
            "[       OK ] ModelBuilderTF2Test.test_invalid_faster_rcnn_batchnorm_update\n",
            "[ RUN      ] ModelBuilderTF2Test.test_invalid_first_stage_nms_iou_threshold\n",
            "INFO:tensorflow:time(__main__.ModelBuilderTF2Test.test_invalid_first_stage_nms_iou_threshold): 0.0s\n",
            "I1024 13:04:31.801422 140093042227072 test_util.py:2189] time(__main__.ModelBuilderTF2Test.test_invalid_first_stage_nms_iou_threshold): 0.0s\n",
            "[       OK ] ModelBuilderTF2Test.test_invalid_first_stage_nms_iou_threshold\n",
            "[ RUN      ] ModelBuilderTF2Test.test_invalid_model_config_proto\n",
            "INFO:tensorflow:time(__main__.ModelBuilderTF2Test.test_invalid_model_config_proto): 0.0s\n",
            "I1024 13:04:31.802090 140093042227072 test_util.py:2189] time(__main__.ModelBuilderTF2Test.test_invalid_model_config_proto): 0.0s\n",
            "[       OK ] ModelBuilderTF2Test.test_invalid_model_config_proto\n",
            "[ RUN      ] ModelBuilderTF2Test.test_invalid_second_stage_batch_size\n",
            "INFO:tensorflow:time(__main__.ModelBuilderTF2Test.test_invalid_second_stage_batch_size): 0.0s\n",
            "I1024 13:04:31.804013 140093042227072 test_util.py:2189] time(__main__.ModelBuilderTF2Test.test_invalid_second_stage_batch_size): 0.0s\n",
            "[       OK ] ModelBuilderTF2Test.test_invalid_second_stage_batch_size\n",
            "[ RUN      ] ModelBuilderTF2Test.test_session\n",
            "[  SKIPPED ] ModelBuilderTF2Test.test_session\n",
            "[ RUN      ] ModelBuilderTF2Test.test_unknown_faster_rcnn_feature_extractor\n",
            "INFO:tensorflow:time(__main__.ModelBuilderTF2Test.test_unknown_faster_rcnn_feature_extractor): 0.0s\n",
            "I1024 13:04:31.805856 140093042227072 test_util.py:2189] time(__main__.ModelBuilderTF2Test.test_unknown_faster_rcnn_feature_extractor): 0.0s\n",
            "[       OK ] ModelBuilderTF2Test.test_unknown_faster_rcnn_feature_extractor\n",
            "[ RUN      ] ModelBuilderTF2Test.test_unknown_meta_architecture\n",
            "INFO:tensorflow:time(__main__.ModelBuilderTF2Test.test_unknown_meta_architecture): 0.0s\n",
            "I1024 13:04:31.806459 140093042227072 test_util.py:2189] time(__main__.ModelBuilderTF2Test.test_unknown_meta_architecture): 0.0s\n",
            "[       OK ] ModelBuilderTF2Test.test_unknown_meta_architecture\n",
            "[ RUN      ] ModelBuilderTF2Test.test_unknown_ssd_feature_extractor\n",
            "INFO:tensorflow:time(__main__.ModelBuilderTF2Test.test_unknown_ssd_feature_extractor): 0.0s\n",
            "I1024 13:04:31.807729 140093042227072 test_util.py:2189] time(__main__.ModelBuilderTF2Test.test_unknown_ssd_feature_extractor): 0.0s\n",
            "[       OK ] ModelBuilderTF2Test.test_unknown_ssd_feature_extractor\n",
            "----------------------------------------------------------------------\n",
            "Ran 24 tests in 36.000s\n",
            "\n",
            "OK (skipped=1)\n"
          ]
        }
      ]
    },
    {
      "cell_type": "markdown",
      "metadata": {
        "id": "Y6C6WR9FJtZ1"
      },
      "source": [
        "## Make Directory and load pretrain model\n"
      ]
    },
    {
      "cell_type": "markdown",
      "metadata": {
        "id": "cJlejuFMLyzV"
      },
      "source": [
        "### make directory and subfolder as list below\n",
        "![image.png](data:image/png;base64,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)\n"
      ]
    },
    {
      "cell_type": "code",
      "metadata": {
        "colab": {
          "base_uri": "https://localhost:8080/"
        },
        "id": "3UJjA0t0LPfV",
        "outputId": "e1ce0db9-8f63-4304-d872-6c152bacf0db"
      },
      "source": [
        "cd /content/"
      ],
      "execution_count": null,
      "outputs": [
        {
          "output_type": "stream",
          "name": "stdout",
          "text": [
            "/content\n"
          ]
        }
      ]
    },
    {
      "cell_type": "code",
      "metadata": {
        "id": "oiegwfUCLS34"
      },
      "source": [
        "!mkdir training_demo"
      ],
      "execution_count": null,
      "outputs": []
    },
    {
      "cell_type": "code",
      "metadata": {
        "colab": {
          "base_uri": "https://localhost:8080/"
        },
        "id": "aA80WWwvLptE",
        "outputId": "a2045f44-456e-4279-b8e6-c2eb40a11ecc"
      },
      "source": [
        "cd \"training_demo\""
      ],
      "execution_count": null,
      "outputs": [
        {
          "output_type": "stream",
          "name": "stdout",
          "text": [
            "/content/training_demo\n"
          ]
        }
      ]
    },
    {
      "cell_type": "code",
      "metadata": {
        "id": "5VbKwFZ1J19U"
      },
      "source": [
        "!mkdir annotations\n",
        "!mkdir exported-models\n",
        "!mkdir images\n",
        "!mkdir models\n",
        "!mkdir pre-trained-models"
      ],
      "execution_count": null,
      "outputs": []
    },
    {
      "cell_type": "code",
      "metadata": {
        "colab": {
          "base_uri": "https://localhost:8080/"
        },
        "id": "mrtSyJFxN-v0",
        "outputId": "326204ce-4a56-4c66-a2aa-b348af9fed02"
      },
      "source": [
        "cd /content/training_demo/images/"
      ],
      "execution_count": null,
      "outputs": [
        {
          "output_type": "stream",
          "name": "stdout",
          "text": [
            "/content/training_demo/images\n"
          ]
        }
      ]
    },
    {
      "cell_type": "code",
      "metadata": {
        "id": "mJXuIdU-OOEP"
      },
      "source": [
        "!mkdir train\n",
        "!mkdir test"
      ],
      "execution_count": null,
      "outputs": []
    },
    {
      "cell_type": "markdown",
      "metadata": {
        "id": "qn_6X-XJetRR"
      },
      "source": [
        "## Labeling you own dataset\n",
        "use labelimg library to make your own anotation files as .XML\n",
        "the upload both XML file and Images to images/train and images/test dataset\n",
        "\n",
        "How to use Labelimg [click!!](https://www.youtube.com/watch?v=Tlvy-eM8YO4)\n",
        " "
      ]
    },
    {
      "cell_type": "code",
      "metadata": {
        "id": "eXKgax-c85wa",
        "colab": {
          "base_uri": "https://localhost:8080/"
        },
        "outputId": "730c056b-9207-40a6-9711-b5d40c123193"
      },
      "source": [
        "cd /content/training_demo/pre-trained-models"
      ],
      "execution_count": null,
      "outputs": [
        {
          "output_type": "stream",
          "name": "stdout",
          "text": [
            "/content/training_demo/pre-trained-models\n"
          ]
        }
      ]
    },
    {
      "cell_type": "code",
      "metadata": {
        "colab": {
          "base_uri": "https://localhost:8080/",
          "height": 35
        },
        "id": "3QYqwroAx-IW",
        "outputId": "5038b898-6085-4a8e-beb7-50dfc05265fb"
      },
      "source": [
        "pwd"
      ],
      "execution_count": null,
      "outputs": [
        {
          "output_type": "execute_result",
          "data": {
            "application/vnd.google.colaboratory.intrinsic+json": {
              "type": "string"
            },
            "text/plain": [
              "'/content/training_demo/pre-trained-models'"
            ]
          },
          "metadata": {},
          "execution_count": 23
        }
      ]
    },
    {
      "cell_type": "markdown",
      "metadata": {
        "id": "tvV7qCg8l9zZ"
      },
      "source": [
        "## Download pretrain model\n",
        "\n",
        "Download pre-train model from [Tensorflow model github](https://github.com/tensorflow/models/blob/master/research/object_detection/g3doc/tf2_detection_zoo.md)\n",
        "\n",
        "In this notebook. the ResNet101 are chosen."
      ]
    },
    {
      "cell_type": "code",
      "metadata": {
        "colab": {
          "base_uri": "https://localhost:8080/"
        },
        "id": "dAosP046x-GF",
        "outputId": "9d71a60f-1f1f-4850-da7d-800e9ee08313"
      },
      "source": [
        "# Download pretrain model as Zip file\n",
        "!wget http://download.tensorflow.org/models/object_detection/tf2/20200711/ssd_resnet101_v1_fpn_640x640_coco17_tpu-8.tar.gz"
      ],
      "execution_count": null,
      "outputs": [
        {
          "output_type": "stream",
          "name": "stdout",
          "text": [
            "--2021-10-24 13:14:39--  http://download.tensorflow.org/models/object_detection/tf2/20200711/ssd_resnet101_v1_fpn_640x640_coco17_tpu-8.tar.gz\n",
            "Resolving download.tensorflow.org (download.tensorflow.org)... 142.251.8.128, 2404:6800:4008:c15::80\n",
            "Connecting to download.tensorflow.org (download.tensorflow.org)|142.251.8.128|:80... connected.\n",
            "HTTP request sent, awaiting response... 200 OK\n",
            "Length: 386527459 (369M) [application/x-tar]\n",
            "Saving to: ‘ssd_resnet101_v1_fpn_640x640_coco17_tpu-8.tar.gz’\n",
            "\n",
            "ssd_resnet101_v1_fp 100%[===================>] 368.62M  88.8MB/s    in 4.2s    \n",
            "\n",
            "2021-10-24 13:14:43 (88.8 MB/s) - ‘ssd_resnet101_v1_fpn_640x640_coco17_tpu-8.tar.gz’ saved [386527459/386527459]\n",
            "\n"
          ]
        }
      ]
    },
    {
      "cell_type": "code",
      "metadata": {
        "colab": {
          "base_uri": "https://localhost:8080/"
        },
        "id": "1VI7Ud8Ax-Dw",
        "outputId": "44cd1866-3947-4f7e-ebc2-111e8c04f5df"
      },
      "source": [
        "# Extract zip file\n",
        "!tar -xvf ssd_resnet101_v1_fpn_640x640_coco17_tpu-8.tar.gz"
      ],
      "execution_count": null,
      "outputs": [
        {
          "output_type": "stream",
          "name": "stdout",
          "text": [
            "ssd_resnet101_v1_fpn_640x640_coco17_tpu-8/\n",
            "ssd_resnet101_v1_fpn_640x640_coco17_tpu-8/checkpoint/\n",
            "ssd_resnet101_v1_fpn_640x640_coco17_tpu-8/checkpoint/ckpt-0.data-00000-of-00001\n",
            "ssd_resnet101_v1_fpn_640x640_coco17_tpu-8/checkpoint/checkpoint\n",
            "ssd_resnet101_v1_fpn_640x640_coco17_tpu-8/checkpoint/ckpt-0.index\n",
            "ssd_resnet101_v1_fpn_640x640_coco17_tpu-8/pipeline.config\n",
            "ssd_resnet101_v1_fpn_640x640_coco17_tpu-8/saved_model/\n",
            "ssd_resnet101_v1_fpn_640x640_coco17_tpu-8/saved_model/saved_model.pb\n",
            "ssd_resnet101_v1_fpn_640x640_coco17_tpu-8/saved_model/assets/\n",
            "ssd_resnet101_v1_fpn_640x640_coco17_tpu-8/saved_model/variables/\n",
            "ssd_resnet101_v1_fpn_640x640_coco17_tpu-8/saved_model/variables/variables.data-00000-of-00001\n",
            "ssd_resnet101_v1_fpn_640x640_coco17_tpu-8/saved_model/variables/variables.index\n"
          ]
        }
      ]
    },
    {
      "cell_type": "code",
      "metadata": {
        "colab": {
          "base_uri": "https://localhost:8080/"
        },
        "id": "slFvtHjpkdkl",
        "outputId": "dc384ae1-d774-4adf-f55a-ebf47f77f94a"
      },
      "source": [
        "cd /content/training_demo/annotations"
      ],
      "execution_count": null,
      "outputs": [
        {
          "output_type": "stream",
          "name": "stdout",
          "text": [
            "/content/training_demo/annotations\n"
          ]
        }
      ]
    },
    {
      "cell_type": "code",
      "metadata": {
        "id": "qDAt8jr4kFAB"
      },
      "source": [
        "## create touch_map.pbtxt file\n",
        "!touch label_map.pbtxt\n",
        "\n",
        "## create label map as below in example assume there are two class cat and dog\n",
        "# item {\n",
        "#     id: 1\n",
        "#     name: 'cat'\n",
        "# }\n",
        "\n",
        "# item {\n",
        "#     id: 2\n",
        "#     name: 'dog'\n",
        "# }"
      ],
      "execution_count": null,
      "outputs": []
    },
    {
      "cell_type": "markdown",
      "metadata": {
        "id": "FlNOw5aQ1z34"
      },
      "source": [
        "## Create TensorFlow Records \n",
        "\n",
        "1.[Download](https://tensorflow-object-detection-api-tutorial.readthedocs.io/en/latest/_downloads/da4babe668a8afb093cc7776d7e630f3/generate_tfrecord.py) python script file from tensorflow [document](https://tensorflow-object-detection-api-tutorial.readthedocs.io/en/latest/training.html#create-tensorflow-records) and save to training_demo\n",
        "2. Run script file to create  record files"
      ]
    },
    {
      "cell_type": "code",
      "metadata": {
        "colab": {
          "base_uri": "https://localhost:8080/"
        },
        "id": "g8_n8a_Yx-Bp",
        "outputId": "f3d7bc66-4bf7-4745-f3b8-f0a6cc0fbdc1"
      },
      "source": [
        "cd .."
      ],
      "execution_count": null,
      "outputs": [
        {
          "output_type": "stream",
          "name": "stdout",
          "text": [
            "/content/training_demo\n"
          ]
        }
      ]
    },
    {
      "cell_type": "code",
      "metadata": {
        "colab": {
          "base_uri": "https://localhost:8080/"
        },
        "id": "nj9JVdrktK5-",
        "outputId": "10dd05dc-617a-4333-ee45-b6ea43a52ab6"
      },
      "source": [
        "## Download Python scripts\n",
        "!wget https://tensorflow-object-detection-api-tutorial.readthedocs.io/en/latest/_downloads/da4babe668a8afb093cc7776d7e630f3/generate_tfrecord.py"
      ],
      "execution_count": null,
      "outputs": [
        {
          "output_type": "stream",
          "name": "stdout",
          "text": [
            "--2021-10-24 13:16:32--  https://tensorflow-object-detection-api-tutorial.readthedocs.io/en/latest/_downloads/da4babe668a8afb093cc7776d7e630f3/generate_tfrecord.py\n",
            "Resolving tensorflow-object-detection-api-tutorial.readthedocs.io (tensorflow-object-detection-api-tutorial.readthedocs.io)... 104.17.33.82, 104.17.32.82, 2606:4700::6811:2152, ...\n",
            "Connecting to tensorflow-object-detection-api-tutorial.readthedocs.io (tensorflow-object-detection-api-tutorial.readthedocs.io)|104.17.33.82|:443... connected.\n",
            "HTTP request sent, awaiting response... 200 OK\n",
            "Length: 6410 (6.3K) [text/x-python]\n",
            "Saving to: ‘generate_tfrecord.py’\n",
            "\n",
            "generate_tfrecord.p 100%[===================>]   6.26K  --.-KB/s    in 0s      \n",
            "\n",
            "2021-10-24 13:16:33 (50.3 MB/s) - ‘generate_tfrecord.py’ saved [6410/6410]\n",
            "\n"
          ]
        }
      ]
    },
    {
      "cell_type": "markdown",
      "metadata": {
        "id": "wCAEIcFMtxXf"
      },
      "source": [
        ""
      ]
    },
    {
      "cell_type": "code",
      "metadata": {
        "colab": {
          "base_uri": "https://localhost:8080/"
        },
        "id": "8PQiKPKpx9_z",
        "outputId": "05d480ad-d5e1-4bd4-eeb9-e6af46187a58"
      },
      "source": [
        "# Create train data:\n",
        "!python generate_tfrecord.py -x /content/training_demo/images/train -l /content/training_demo/annotations/label_map.pbtxt -o /content/training_demo/annotations/train.record\n",
        "\n",
        "# Create test data:\n",
        "!python generate_tfrecord.py -x /content/training_demo/images/test -l /content/training_demo/annotations/label_map.pbtxt -o /content/training_demo/annotations/test.record\n",
        "\n",
        "# For example\n",
        "# python generate_tfrecord.py -x C:/Users/sglvladi/Documents/Tensorflow/workspace/training_demo/images/train -l C:/Users/sglvladi/Documents/Tensorflow/workspace/training_demo/annotations/label_map.pbtxt -o C:/Users/sglvladi/Documents/Tensorflow/workspace/training_demo/annotations/train.record\n",
        "# python generate_tfrecord.py -x C:/Users/sglvladi/Documents/Tensorflow/workspace/training_demo/images/test -l C:/Users/sglvladi/Documents/Tensorflow2/workspace/training_demo/annotations/label_map.pbtxt -o C:/Users/sglvladi/Documents/Tensorflow/workspace/training_demo/annotations/test.record"
      ],
      "execution_count": null,
      "outputs": [
        {
          "output_type": "stream",
          "name": "stdout",
          "text": [
            "Successfully created the TFRecord file: /content/training_demo/annotations/train.record\n",
            "Successfully created the TFRecord file: /content/training_demo/annotations/test.record\n"
          ]
        }
      ]
    },
    {
      "cell_type": "code",
      "metadata": {
        "colab": {
          "base_uri": "https://localhost:8080/",
          "height": 35
        },
        "id": "mM4N81mYx99l",
        "outputId": "f258ce9b-5f8c-4f72-cf56-2b6519261080"
      },
      "source": [
        "pwd"
      ],
      "execution_count": null,
      "outputs": [
        {
          "output_type": "execute_result",
          "data": {
            "application/vnd.google.colaboratory.intrinsic+json": {
              "type": "string"
            },
            "text/plain": [
              "'/content/training_demo'"
            ]
          },
          "metadata": {},
          "execution_count": 33
        }
      ]
    },
    {
      "cell_type": "code",
      "metadata": {
        "colab": {
          "base_uri": "https://localhost:8080/"
        },
        "id": "fGJB6pwtpqql",
        "outputId": "1753a97d-566b-4b7b-b809-acb26b8c3bb7"
      },
      "source": [
        "cd /content/training_demo/models"
      ],
      "execution_count": null,
      "outputs": [
        {
          "output_type": "stream",
          "name": "stdout",
          "text": [
            "/content/training_demo/models\n"
          ]
        }
      ]
    },
    {
      "cell_type": "markdown",
      "metadata": {
        "id": "nLYLkTAbp4YF"
      },
      "source": [
        "## Pipeline configuration\n",
        " Before we start training custom model. The config file must relevance to you own class of dataset , config proper batch_size and config dataset path as [document](https://tensorflow-object-detection-api-tutorial.readthedocs.io/en/latest/training.html#configure-the-training-pipeline)\n",
        "\n",
        "* Line 3 for classes ( Assume there are two classes cat and dog then set 2)\n",
        "* Line 131 for batch_size \n",
        "* Line 161 for fine_tune_checkpoint set as \"/content/training_demo/pre-trained-models/ssd_resnet101_v1_fpn_640x640_coco17_tpu-8/checkpoint/ckpt-0.index\"\n",
        "* Line 167 for fine_tune_checkpoint_type set as \"detection\"\n",
        "* Line 172,182 for label_map_path set as \"/content/training_demo/annotations/label_map.pbtxt\"\n",
        "* Line 174 for train_path set as \"/content/training_demo/annotations/train.record\"\n",
        "* Line 186 for test_path set as \"/content/training_demo/annotations/test.record\"\n",
        "* Line 168 set as \"false\" if you use gpu if you use tpu set as \"true\"\n"
      ]
    },
    {
      "cell_type": "code",
      "metadata": {
        "id": "WCRpAwiGx1JC"
      },
      "source": [
        "# make sub directory in training_demo/models\n",
        "!mkdir my_ssd_resnet101_v1_fpn"
      ],
      "execution_count": null,
      "outputs": []
    },
    {
      "cell_type": "code",
      "metadata": {
        "id": "nMxuRE2MyKGW"
      },
      "source": [
        "# Copy config file\n",
        "!cp /content/training_demo/pre-trained-models/ssd_resnet101_v1_fpn_640x640_coco17_tpu-8/pipeline.config /content/training_demo/models/my_ssd_resnet101_v1_fpn/pipeline.config"
      ],
      "execution_count": null,
      "outputs": []
    },
    {
      "cell_type": "markdown",
      "metadata": {
        "id": "EeQrQ0p_3t_n"
      },
      "source": [
        "## Training model\n",
        "1. Copy python scripts file (model_main_tf2.py) to training_model\n",
        "2. Run scripts file"
      ]
    },
    {
      "cell_type": "code",
      "metadata": {
        "id": "Is2a9ori3sy_"
      },
      "source": [
        "!cp /content/models/research/object_detection/model_main_tf2.py  /content/training_demo/model_main_tf2.py"
      ],
      "execution_count": null,
      "outputs": []
    },
    {
      "cell_type": "code",
      "metadata": {
        "colab": {
          "base_uri": "https://localhost:8080/"
        },
        "id": "bKJ4n4r_4yuQ",
        "outputId": "2f33acfc-ceb5-42f9-e74b-0772e7163716"
      },
      "source": [
        "cd /content/training_demo"
      ],
      "execution_count": null,
      "outputs": [
        {
          "output_type": "stream",
          "name": "stdout",
          "text": [
            "/content/training_demo\n"
          ]
        }
      ]
    },
    {
      "cell_type": "code",
      "metadata": {
        "colab": {
          "base_uri": "https://localhost:8080/"
        },
        "id": "3z8ip5a7x963",
        "outputId": "3b31a9e4-3934-4c33-c4a7-2134aac030e8"
      },
      "source": [
        "!python model_main_tf2.py --model_dir=/content/training_demo/models/my_ssd_resnet101_v1_fpn --pipeline_config_path=/content/training_demo/models/my_ssd_resnet101_v1_fpn/pipeline.config"
      ],
      "execution_count": null,
      "outputs": [
        {
          "output_type": "stream",
          "name": "stdout",
          "text": [
            "2021-10-24 13:30:38.359655: I tensorflow/stream_executor/cuda/cuda_gpu_executor.cc:937] successful NUMA node read from SysFS had negative value (-1), but there must be at least one NUMA node, so returning NUMA node zero\n",
            "2021-10-24 13:30:38.792746: I tensorflow/stream_executor/cuda/cuda_gpu_executor.cc:937] successful NUMA node read from SysFS had negative value (-1), but there must be at least one NUMA node, so returning NUMA node zero\n",
            "2021-10-24 13:30:38.793660: I tensorflow/stream_executor/cuda/cuda_gpu_executor.cc:937] successful NUMA node read from SysFS had negative value (-1), but there must be at least one NUMA node, so returning NUMA node zero\n",
            "2021-10-24 13:30:38.799468: I tensorflow/stream_executor/cuda/cuda_gpu_executor.cc:937] successful NUMA node read from SysFS had negative value (-1), but there must be at least one NUMA node, so returning NUMA node zero\n",
            "2021-10-24 13:30:38.800338: I tensorflow/stream_executor/cuda/cuda_gpu_executor.cc:937] successful NUMA node read from SysFS had negative value (-1), but there must be at least one NUMA node, so returning NUMA node zero\n",
            "2021-10-24 13:30:38.801263: I tensorflow/stream_executor/cuda/cuda_gpu_executor.cc:937] successful NUMA node read from SysFS had negative value (-1), but there must be at least one NUMA node, so returning NUMA node zero\n",
            "2021-10-24 13:30:43.790107: I tensorflow/stream_executor/cuda/cuda_gpu_executor.cc:937] successful NUMA node read from SysFS had negative value (-1), but there must be at least one NUMA node, so returning NUMA node zero\n",
            "2021-10-24 13:30:43.791012: I tensorflow/stream_executor/cuda/cuda_gpu_executor.cc:937] successful NUMA node read from SysFS had negative value (-1), but there must be at least one NUMA node, so returning NUMA node zero\n",
            "2021-10-24 13:30:43.791855: I tensorflow/stream_executor/cuda/cuda_gpu_executor.cc:937] successful NUMA node read from SysFS had negative value (-1), but there must be at least one NUMA node, so returning NUMA node zero\n",
            "2021-10-24 13:30:43.795721: W tensorflow/core/common_runtime/gpu/gpu_bfc_allocator.cc:39] Overriding allow_growth setting because the TF_FORCE_GPU_ALLOW_GROWTH environment variable is set. Original config value was 0.\n",
            "2021-10-24 13:30:43.795815: I tensorflow/core/common_runtime/gpu/gpu_device.cc:1510] Created device /job:localhost/replica:0/task:0/device:GPU:0 with 10819 MB memory:  -> device: 0, name: Tesla K80, pci bus id: 0000:00:04.0, compute capability: 3.7\n",
            "INFO:tensorflow:Using MirroredStrategy with devices ('/job:localhost/replica:0/task:0/device:GPU:0',)\n",
            "I1024 13:30:43.879617 140319866206080 mirrored_strategy.py:369] Using MirroredStrategy with devices ('/job:localhost/replica:0/task:0/device:GPU:0',)\n",
            "INFO:tensorflow:Maybe overwriting train_steps: None\n",
            "I1024 13:30:43.887017 140319866206080 config_util.py:552] Maybe overwriting train_steps: None\n",
            "INFO:tensorflow:Maybe overwriting use_bfloat16: False\n",
            "I1024 13:30:43.887181 140319866206080 config_util.py:552] Maybe overwriting use_bfloat16: False\n",
            "WARNING:tensorflow:From /usr/local/lib/python3.7/dist-packages/object_detection/model_lib_v2.py:558: StrategyBase.experimental_distribute_datasets_from_function (from tensorflow.python.distribute.distribute_lib) is deprecated and will be removed in a future version.\n",
            "Instructions for updating:\n",
            "rename to distribute_datasets_from_function\n",
            "W1024 13:30:44.035893 140319866206080 deprecation.py:345] From /usr/local/lib/python3.7/dist-packages/object_detection/model_lib_v2.py:558: StrategyBase.experimental_distribute_datasets_from_function (from tensorflow.python.distribute.distribute_lib) is deprecated and will be removed in a future version.\n",
            "Instructions for updating:\n",
            "rename to distribute_datasets_from_function\n",
            "INFO:tensorflow:Reading unweighted datasets: ['/content/training_demo/annotations/train.record']\n",
            "I1024 13:30:44.057291 140319866206080 dataset_builder.py:163] Reading unweighted datasets: ['/content/training_demo/annotations/train.record']\n",
            "INFO:tensorflow:Reading record datasets for input file: ['/content/training_demo/annotations/train.record']\n",
            "I1024 13:30:44.057559 140319866206080 dataset_builder.py:80] Reading record datasets for input file: ['/content/training_demo/annotations/train.record']\n",
            "INFO:tensorflow:Number of filenames to read: 1\n",
            "I1024 13:30:44.057700 140319866206080 dataset_builder.py:81] Number of filenames to read: 1\n",
            "WARNING:tensorflow:num_readers has been reduced to 1 to match input file shards.\n",
            "W1024 13:30:44.057827 140319866206080 dataset_builder.py:88] num_readers has been reduced to 1 to match input file shards.\n",
            "WARNING:tensorflow:From /usr/local/lib/python3.7/dist-packages/object_detection/builders/dataset_builder.py:105: parallel_interleave (from tensorflow.python.data.experimental.ops.interleave_ops) is deprecated and will be removed in a future version.\n",
            "Instructions for updating:\n",
            "Use `tf.data.Dataset.interleave(map_func, cycle_length, block_length, num_parallel_calls=tf.data.AUTOTUNE)` instead. If sloppy execution is desired, use `tf.data.Options.experimental_deterministic`.\n",
            "W1024 13:30:44.075920 140319866206080 deprecation.py:345] From /usr/local/lib/python3.7/dist-packages/object_detection/builders/dataset_builder.py:105: parallel_interleave (from tensorflow.python.data.experimental.ops.interleave_ops) is deprecated and will be removed in a future version.\n",
            "Instructions for updating:\n",
            "Use `tf.data.Dataset.interleave(map_func, cycle_length, block_length, num_parallel_calls=tf.data.AUTOTUNE)` instead. If sloppy execution is desired, use `tf.data.Options.experimental_deterministic`.\n",
            "WARNING:tensorflow:From /usr/local/lib/python3.7/dist-packages/object_detection/builders/dataset_builder.py:237: DatasetV1.map_with_legacy_function (from tensorflow.python.data.ops.dataset_ops) is deprecated and will be removed in a future version.\n",
            "Instructions for updating:\n",
            "Use `tf.data.Dataset.map()\n",
            "W1024 13:30:44.118559 140319866206080 deprecation.py:345] From /usr/local/lib/python3.7/dist-packages/object_detection/builders/dataset_builder.py:237: DatasetV1.map_with_legacy_function (from tensorflow.python.data.ops.dataset_ops) is deprecated and will be removed in a future version.\n",
            "Instructions for updating:\n",
            "Use `tf.data.Dataset.map()\n",
            "WARNING:tensorflow:From /usr/local/lib/python3.7/dist-packages/tensorflow/python/util/dispatch.py:206: sparse_to_dense (from tensorflow.python.ops.sparse_ops) is deprecated and will be removed in a future version.\n",
            "Instructions for updating:\n",
            "Create a `tf.sparse.SparseTensor` and use `tf.sparse.to_dense` instead.\n",
            "W1024 13:30:53.011172 140319866206080 deprecation.py:345] From /usr/local/lib/python3.7/dist-packages/tensorflow/python/util/dispatch.py:206: sparse_to_dense (from tensorflow.python.ops.sparse_ops) is deprecated and will be removed in a future version.\n",
            "Instructions for updating:\n",
            "Create a `tf.sparse.SparseTensor` and use `tf.sparse.to_dense` instead.\n",
            "WARNING:tensorflow:From /usr/local/lib/python3.7/dist-packages/tensorflow/python/util/dispatch.py:206: sample_distorted_bounding_box (from tensorflow.python.ops.image_ops_impl) is deprecated and will be removed in a future version.\n",
            "Instructions for updating:\n",
            "`seed2` arg is deprecated.Use sample_distorted_bounding_box_v2 instead.\n",
            "W1024 13:30:56.950576 140319866206080 deprecation.py:345] From /usr/local/lib/python3.7/dist-packages/tensorflow/python/util/dispatch.py:206: sample_distorted_bounding_box (from tensorflow.python.ops.image_ops_impl) is deprecated and will be removed in a future version.\n",
            "Instructions for updating:\n",
            "`seed2` arg is deprecated.Use sample_distorted_bounding_box_v2 instead.\n",
            "WARNING:tensorflow:From /usr/local/lib/python3.7/dist-packages/tensorflow/python/autograph/impl/api.py:464: to_float (from tensorflow.python.ops.math_ops) is deprecated and will be removed in a future version.\n",
            "Instructions for updating:\n",
            "Use `tf.cast` instead.\n",
            "W1024 13:30:59.048551 140319866206080 deprecation.py:345] From /usr/local/lib/python3.7/dist-packages/tensorflow/python/autograph/impl/api.py:464: to_float (from tensorflow.python.ops.math_ops) is deprecated and will be removed in a future version.\n",
            "Instructions for updating:\n",
            "Use `tf.cast` instead.\n",
            "2021-10-24 13:31:01.867479: I tensorflow/compiler/mlir/mlir_graph_optimization_pass.cc:185] None of the MLIR Optimization Passes are enabled (registered 2)\n",
            "/usr/local/lib/python3.7/dist-packages/keras/backend.py:401: UserWarning: `tf.keras.backend.set_learning_phase` is deprecated and will be removed after 2020-10-11. To update it, simply pass a True/False value to the `training` argument of the `__call__` method of your layer or model.\n",
            "  warnings.warn('`tf.keras.backend.set_learning_phase` is deprecated and '\n",
            "2021-10-24 13:31:52.615765: I tensorflow/stream_executor/cuda/cuda_dnn.cc:369] Loaded cuDNN version 8005\n",
            "INFO:tensorflow:Reduce to /job:localhost/replica:0/task:0/device:CPU:0 then broadcast to ('/job:localhost/replica:0/task:0/device:CPU:0',).\n",
            "I1024 13:32:37.088493 140319866206080 cross_device_ops.py:621] Reduce to /job:localhost/replica:0/task:0/device:CPU:0 then broadcast to ('/job:localhost/replica:0/task:0/device:CPU:0',).\n",
            "INFO:tensorflow:Reduce to /job:localhost/replica:0/task:0/device:CPU:0 then broadcast to ('/job:localhost/replica:0/task:0/device:CPU:0',).\n",
            "I1024 13:32:37.089880 140319866206080 cross_device_ops.py:621] Reduce to /job:localhost/replica:0/task:0/device:CPU:0 then broadcast to ('/job:localhost/replica:0/task:0/device:CPU:0',).\n",
            "INFO:tensorflow:Reduce to /job:localhost/replica:0/task:0/device:CPU:0 then broadcast to ('/job:localhost/replica:0/task:0/device:CPU:0',).\n",
            "I1024 13:32:37.092685 140319866206080 cross_device_ops.py:621] Reduce to /job:localhost/replica:0/task:0/device:CPU:0 then broadcast to ('/job:localhost/replica:0/task:0/device:CPU:0',).\n",
            "INFO:tensorflow:Reduce to /job:localhost/replica:0/task:0/device:CPU:0 then broadcast to ('/job:localhost/replica:0/task:0/device:CPU:0',).\n",
            "I1024 13:32:37.093820 140319866206080 cross_device_ops.py:621] Reduce to /job:localhost/replica:0/task:0/device:CPU:0 then broadcast to ('/job:localhost/replica:0/task:0/device:CPU:0',).\n",
            "INFO:tensorflow:Reduce to /job:localhost/replica:0/task:0/device:CPU:0 then broadcast to ('/job:localhost/replica:0/task:0/device:CPU:0',).\n",
            "I1024 13:32:37.096663 140319866206080 cross_device_ops.py:621] Reduce to /job:localhost/replica:0/task:0/device:CPU:0 then broadcast to ('/job:localhost/replica:0/task:0/device:CPU:0',).\n",
            "INFO:tensorflow:Reduce to /job:localhost/replica:0/task:0/device:CPU:0 then broadcast to ('/job:localhost/replica:0/task:0/device:CPU:0',).\n",
            "I1024 13:32:37.097799 140319866206080 cross_device_ops.py:621] Reduce to /job:localhost/replica:0/task:0/device:CPU:0 then broadcast to ('/job:localhost/replica:0/task:0/device:CPU:0',).\n",
            "INFO:tensorflow:Reduce to /job:localhost/replica:0/task:0/device:CPU:0 then broadcast to ('/job:localhost/replica:0/task:0/device:CPU:0',).\n",
            "I1024 13:32:37.101085 140319866206080 cross_device_ops.py:621] Reduce to /job:localhost/replica:0/task:0/device:CPU:0 then broadcast to ('/job:localhost/replica:0/task:0/device:CPU:0',).\n",
            "INFO:tensorflow:Reduce to /job:localhost/replica:0/task:0/device:CPU:0 then broadcast to ('/job:localhost/replica:0/task:0/device:CPU:0',).\n",
            "I1024 13:32:37.102254 140319866206080 cross_device_ops.py:621] Reduce to /job:localhost/replica:0/task:0/device:CPU:0 then broadcast to ('/job:localhost/replica:0/task:0/device:CPU:0',).\n",
            "INFO:tensorflow:Reduce to /job:localhost/replica:0/task:0/device:CPU:0 then broadcast to ('/job:localhost/replica:0/task:0/device:CPU:0',).\n",
            "I1024 13:32:37.104486 140319866206080 cross_device_ops.py:621] Reduce to /job:localhost/replica:0/task:0/device:CPU:0 then broadcast to ('/job:localhost/replica:0/task:0/device:CPU:0',).\n",
            "INFO:tensorflow:Reduce to /job:localhost/replica:0/task:0/device:CPU:0 then broadcast to ('/job:localhost/replica:0/task:0/device:CPU:0',).\n",
            "I1024 13:32:37.105607 140319866206080 cross_device_ops.py:621] Reduce to /job:localhost/replica:0/task:0/device:CPU:0 then broadcast to ('/job:localhost/replica:0/task:0/device:CPU:0',).\n",
            "WARNING:tensorflow:From /usr/local/lib/python3.7/dist-packages/tensorflow/python/util/deprecation.py:617: calling map_fn_v2 (from tensorflow.python.ops.map_fn) with dtype is deprecated and will be removed in a future version.\n",
            "Instructions for updating:\n",
            "Use fn_output_signature instead\n",
            "W1024 13:32:38.570224 140315652077312 deprecation.py:548] From /usr/local/lib/python3.7/dist-packages/tensorflow/python/util/deprecation.py:617: calling map_fn_v2 (from tensorflow.python.ops.map_fn) with dtype is deprecated and will be removed in a future version.\n",
            "Instructions for updating:\n",
            "Use fn_output_signature instead\n",
            "INFO:tensorflow:Step 100 per-step time 3.675s\n",
            "I1024 13:38:45.867695 140319866206080 model_lib_v2.py:700] Step 100 per-step time 3.675s\n",
            "INFO:tensorflow:{'Loss/classification_loss': 1.4633863,\n",
            " 'Loss/localization_loss': 0.62558746,\n",
            " 'Loss/regularization_loss': 17.224007,\n",
            " 'Loss/total_loss': 19.31298,\n",
            " 'learning_rate': 0.014666351}\n",
            "I1024 13:38:45.873347 140319866206080 model_lib_v2.py:701] {'Loss/classification_loss': 1.4633863,\n",
            " 'Loss/localization_loss': 0.62558746,\n",
            " 'Loss/regularization_loss': 17.224007,\n",
            " 'Loss/total_loss': 19.31298,\n",
            " 'learning_rate': 0.014666351}\n",
            "INFO:tensorflow:Step 200 per-step time 2.909s\n",
            "I1024 13:43:36.431899 140319866206080 model_lib_v2.py:700] Step 200 per-step time 2.909s\n",
            "INFO:tensorflow:{'Loss/classification_loss': 0.57495606,\n",
            " 'Loss/localization_loss': 0.41789135,\n",
            " 'Loss/regularization_loss': 17.022282,\n",
            " 'Loss/total_loss': 18.01513,\n",
            " 'learning_rate': 0.0159997}\n",
            "I1024 13:43:36.432357 140319866206080 model_lib_v2.py:701] {'Loss/classification_loss': 0.57495606,\n",
            " 'Loss/localization_loss': 0.41789135,\n",
            " 'Loss/regularization_loss': 17.022282,\n",
            " 'Loss/total_loss': 18.01513,\n",
            " 'learning_rate': 0.0159997}\n",
            "INFO:tensorflow:Step 300 per-step time 2.907s\n",
            "I1024 13:48:27.084801 140319866206080 model_lib_v2.py:700] Step 300 per-step time 2.907s\n",
            "INFO:tensorflow:{'Loss/classification_loss': 0.56502104,\n",
            " 'Loss/localization_loss': 0.3963625,\n",
            " 'Loss/regularization_loss': 16.800323,\n",
            " 'Loss/total_loss': 17.761707,\n",
            " 'learning_rate': 0.01733305}\n",
            "I1024 13:48:27.085229 140319866206080 model_lib_v2.py:701] {'Loss/classification_loss': 0.56502104,\n",
            " 'Loss/localization_loss': 0.3963625,\n",
            " 'Loss/regularization_loss': 16.800323,\n",
            " 'Loss/total_loss': 17.761707,\n",
            " 'learning_rate': 0.01733305}\n",
            "INFO:tensorflow:Step 400 per-step time 2.909s\n",
            "I1024 13:53:17.965885 140319866206080 model_lib_v2.py:700] Step 400 per-step time 2.909s\n",
            "INFO:tensorflow:{'Loss/classification_loss': 0.6248086,\n",
            " 'Loss/localization_loss': 0.34350368,\n",
            " 'Loss/regularization_loss': 16.562853,\n",
            " 'Loss/total_loss': 17.531166,\n",
            " 'learning_rate': 0.0186664}\n",
            "I1024 13:53:17.966312 140319866206080 model_lib_v2.py:701] {'Loss/classification_loss': 0.6248086,\n",
            " 'Loss/localization_loss': 0.34350368,\n",
            " 'Loss/regularization_loss': 16.562853,\n",
            " 'Loss/total_loss': 17.531166,\n",
            " 'learning_rate': 0.0186664}\n",
            "INFO:tensorflow:Step 500 per-step time 2.906s\n",
            "I1024 13:58:08.600820 140319866206080 model_lib_v2.py:700] Step 500 per-step time 2.906s\n",
            "INFO:tensorflow:{'Loss/classification_loss': 0.4401624,\n",
            " 'Loss/localization_loss': 0.2824044,\n",
            " 'Loss/regularization_loss': 16.311426,\n",
            " 'Loss/total_loss': 17.033993,\n",
            " 'learning_rate': 0.01999975}\n",
            "I1024 13:58:08.601279 140319866206080 model_lib_v2.py:701] {'Loss/classification_loss': 0.4401624,\n",
            " 'Loss/localization_loss': 0.2824044,\n",
            " 'Loss/regularization_loss': 16.311426,\n",
            " 'Loss/total_loss': 17.033993,\n",
            " 'learning_rate': 0.01999975}\n",
            "INFO:tensorflow:Step 600 per-step time 2.906s\n",
            "I1024 14:02:59.239113 140319866206080 model_lib_v2.py:700] Step 600 per-step time 2.906s\n",
            "INFO:tensorflow:{'Loss/classification_loss': 0.46004435,\n",
            " 'Loss/localization_loss': 0.32985172,\n",
            " 'Loss/regularization_loss': 16.046669,\n",
            " 'Loss/total_loss': 16.836565,\n",
            " 'learning_rate': 0.0213331}\n",
            "I1024 14:02:59.239614 140319866206080 model_lib_v2.py:701] {'Loss/classification_loss': 0.46004435,\n",
            " 'Loss/localization_loss': 0.32985172,\n",
            " 'Loss/regularization_loss': 16.046669,\n",
            " 'Loss/total_loss': 16.836565,\n",
            " 'learning_rate': 0.0213331}\n",
            "INFO:tensorflow:Step 700 per-step time 2.908s\n",
            "I1024 14:07:50.063368 140319866206080 model_lib_v2.py:700] Step 700 per-step time 2.908s\n",
            "INFO:tensorflow:{'Loss/classification_loss': 0.48099658,\n",
            " 'Loss/localization_loss': 0.25513703,\n",
            " 'Loss/regularization_loss': 15.76967,\n",
            " 'Loss/total_loss': 16.505802,\n",
            " 'learning_rate': 0.02266645}\n",
            "I1024 14:07:50.063811 140319866206080 model_lib_v2.py:701] {'Loss/classification_loss': 0.48099658,\n",
            " 'Loss/localization_loss': 0.25513703,\n",
            " 'Loss/regularization_loss': 15.76967,\n",
            " 'Loss/total_loss': 16.505802,\n",
            " 'learning_rate': 0.02266645}\n",
            "INFO:tensorflow:Step 800 per-step time 2.908s\n",
            "I1024 14:12:40.839036 140319866206080 model_lib_v2.py:700] Step 800 per-step time 2.908s\n",
            "INFO:tensorflow:{'Loss/classification_loss': 0.45735008,\n",
            " 'Loss/localization_loss': 0.35077342,\n",
            " 'Loss/regularization_loss': 15.481066,\n",
            " 'Loss/total_loss': 16.289188,\n",
            " 'learning_rate': 0.023999799}\n",
            "I1024 14:12:40.839430 140319866206080 model_lib_v2.py:701] {'Loss/classification_loss': 0.45735008,\n",
            " 'Loss/localization_loss': 0.35077342,\n",
            " 'Loss/regularization_loss': 15.481066,\n",
            " 'Loss/total_loss': 16.289188,\n",
            " 'learning_rate': 0.023999799}\n",
            "INFO:tensorflow:Step 900 per-step time 2.909s\n",
            "I1024 14:17:31.753211 140319866206080 model_lib_v2.py:700] Step 900 per-step time 2.909s\n",
            "INFO:tensorflow:{'Loss/classification_loss': 0.2849721,\n",
            " 'Loss/localization_loss': 0.24981846,\n",
            " 'Loss/regularization_loss': 15.181629,\n",
            " 'Loss/total_loss': 15.71642,\n",
            " 'learning_rate': 0.025333151}\n",
            "I1024 14:17:31.753687 140319866206080 model_lib_v2.py:701] {'Loss/classification_loss': 0.2849721,\n",
            " 'Loss/localization_loss': 0.24981846,\n",
            " 'Loss/regularization_loss': 15.181629,\n",
            " 'Loss/total_loss': 15.71642,\n",
            " 'learning_rate': 0.025333151}\n",
            "INFO:tensorflow:Step 1000 per-step time 2.911s\n",
            "I1024 14:22:22.859988 140319866206080 model_lib_v2.py:700] Step 1000 per-step time 2.911s\n",
            "INFO:tensorflow:{'Loss/classification_loss': 0.34331354,\n",
            " 'Loss/localization_loss': 0.22846825,\n",
            " 'Loss/regularization_loss': 14.872146,\n",
            " 'Loss/total_loss': 15.443928,\n",
            " 'learning_rate': 0.0266665}\n",
            "I1024 14:22:22.860385 140319866206080 model_lib_v2.py:701] {'Loss/classification_loss': 0.34331354,\n",
            " 'Loss/localization_loss': 0.22846825,\n",
            " 'Loss/regularization_loss': 14.872146,\n",
            " 'Loss/total_loss': 15.443928,\n",
            " 'learning_rate': 0.0266665}\n",
            "INFO:tensorflow:Step 1100 per-step time 2.935s\n",
            "I1024 14:27:16.362023 140319866206080 model_lib_v2.py:700] Step 1100 per-step time 2.935s\n",
            "INFO:tensorflow:{'Loss/classification_loss': 0.33205476,\n",
            " 'Loss/localization_loss': 0.13381605,\n",
            " 'Loss/regularization_loss': 14.553511,\n",
            " 'Loss/total_loss': 15.0193815,\n",
            " 'learning_rate': 0.02799985}\n",
            "I1024 14:27:16.362664 140319866206080 model_lib_v2.py:701] {'Loss/classification_loss': 0.33205476,\n",
            " 'Loss/localization_loss': 0.13381605,\n",
            " 'Loss/regularization_loss': 14.553511,\n",
            " 'Loss/total_loss': 15.0193815,\n",
            " 'learning_rate': 0.02799985}\n",
            "INFO:tensorflow:Step 1200 per-step time 2.912s\n",
            "I1024 14:32:07.571993 140319866206080 model_lib_v2.py:700] Step 1200 per-step time 2.912s\n",
            "INFO:tensorflow:{'Loss/classification_loss': 0.3438763,\n",
            " 'Loss/localization_loss': 0.17640114,\n",
            " 'Loss/regularization_loss': 14.226597,\n",
            " 'Loss/total_loss': 14.746874,\n",
            " 'learning_rate': 0.0293332}\n",
            "I1024 14:32:07.572441 140319866206080 model_lib_v2.py:701] {'Loss/classification_loss': 0.3438763,\n",
            " 'Loss/localization_loss': 0.17640114,\n",
            " 'Loss/regularization_loss': 14.226597,\n",
            " 'Loss/total_loss': 14.746874,\n",
            " 'learning_rate': 0.0293332}\n",
            "INFO:tensorflow:Step 1300 per-step time 2.910s\n",
            "I1024 14:36:58.556968 140319866206080 model_lib_v2.py:700] Step 1300 per-step time 2.910s\n",
            "INFO:tensorflow:{'Loss/classification_loss': 0.28477976,\n",
            " 'Loss/localization_loss': 0.17170857,\n",
            " 'Loss/regularization_loss': 13.892484,\n",
            " 'Loss/total_loss': 14.348972,\n",
            " 'learning_rate': 0.03066655}\n",
            "I1024 14:36:58.557338 140319866206080 model_lib_v2.py:701] {'Loss/classification_loss': 0.28477976,\n",
            " 'Loss/localization_loss': 0.17170857,\n",
            " 'Loss/regularization_loss': 13.892484,\n",
            " 'Loss/total_loss': 14.348972,\n",
            " 'learning_rate': 0.03066655}\n",
            "INFO:tensorflow:Step 1400 per-step time 2.910s\n",
            "I1024 14:41:49.589147 140319866206080 model_lib_v2.py:700] Step 1400 per-step time 2.910s\n",
            "INFO:tensorflow:{'Loss/classification_loss': 0.29990757,\n",
            " 'Loss/localization_loss': 0.14106888,\n",
            " 'Loss/regularization_loss': 13.551855,\n",
            " 'Loss/total_loss': 13.992831,\n",
            " 'learning_rate': 0.0319999}\n",
            "I1024 14:41:49.589614 140319866206080 model_lib_v2.py:701] {'Loss/classification_loss': 0.29990757,\n",
            " 'Loss/localization_loss': 0.14106888,\n",
            " 'Loss/regularization_loss': 13.551855,\n",
            " 'Loss/total_loss': 13.992831,\n",
            " 'learning_rate': 0.0319999}\n",
            "INFO:tensorflow:Step 1500 per-step time 2.909s\n",
            "I1024 14:46:40.528221 140319866206080 model_lib_v2.py:700] Step 1500 per-step time 2.909s\n",
            "INFO:tensorflow:{'Loss/classification_loss': 0.29393312,\n",
            " 'Loss/localization_loss': 0.12572671,\n",
            " 'Loss/regularization_loss': 13.205628,\n",
            " 'Loss/total_loss': 13.625288,\n",
            " 'learning_rate': 0.03333325}\n",
            "I1024 14:46:40.528734 140319866206080 model_lib_v2.py:701] {'Loss/classification_loss': 0.29393312,\n",
            " 'Loss/localization_loss': 0.12572671,\n",
            " 'Loss/regularization_loss': 13.205628,\n",
            " 'Loss/total_loss': 13.625288,\n",
            " 'learning_rate': 0.03333325}\n",
            "INFO:tensorflow:Step 1600 per-step time 2.912s\n",
            "I1024 14:51:31.700215 140319866206080 model_lib_v2.py:700] Step 1600 per-step time 2.912s\n",
            "INFO:tensorflow:{'Loss/classification_loss': 0.34356976,\n",
            " 'Loss/localization_loss': 0.17604716,\n",
            " 'Loss/regularization_loss': 12.854451,\n",
            " 'Loss/total_loss': 13.374068,\n",
            " 'learning_rate': 0.034666598}\n",
            "I1024 14:51:31.700620 140319866206080 model_lib_v2.py:701] {'Loss/classification_loss': 0.34356976,\n",
            " 'Loss/localization_loss': 0.17604716,\n",
            " 'Loss/regularization_loss': 12.854451,\n",
            " 'Loss/total_loss': 13.374068,\n",
            " 'learning_rate': 0.034666598}\n",
            "INFO:tensorflow:Step 1700 per-step time 2.911s\n",
            "I1024 14:56:22.798339 140319866206080 model_lib_v2.py:700] Step 1700 per-step time 2.911s\n",
            "INFO:tensorflow:{'Loss/classification_loss': 0.2585098,\n",
            " 'Loss/localization_loss': 0.07684598,\n",
            " 'Loss/regularization_loss': 12.499402,\n",
            " 'Loss/total_loss': 12.834758,\n",
            " 'learning_rate': 0.03599995}\n",
            "I1024 14:56:22.798967 140319866206080 model_lib_v2.py:701] {'Loss/classification_loss': 0.2585098,\n",
            " 'Loss/localization_loss': 0.07684598,\n",
            " 'Loss/regularization_loss': 12.499402,\n",
            " 'Loss/total_loss': 12.834758,\n",
            " 'learning_rate': 0.03599995}\n",
            "INFO:tensorflow:Step 1800 per-step time 2.907s\n",
            "I1024 15:01:13.545379 140319866206080 model_lib_v2.py:700] Step 1800 per-step time 2.907s\n",
            "INFO:tensorflow:{'Loss/classification_loss': 0.4403782,\n",
            " 'Loss/localization_loss': 0.12437697,\n",
            " 'Loss/regularization_loss': 12.141291,\n",
            " 'Loss/total_loss': 12.706046,\n",
            " 'learning_rate': 0.037333302}\n",
            "I1024 15:01:13.545773 140319866206080 model_lib_v2.py:701] {'Loss/classification_loss': 0.4403782,\n",
            " 'Loss/localization_loss': 0.12437697,\n",
            " 'Loss/regularization_loss': 12.141291,\n",
            " 'Loss/total_loss': 12.706046,\n",
            " 'learning_rate': 0.037333302}\n",
            "INFO:tensorflow:Step 1900 per-step time 2.912s\n",
            "I1024 15:06:04.742666 140319866206080 model_lib_v2.py:700] Step 1900 per-step time 2.912s\n",
            "INFO:tensorflow:{'Loss/classification_loss': 0.29874688,\n",
            " 'Loss/localization_loss': 0.103678085,\n",
            " 'Loss/regularization_loss': 11.7810135,\n",
            " 'Loss/total_loss': 12.183438,\n",
            " 'learning_rate': 0.03866665}\n",
            "I1024 15:06:04.743193 140319866206080 model_lib_v2.py:701] {'Loss/classification_loss': 0.29874688,\n",
            " 'Loss/localization_loss': 0.103678085,\n",
            " 'Loss/regularization_loss': 11.7810135,\n",
            " 'Loss/total_loss': 12.183438,\n",
            " 'learning_rate': 0.03866665}\n",
            "INFO:tensorflow:Step 2000 per-step time 2.911s\n",
            "I1024 15:10:55.845231 140319866206080 model_lib_v2.py:700] Step 2000 per-step time 2.911s\n",
            "INFO:tensorflow:{'Loss/classification_loss': 0.2113536,\n",
            " 'Loss/localization_loss': 0.07027304,\n",
            " 'Loss/regularization_loss': 11.419447,\n",
            " 'Loss/total_loss': 11.701074,\n",
            " 'learning_rate': 0.04}\n",
            "I1024 15:10:55.845668 140319866206080 model_lib_v2.py:701] {'Loss/classification_loss': 0.2113536,\n",
            " 'Loss/localization_loss': 0.07027304,\n",
            " 'Loss/regularization_loss': 11.419447,\n",
            " 'Loss/total_loss': 11.701074,\n",
            " 'learning_rate': 0.04}\n",
            "INFO:tensorflow:Step 2100 per-step time 2.937s\n",
            "I1024 15:15:49.566229 140319866206080 model_lib_v2.py:700] Step 2100 per-step time 2.937s\n",
            "INFO:tensorflow:{'Loss/classification_loss': 0.22624847,\n",
            " 'Loss/localization_loss': 0.07230531,\n",
            " 'Loss/regularization_loss': 11.062265,\n",
            " 'Loss/total_loss': 11.360819,\n",
            " 'learning_rate': 0.039998136}\n",
            "I1024 15:15:49.566768 140319866206080 model_lib_v2.py:701] {'Loss/classification_loss': 0.22624847,\n",
            " 'Loss/localization_loss': 0.07230531,\n",
            " 'Loss/regularization_loss': 11.062265,\n",
            " 'Loss/total_loss': 11.360819,\n",
            " 'learning_rate': 0.039998136}\n",
            "INFO:tensorflow:Step 2200 per-step time 2.913s\n",
            "I1024 15:20:40.896108 140319866206080 model_lib_v2.py:700] Step 2200 per-step time 2.913s\n",
            "INFO:tensorflow:{'Loss/classification_loss': 0.2145949,\n",
            " 'Loss/localization_loss': 0.08138511,\n",
            " 'Loss/regularization_loss': 10.716145,\n",
            " 'Loss/total_loss': 11.012125,\n",
            " 'learning_rate': 0.039992537}\n",
            "I1024 15:20:40.896613 140319866206080 model_lib_v2.py:701] {'Loss/classification_loss': 0.2145949,\n",
            " 'Loss/localization_loss': 0.08138511,\n",
            " 'Loss/regularization_loss': 10.716145,\n",
            " 'Loss/total_loss': 11.012125,\n",
            " 'learning_rate': 0.039992537}\n",
            "INFO:tensorflow:Step 2300 per-step time 2.915s\n",
            "I1024 15:25:32.389590 140319866206080 model_lib_v2.py:700] Step 2300 per-step time 2.915s\n",
            "INFO:tensorflow:{'Loss/classification_loss': 0.23431987,\n",
            " 'Loss/localization_loss': 0.0707685,\n",
            " 'Loss/regularization_loss': 10.3808565,\n",
            " 'Loss/total_loss': 10.685945,\n",
            " 'learning_rate': 0.03998321}\n",
            "I1024 15:25:32.390007 140319866206080 model_lib_v2.py:701] {'Loss/classification_loss': 0.23431987,\n",
            " 'Loss/localization_loss': 0.0707685,\n",
            " 'Loss/regularization_loss': 10.3808565,\n",
            " 'Loss/total_loss': 10.685945,\n",
            " 'learning_rate': 0.03998321}\n",
            "INFO:tensorflow:Step 2400 per-step time 2.912s\n",
            "I1024 15:30:23.566036 140319866206080 model_lib_v2.py:700] Step 2400 per-step time 2.912s\n",
            "INFO:tensorflow:{'Loss/classification_loss': 0.31382808,\n",
            " 'Loss/localization_loss': 0.09740763,\n",
            " 'Loss/regularization_loss': 10.056509,\n",
            " 'Loss/total_loss': 10.467745,\n",
            " 'learning_rate': 0.039970152}\n",
            "I1024 15:30:23.566627 140319866206080 model_lib_v2.py:701] {'Loss/classification_loss': 0.31382808,\n",
            " 'Loss/localization_loss': 0.09740763,\n",
            " 'Loss/regularization_loss': 10.056509,\n",
            " 'Loss/total_loss': 10.467745,\n",
            " 'learning_rate': 0.039970152}\n",
            "INFO:tensorflow:Step 2500 per-step time 2.915s\n",
            "I1024 15:35:15.047325 140319866206080 model_lib_v2.py:700] Step 2500 per-step time 2.915s\n",
            "INFO:tensorflow:{'Loss/classification_loss': 0.24679917,\n",
            " 'Loss/localization_loss': 0.07620415,\n",
            " 'Loss/regularization_loss': 9.742259,\n",
            " 'Loss/total_loss': 10.065263,\n",
            " 'learning_rate': 0.039953373}\n",
            "I1024 15:35:15.047808 140319866206080 model_lib_v2.py:701] {'Loss/classification_loss': 0.24679917,\n",
            " 'Loss/localization_loss': 0.07620415,\n",
            " 'Loss/regularization_loss': 9.742259,\n",
            " 'Loss/total_loss': 10.065263,\n",
            " 'learning_rate': 0.039953373}\n",
            "INFO:tensorflow:Step 2600 per-step time 2.911s\n",
            "I1024 15:40:06.162993 140319866206080 model_lib_v2.py:700] Step 2600 per-step time 2.911s\n",
            "INFO:tensorflow:{'Loss/classification_loss': 0.37942764,\n",
            " 'Loss/localization_loss': 0.13120796,\n",
            " 'Loss/regularization_loss': 9.437771,\n",
            " 'Loss/total_loss': 9.948406,\n",
            " 'learning_rate': 0.03993287}\n",
            "I1024 15:40:06.163466 140319866206080 model_lib_v2.py:701] {'Loss/classification_loss': 0.37942764,\n",
            " 'Loss/localization_loss': 0.13120796,\n",
            " 'Loss/regularization_loss': 9.437771,\n",
            " 'Loss/total_loss': 9.948406,\n",
            " 'learning_rate': 0.03993287}\n",
            "INFO:tensorflow:Step 2700 per-step time 2.914s\n",
            "I1024 15:44:57.569405 140319866206080 model_lib_v2.py:700] Step 2700 per-step time 2.914s\n",
            "INFO:tensorflow:{'Loss/classification_loss': 0.18137555,\n",
            " 'Loss/localization_loss': 0.043913018,\n",
            " 'Loss/regularization_loss': 9.14311,\n",
            " 'Loss/total_loss': 9.368399,\n",
            " 'learning_rate': 0.039908648}\n",
            "I1024 15:44:57.570191 140319866206080 model_lib_v2.py:701] {'Loss/classification_loss': 0.18137555,\n",
            " 'Loss/localization_loss': 0.043913018,\n",
            " 'Loss/regularization_loss': 9.14311,\n",
            " 'Loss/total_loss': 9.368399,\n",
            " 'learning_rate': 0.039908648}\n",
            "INFO:tensorflow:Step 2800 per-step time 2.915s\n",
            "I1024 15:49:49.056871 140319866206080 model_lib_v2.py:700] Step 2800 per-step time 2.915s\n",
            "INFO:tensorflow:{'Loss/classification_loss': 0.42378983,\n",
            " 'Loss/localization_loss': 0.13653533,\n",
            " 'Loss/regularization_loss': 8.857729,\n",
            " 'Loss/total_loss': 9.418055,\n",
            " 'learning_rate': 0.039880715}\n",
            "I1024 15:49:49.057294 140319866206080 model_lib_v2.py:701] {'Loss/classification_loss': 0.42378983,\n",
            " 'Loss/localization_loss': 0.13653533,\n",
            " 'Loss/regularization_loss': 8.857729,\n",
            " 'Loss/total_loss': 9.418055,\n",
            " 'learning_rate': 0.039880715}\n",
            "INFO:tensorflow:Step 2900 per-step time 2.913s\n",
            "I1024 15:54:40.357493 140319866206080 model_lib_v2.py:700] Step 2900 per-step time 2.913s\n",
            "INFO:tensorflow:{'Loss/classification_loss': 0.26716915,\n",
            " 'Loss/localization_loss': 0.08073317,\n",
            " 'Loss/regularization_loss': 8.581577,\n",
            " 'Loss/total_loss': 8.92948,\n",
            " 'learning_rate': 0.039849065}\n",
            "I1024 15:54:40.357954 140319866206080 model_lib_v2.py:701] {'Loss/classification_loss': 0.26716915,\n",
            " 'Loss/localization_loss': 0.08073317,\n",
            " 'Loss/regularization_loss': 8.581577,\n",
            " 'Loss/total_loss': 8.92948,\n",
            " 'learning_rate': 0.039849065}\n",
            "INFO:tensorflow:Step 3000 per-step time 2.915s\n",
            "I1024 15:59:31.819872 140319866206080 model_lib_v2.py:700] Step 3000 per-step time 2.915s\n",
            "INFO:tensorflow:{'Loss/classification_loss': 0.16681765,\n",
            " 'Loss/localization_loss': 0.060181778,\n",
            " 'Loss/regularization_loss': 8.314235,\n",
            " 'Loss/total_loss': 8.541234,\n",
            " 'learning_rate': 0.03981372}\n",
            "I1024 15:59:31.820383 140319866206080 model_lib_v2.py:701] {'Loss/classification_loss': 0.16681765,\n",
            " 'Loss/localization_loss': 0.060181778,\n",
            " 'Loss/regularization_loss': 8.314235,\n",
            " 'Loss/total_loss': 8.541234,\n",
            " 'learning_rate': 0.03981372}\n",
            "INFO:tensorflow:Step 3100 per-step time 2.951s\n",
            "I1024 16:04:26.903997 140319866206080 model_lib_v2.py:700] Step 3100 per-step time 2.951s\n",
            "INFO:tensorflow:{'Loss/classification_loss': 0.36293727,\n",
            " 'Loss/localization_loss': 0.09863415,\n",
            " 'Loss/regularization_loss': 8.055624,\n",
            " 'Loss/total_loss': 8.517196,\n",
            " 'learning_rate': 0.03977467}\n",
            "I1024 16:04:26.904456 140319866206080 model_lib_v2.py:701] {'Loss/classification_loss': 0.36293727,\n",
            " 'Loss/localization_loss': 0.09863415,\n",
            " 'Loss/regularization_loss': 8.055624,\n",
            " 'Loss/total_loss': 8.517196,\n",
            " 'learning_rate': 0.03977467}\n",
            "INFO:tensorflow:Step 3200 per-step time 2.915s\n",
            "I1024 16:09:18.401742 140319866206080 model_lib_v2.py:700] Step 3200 per-step time 2.915s\n",
            "INFO:tensorflow:{'Loss/classification_loss': 0.32599458,\n",
            " 'Loss/localization_loss': 0.11288579,\n",
            " 'Loss/regularization_loss': 7.8051586,\n",
            " 'Loss/total_loss': 8.244039,\n",
            " 'learning_rate': 0.03973194}\n",
            "I1024 16:09:18.402126 140319866206080 model_lib_v2.py:701] {'Loss/classification_loss': 0.32599458,\n",
            " 'Loss/localization_loss': 0.11288579,\n",
            " 'Loss/regularization_loss': 7.8051586,\n",
            " 'Loss/total_loss': 8.244039,\n",
            " 'learning_rate': 0.03973194}\n",
            "INFO:tensorflow:Step 3300 per-step time 2.914s\n",
            "I1024 16:14:09.797020 140319866206080 model_lib_v2.py:700] Step 3300 per-step time 2.914s\n",
            "INFO:tensorflow:{'Loss/classification_loss': 0.19076712,\n",
            " 'Loss/localization_loss': 0.073627695,\n",
            " 'Loss/regularization_loss': 7.5628853,\n",
            " 'Loss/total_loss': 7.82728,\n",
            " 'learning_rate': 0.03968552}\n",
            "I1024 16:14:09.797605 140319866206080 model_lib_v2.py:701] {'Loss/classification_loss': 0.19076712,\n",
            " 'Loss/localization_loss': 0.073627695,\n",
            " 'Loss/regularization_loss': 7.5628853,\n",
            " 'Loss/total_loss': 7.82728,\n",
            " 'learning_rate': 0.03968552}\n",
            "INFO:tensorflow:Step 3400 per-step time 2.907s\n",
            "I1024 16:19:00.527460 140319866206080 model_lib_v2.py:700] Step 3400 per-step time 2.907s\n",
            "INFO:tensorflow:{'Loss/classification_loss': 0.1481158,\n",
            " 'Loss/localization_loss': 0.059446678,\n",
            " 'Loss/regularization_loss': 7.3283706,\n",
            " 'Loss/total_loss': 7.535933,\n",
            " 'learning_rate': 0.039635435}\n",
            "I1024 16:19:00.528092 140319866206080 model_lib_v2.py:701] {'Loss/classification_loss': 0.1481158,\n",
            " 'Loss/localization_loss': 0.059446678,\n",
            " 'Loss/regularization_loss': 7.3283706,\n",
            " 'Loss/total_loss': 7.535933,\n",
            " 'learning_rate': 0.039635435}\n",
            "INFO:tensorflow:Step 3500 per-step time 2.914s\n",
            "I1024 16:23:51.929427 140319866206080 model_lib_v2.py:700] Step 3500 per-step time 2.914s\n",
            "INFO:tensorflow:{'Loss/classification_loss': 0.44442412,\n",
            " 'Loss/localization_loss': 0.15578762,\n",
            " 'Loss/regularization_loss': 7.101644,\n",
            " 'Loss/total_loss': 7.7018557,\n",
            " 'learning_rate': 0.03958168}\n",
            "I1024 16:23:51.929894 140319866206080 model_lib_v2.py:701] {'Loss/classification_loss': 0.44442412,\n",
            " 'Loss/localization_loss': 0.15578762,\n",
            " 'Loss/regularization_loss': 7.101644,\n",
            " 'Loss/total_loss': 7.7018557,\n",
            " 'learning_rate': 0.03958168}\n",
            "INFO:tensorflow:Step 3600 per-step time 2.913s\n",
            "I1024 16:28:43.201790 140319866206080 model_lib_v2.py:700] Step 3600 per-step time 2.913s\n",
            "INFO:tensorflow:{'Loss/classification_loss': 0.14143741,\n",
            " 'Loss/localization_loss': 0.05033976,\n",
            " 'Loss/regularization_loss': 6.8827095,\n",
            " 'Loss/total_loss': 7.0744867,\n",
            " 'learning_rate': 0.039524276}\n",
            "I1024 16:28:43.202162 140319866206080 model_lib_v2.py:701] {'Loss/classification_loss': 0.14143741,\n",
            " 'Loss/localization_loss': 0.05033976,\n",
            " 'Loss/regularization_loss': 6.8827095,\n",
            " 'Loss/total_loss': 7.0744867,\n",
            " 'learning_rate': 0.039524276}\n",
            "INFO:tensorflow:Step 3700 per-step time 2.913s\n",
            "I1024 16:33:34.507474 140319866206080 model_lib_v2.py:700] Step 3700 per-step time 2.913s\n",
            "INFO:tensorflow:{'Loss/classification_loss': 0.15797254,\n",
            " 'Loss/localization_loss': 0.054429058,\n",
            " 'Loss/regularization_loss': 6.6703897,\n",
            " 'Loss/total_loss': 6.882791,\n",
            " 'learning_rate': 0.03946323}\n",
            "I1024 16:33:34.507894 140319866206080 model_lib_v2.py:701] {'Loss/classification_loss': 0.15797254,\n",
            " 'Loss/localization_loss': 0.054429058,\n",
            " 'Loss/regularization_loss': 6.6703897,\n",
            " 'Loss/total_loss': 6.882791,\n",
            " 'learning_rate': 0.03946323}\n",
            "INFO:tensorflow:Step 3800 per-step time 2.915s\n",
            "I1024 16:38:25.982100 140319866206080 model_lib_v2.py:700] Step 3800 per-step time 2.915s\n",
            "INFO:tensorflow:{'Loss/classification_loss': 0.18267132,\n",
            " 'Loss/localization_loss': 0.049008396,\n",
            " 'Loss/regularization_loss': 6.4650755,\n",
            " 'Loss/total_loss': 6.6967554,\n",
            " 'learning_rate': 0.039398547}\n",
            "I1024 16:38:25.982586 140319866206080 model_lib_v2.py:701] {'Loss/classification_loss': 0.18267132,\n",
            " 'Loss/localization_loss': 0.049008396,\n",
            " 'Loss/regularization_loss': 6.4650755,\n",
            " 'Loss/total_loss': 6.6967554,\n",
            " 'learning_rate': 0.039398547}\n",
            "INFO:tensorflow:Step 3900 per-step time 2.912s\n",
            "I1024 16:43:17.194174 140319866206080 model_lib_v2.py:700] Step 3900 per-step time 2.912s\n",
            "INFO:tensorflow:{'Loss/classification_loss': 0.26099998,\n",
            " 'Loss/localization_loss': 0.09519515,\n",
            " 'Loss/regularization_loss': 6.2664037,\n",
            " 'Loss/total_loss': 6.6225986,\n",
            " 'learning_rate': 0.039330248}\n",
            "I1024 16:43:17.194581 140319866206080 model_lib_v2.py:701] {'Loss/classification_loss': 0.26099998,\n",
            " 'Loss/localization_loss': 0.09519515,\n",
            " 'Loss/regularization_loss': 6.2664037,\n",
            " 'Loss/total_loss': 6.6225986,\n",
            " 'learning_rate': 0.039330248}\n",
            "INFO:tensorflow:Step 4000 per-step time 2.913s\n",
            "I1024 16:48:08.464606 140319866206080 model_lib_v2.py:700] Step 4000 per-step time 2.913s\n",
            "INFO:tensorflow:{'Loss/classification_loss': 0.121916346,\n",
            " 'Loss/localization_loss': 0.02487839,\n",
            " 'Loss/regularization_loss': 6.0742855,\n",
            " 'Loss/total_loss': 6.2210803,\n",
            " 'learning_rate': 0.039258346}\n",
            "I1024 16:48:08.465123 140319866206080 model_lib_v2.py:701] {'Loss/classification_loss': 0.121916346,\n",
            " 'Loss/localization_loss': 0.02487839,\n",
            " 'Loss/regularization_loss': 6.0742855,\n",
            " 'Loss/total_loss': 6.2210803,\n",
            " 'learning_rate': 0.039258346}\n",
            "INFO:tensorflow:Step 4100 per-step time 2.944s\n",
            "I1024 16:53:02.849962 140319866206080 model_lib_v2.py:700] Step 4100 per-step time 2.944s\n",
            "INFO:tensorflow:{'Loss/classification_loss': 0.091079,\n",
            " 'Loss/localization_loss': 0.04376652,\n",
            " 'Loss/regularization_loss': 5.8884254,\n",
            " 'Loss/total_loss': 6.023271,\n",
            " 'learning_rate': 0.03918285}\n",
            "I1024 16:53:02.850327 140319866206080 model_lib_v2.py:701] {'Loss/classification_loss': 0.091079,\n",
            " 'Loss/localization_loss': 0.04376652,\n",
            " 'Loss/regularization_loss': 5.8884254,\n",
            " 'Loss/total_loss': 6.023271,\n",
            " 'learning_rate': 0.03918285}\n",
            "INFO:tensorflow:Step 4200 per-step time 2.915s\n",
            "I1024 16:57:54.396182 140319866206080 model_lib_v2.py:700] Step 4200 per-step time 2.915s\n",
            "INFO:tensorflow:{'Loss/classification_loss': 0.1258414,\n",
            " 'Loss/localization_loss': 0.022058012,\n",
            " 'Loss/regularization_loss': 5.7085743,\n",
            " 'Loss/total_loss': 5.856474,\n",
            " 'learning_rate': 0.03910377}\n",
            "I1024 16:57:54.396728 140319866206080 model_lib_v2.py:701] {'Loss/classification_loss': 0.1258414,\n",
            " 'Loss/localization_loss': 0.022058012,\n",
            " 'Loss/regularization_loss': 5.7085743,\n",
            " 'Loss/total_loss': 5.856474,\n",
            " 'learning_rate': 0.03910377}\n",
            "INFO:tensorflow:Step 4300 per-step time 2.913s\n",
            "I1024 17:02:45.651583 140319866206080 model_lib_v2.py:700] Step 4300 per-step time 2.913s\n",
            "INFO:tensorflow:{'Loss/classification_loss': 0.15194845,\n",
            " 'Loss/localization_loss': 0.031353787,\n",
            " 'Loss/regularization_loss': 5.534754,\n",
            " 'Loss/total_loss': 5.718056,\n",
            " 'learning_rate': 0.039021127}\n",
            "I1024 17:02:45.652037 140319866206080 model_lib_v2.py:701] {'Loss/classification_loss': 0.15194845,\n",
            " 'Loss/localization_loss': 0.031353787,\n",
            " 'Loss/regularization_loss': 5.534754,\n",
            " 'Loss/total_loss': 5.718056,\n",
            " 'learning_rate': 0.039021127}\n",
            "INFO:tensorflow:Step 4400 per-step time 2.915s\n",
            "I1024 17:07:37.185031 140319866206080 model_lib_v2.py:700] Step 4400 per-step time 2.915s\n",
            "INFO:tensorflow:{'Loss/classification_loss': 0.12825656,\n",
            " 'Loss/localization_loss': 0.036847696,\n",
            " 'Loss/regularization_loss': 5.3667536,\n",
            " 'Loss/total_loss': 5.531858,\n",
            " 'learning_rate': 0.03893494}\n",
            "I1024 17:07:37.185512 140319866206080 model_lib_v2.py:701] {'Loss/classification_loss': 0.12825656,\n",
            " 'Loss/localization_loss': 0.036847696,\n",
            " 'Loss/regularization_loss': 5.3667536,\n",
            " 'Loss/total_loss': 5.531858,\n",
            " 'learning_rate': 0.03893494}\n",
            "INFO:tensorflow:Step 4500 per-step time 2.914s\n",
            "I1024 17:12:28.571865 140319866206080 model_lib_v2.py:700] Step 4500 per-step time 2.914s\n",
            "INFO:tensorflow:{'Loss/classification_loss': 0.12649311,\n",
            " 'Loss/localization_loss': 0.036076173,\n",
            " 'Loss/regularization_loss': 5.20433,\n",
            " 'Loss/total_loss': 5.3668995,\n",
            " 'learning_rate': 0.03884522}\n",
            "I1024 17:12:28.572288 140319866206080 model_lib_v2.py:701] {'Loss/classification_loss': 0.12649311,\n",
            " 'Loss/localization_loss': 0.036076173,\n",
            " 'Loss/regularization_loss': 5.20433,\n",
            " 'Loss/total_loss': 5.3668995,\n",
            " 'learning_rate': 0.03884522}\n",
            "INFO:tensorflow:Step 4600 per-step time 2.912s\n",
            "I1024 17:17:19.762336 140319866206080 model_lib_v2.py:700] Step 4600 per-step time 2.912s\n",
            "INFO:tensorflow:{'Loss/classification_loss': 0.1803633,\n",
            " 'Loss/localization_loss': 0.04085072,\n",
            " 'Loss/regularization_loss': 5.0472245,\n",
            " 'Loss/total_loss': 5.2684383,\n",
            " 'learning_rate': 0.03875198}\n",
            "I1024 17:17:19.762877 140319866206080 model_lib_v2.py:701] {'Loss/classification_loss': 0.1803633,\n",
            " 'Loss/localization_loss': 0.04085072,\n",
            " 'Loss/regularization_loss': 5.0472245,\n",
            " 'Loss/total_loss': 5.2684383,\n",
            " 'learning_rate': 0.03875198}\n",
            "INFO:tensorflow:Step 4700 per-step time 2.912s\n",
            "I1024 17:22:10.934850 140319866206080 model_lib_v2.py:700] Step 4700 per-step time 2.912s\n",
            "INFO:tensorflow:{'Loss/classification_loss': 0.17410235,\n",
            " 'Loss/localization_loss': 0.04556109,\n",
            " 'Loss/regularization_loss': 4.8953094,\n",
            " 'Loss/total_loss': 5.114973,\n",
            " 'learning_rate': 0.038655244}\n",
            "I1024 17:22:10.935226 140319866206080 model_lib_v2.py:701] {'Loss/classification_loss': 0.17410235,\n",
            " 'Loss/localization_loss': 0.04556109,\n",
            " 'Loss/regularization_loss': 4.8953094,\n",
            " 'Loss/total_loss': 5.114973,\n",
            " 'learning_rate': 0.038655244}\n",
            "INFO:tensorflow:Step 4800 per-step time 2.913s\n",
            "I1024 17:27:02.192937 140319866206080 model_lib_v2.py:700] Step 4800 per-step time 2.913s\n",
            "INFO:tensorflow:{'Loss/classification_loss': 0.094554454,\n",
            " 'Loss/localization_loss': 0.035846647,\n",
            " 'Loss/regularization_loss': 4.7481604,\n",
            " 'Loss/total_loss': 4.8785615,\n",
            " 'learning_rate': 0.038555026}\n",
            "I1024 17:27:02.193301 140319866206080 model_lib_v2.py:701] {'Loss/classification_loss': 0.094554454,\n",
            " 'Loss/localization_loss': 0.035846647,\n",
            " 'Loss/regularization_loss': 4.7481604,\n",
            " 'Loss/total_loss': 4.8785615,\n",
            " 'learning_rate': 0.038555026}\n",
            "INFO:tensorflow:Step 4900 per-step time 2.910s\n",
            "I1024 17:31:53.165329 140319866206080 model_lib_v2.py:700] Step 4900 per-step time 2.910s\n",
            "INFO:tensorflow:{'Loss/classification_loss': 0.19665273,\n",
            " 'Loss/localization_loss': 0.04481533,\n",
            " 'Loss/regularization_loss': 4.606043,\n",
            " 'Loss/total_loss': 4.847511,\n",
            " 'learning_rate': 0.038451348}\n",
            "I1024 17:31:53.165780 140319866206080 model_lib_v2.py:701] {'Loss/classification_loss': 0.19665273,\n",
            " 'Loss/localization_loss': 0.04481533,\n",
            " 'Loss/regularization_loss': 4.606043,\n",
            " 'Loss/total_loss': 4.847511,\n",
            " 'learning_rate': 0.038451348}\n",
            "INFO:tensorflow:Step 5000 per-step time 2.912s\n",
            "I1024 17:36:44.412318 140319866206080 model_lib_v2.py:700] Step 5000 per-step time 2.912s\n",
            "INFO:tensorflow:{'Loss/classification_loss': 0.14863902,\n",
            " 'Loss/localization_loss': 0.032589335,\n",
            " 'Loss/regularization_loss': 4.4686203,\n",
            " 'Loss/total_loss': 4.6498485,\n",
            " 'learning_rate': 0.038344227}\n",
            "I1024 17:36:44.412957 140319866206080 model_lib_v2.py:701] {'Loss/classification_loss': 0.14863902,\n",
            " 'Loss/localization_loss': 0.032589335,\n",
            " 'Loss/regularization_loss': 4.4686203,\n",
            " 'Loss/total_loss': 4.6498485,\n",
            " 'learning_rate': 0.038344227}\n",
            "INFO:tensorflow:Step 5100 per-step time 2.944s\n",
            "I1024 17:41:38.808719 140319866206080 model_lib_v2.py:700] Step 5100 per-step time 2.944s\n",
            "INFO:tensorflow:{'Loss/classification_loss': 0.10378946,\n",
            " 'Loss/localization_loss': 0.024196606,\n",
            " 'Loss/regularization_loss': 4.335356,\n",
            " 'Loss/total_loss': 4.463342,\n",
            " 'learning_rate': 0.03823368}\n",
            "I1024 17:41:38.809298 140319866206080 model_lib_v2.py:701] {'Loss/classification_loss': 0.10378946,\n",
            " 'Loss/localization_loss': 0.024196606,\n",
            " 'Loss/regularization_loss': 4.335356,\n",
            " 'Loss/total_loss': 4.463342,\n",
            " 'learning_rate': 0.03823368}\n",
            "^C\n"
          ]
        }
      ]
    },
    {
      "cell_type": "code",
      "metadata": {
        "id": "zWie3eJGjsfz"
      },
      "source": [
        ""
      ],
      "execution_count": null,
      "outputs": []
    }
  ]
}