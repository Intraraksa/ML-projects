{
 "cells": [
  {
   "cell_type": "code",
   "execution_count": 1,
   "metadata": {},
   "outputs": [],
   "source": [
    "import dlib\n",
    "import cv2\n",
    "import numpy as np\n",
    "import os\n",
    "import pickle"
   ]
  },
  {
   "cell_type": "markdown",
   "metadata": {},
   "source": [
    "### Makeing the descriptor to detect and  predict face"
   ]
  },
  {
   "cell_type": "code",
   "execution_count": 2,
   "metadata": {},
   "outputs": [],
   "source": [
    "### Detector face\n",
    "detector = dlib.get_frontal_face_detector()\n",
    "#shape of face predictor for predict landmark\n",
    "sp = dlib.shape_predictor(\"./utility/shape_predictor_68_face_landmarks.dat\")\n",
    "#face regconition by pretrain resnet model\n",
    "facerec = dlib.face_recognition_model_v1(\"./utility/dlib_face_recognition_resnet_model_v1.dat\")"
   ]
  },
  {
   "cell_type": "code",
   "execution_count": 3,
   "metadata": {},
   "outputs": [],
   "source": [
    "root = os.getcwd()\n",
    "images_path = os.path.join(root,\"images\")\n",
    "list_images = os.listdir(images_path)"
   ]
  },
  {
   "cell_type": "code",
   "execution_count": 4,
   "metadata": {},
   "outputs": [
    {
     "name": "stdout",
     "output_type": "stream",
     "text": [
      "train image of Jennie.jpg completed\n",
      "train image of Jisoo.jpg completed\n",
      "train image of Lisa.jpg completed\n",
      "train image of Rose.jpg completed\n"
     ]
    }
   ],
   "source": [
    "face_member_ans = []\n",
    "member = []\n",
    "for image in list_images:\n",
    "#     print(os.path.join(images_path,image))\n",
    "    img = cv2.imread(os.path.join(images_path,image))\n",
    "#     img_gray = cv2.cvtColor(img,cv2.COLOR_BGR2GRAY)\n",
    "    det = detector(img,1)\n",
    "    for k,d in enumerate(det):\n",
    "        shape = sp(img,d)\n",
    "        face_des = facerec.compute_face_descriptor(img,shape)\n",
    "        print(\"train image of \"+image+\" completed\")\n",
    "        face_member_ans.append(face_des)\n",
    "        member.append(image)\n",
    "pickle.dump((member,face_member_ans),open('trainset.pk','wb'))"
   ]
  },
  {
   "cell_type": "code",
   "execution_count": null,
   "metadata": {},
   "outputs": [],
   "source": []
  }
 ],
 "metadata": {
  "kernelspec": {
   "display_name": "Python 3",
   "language": "python",
   "name": "python3"
  },
  "language_info": {
   "codemirror_mode": {
    "name": "ipython",
    "version": 3
   },
   "file_extension": ".py",
   "mimetype": "text/x-python",
   "name": "python",
   "nbconvert_exporter": "python",
   "pygments_lexer": "ipython3",
   "version": "3.7.3"
  }
 },
 "nbformat": 4,
 "nbformat_minor": 2
}
