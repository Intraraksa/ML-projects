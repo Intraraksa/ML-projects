{
 "cells": [
  {
   "cell_type": "code",
   "execution_count": 1,
   "metadata": {},
   "outputs": [],
   "source": [
    "import dlib\n",
    "import cv2\n",
    "import numpy as np\n",
    "import os\n",
    "import pickle\n",
    "\n",
    "### Detector face\n",
    "detector = dlib.get_frontal_face_detector()\n",
    "#shape of face predictor for predict landmark\n",
    "sp = dlib.shape_predictor(\"./utility/shape_predictor_68_face_landmarks.dat\")\n",
    "#face regconition by pretrain resnet model\n",
    "facerec = dlib.face_recognition_model_v1(\"./utility/dlib_face_recognition_resnet_model_v1.dat\")\n",
    "face_member,face_ref = pickle.load(open(\"trainset.pk\",\"rb\"))"
   ]
  },
  {
   "cell_type": "code",
   "execution_count": 3,
   "metadata": {},
   "outputs": [
    {
     "name": "stdout",
     "output_type": "stream",
     "text": [
      "Jennie.jpg\n",
      "Jisoo.jpg\n",
      "Rose.jpg\n",
      "Jennie.jpg\n",
      "Jisoo.jpg\n",
      "Rose.jpg\n",
      "Jennie.jpg\n",
      "Jisoo.jpg\n",
      "Rose.jpg\n",
      "Jennie.jpg\n",
      "Jisoo.jpg\n",
      "Rose.jpg\n",
      "Jennie.jpg\n",
      "Jisoo.jpg\n",
      "Rose.jpg\n"
     ]
    },
    {
     "data": {
      "text/plain": [
       "113"
      ]
     },
     "execution_count": 3,
     "metadata": {},
     "output_type": "execute_result"
    }
   ],
   "source": [
    "image = cv2.imread(\"who.jpg\")\n",
    "x_shape,y_shape,z_shape = image.shape\n",
    "ans = []\n",
    "classifier = cv2.CascadeClassifier('haarcascade_frontalface_default.xml')\n",
    "boxes = classifier.detectMultiScale(image,1.3,3)\n",
    "for box in boxes:\n",
    "    x,y,w,h = box\n",
    "    face = image[y-10:y+h+10,x-10:x+w+10]\n",
    "    det = detector(image,1)\n",
    "    for k,d in enumerate(det):\n",
    "        shape = sp(image,d)\n",
    "        face_des = facerec.compute_face_descriptor(image,shape)\n",
    "        ans = []\n",
    "        for ref in face_ref:\n",
    "            ans.append(np.linalg.norm(np.array(face_des)-np.array(ref)))\n",
    "        idx = np.argmin(ans)\n",
    "        if ans[idx] < 0.4:\n",
    "            member_name = face_member[idx]\n",
    "            print(member_name)\n",
    "            cv2.putText(image,member_name,(x,y),cv2.FONT_HERSHEY_COMPLEX,.7,(255,255,45),1)\n",
    "            cv2.rectangle(image,(x,y),(x+w,y+h),(35,150,250),2)\n",
    "cv2.imshow(\"image\",image)\n",
    "cv2.waitKey(0)"
   ]
  },
  {
   "cell_type": "code",
   "execution_count": 29,
   "metadata": {},
   "outputs": [
    {
     "data": {
      "text/plain": [
       "[0.40366991977244404,\n",
       " 0.4779259094799677,\n",
       " 0.5333870162730389,\n",
       " 0.5207565187294694]"
      ]
     },
     "execution_count": 29,
     "metadata": {},
     "output_type": "execute_result"
    }
   ],
   "source": [
    "ans"
   ]
  },
  {
   "cell_type": "code",
   "execution_count": 26,
   "metadata": {},
   "outputs": [
    {
     "ename": "IndexError",
     "evalue": "list index out of range",
     "output_type": "error",
     "traceback": [
      "\u001b[1;31m---------------------------------------------------------------------------\u001b[0m",
      "\u001b[1;31mIndexError\u001b[0m                                Traceback (most recent call last)",
      "\u001b[1;32m<ipython-input-26-ad09b677476f>\u001b[0m in \u001b[0;36m<module>\u001b[1;34m\u001b[0m\n\u001b[1;32m----> 1\u001b[1;33m \u001b[0mface_member\u001b[0m\u001b[1;33m[\u001b[0m\u001b[1;36m4\u001b[0m\u001b[1;33m]\u001b[0m\u001b[1;33m\u001b[0m\u001b[1;33m\u001b[0m\u001b[0m\n\u001b[0m",
      "\u001b[1;31mIndexError\u001b[0m: list index out of range"
     ]
    }
   ],
   "source": [
    "face_member[4]"
   ]
  },
  {
   "cell_type": "code",
   "execution_count": 27,
   "metadata": {},
   "outputs": [
    {
     "data": {
      "text/plain": [
       "4"
      ]
     },
     "execution_count": 27,
     "metadata": {},
     "output_type": "execute_result"
    }
   ],
   "source": [
    "len(np.array(face_ref))"
   ]
  },
  {
   "cell_type": "code",
   "execution_count": 47,
   "metadata": {},
   "outputs": [
    {
     "name": "stdout",
     "output_type": "stream",
     "text": [
      "['Jennie.jpg', 'Jisoo.jpg', 'Lisa.jpg', 'Rose.jpg']\n"
     ]
    }
   ],
   "source": [
    "print(face_member)"
   ]
  },
  {
   "cell_type": "code",
   "execution_count": 1,
   "metadata": {},
   "outputs": [],
   "source": [
    "import tensorflow as tf"
   ]
  },
  {
   "cell_type": "code",
   "execution_count": 2,
   "metadata": {},
   "outputs": [
    {
     "name": "stdout",
     "output_type": "stream",
     "text": [
      "Num GPUs Available:  1\n"
     ]
    }
   ],
   "source": [
    "print(\"Num GPUs Available: \", len(tf.config.list_physical_devices('GPU')))"
   ]
  },
  {
   "cell_type": "code",
   "execution_count": 3,
   "metadata": {},
   "outputs": [
    {
     "data": {
      "text/plain": [
       "[PhysicalDevice(name='/physical_device:CPU:0', device_type='CPU'),\n",
       " PhysicalDevice(name='/physical_device:GPU:0', device_type='GPU')]"
      ]
     },
     "execution_count": 3,
     "metadata": {},
     "output_type": "execute_result"
    }
   ],
   "source": [
    "tf.config.list_physical_devices()"
   ]
  },
  {
   "cell_type": "code",
   "execution_count": 5,
   "metadata": {},
   "outputs": [
    {
     "name": "stderr",
     "output_type": "stream",
     "text": [
      "'nvidia-smi' is not recognized as an internal or external command,\n",
      "operable program or batch file.\n"
     ]
    }
   ],
   "source": [
    "!nvidia-smi"
   ]
  },
  {
   "cell_type": "code",
   "execution_count": null,
   "metadata": {},
   "outputs": [],
   "source": []
  }
 ],
 "metadata": {
  "kernelspec": {
   "display_name": "Python 3",
   "language": "python",
   "name": "python3"
  },
  "language_info": {
   "codemirror_mode": {
    "name": "ipython",
    "version": 3
   },
   "file_extension": ".py",
   "mimetype": "text/x-python",
   "name": "python",
   "nbconvert_exporter": "python",
   "pygments_lexer": "ipython3",
   "version": "3.7.3"
  }
 },
 "nbformat": 4,
 "nbformat_minor": 2
}
