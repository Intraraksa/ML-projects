{
 "cells": [
  {
   "cell_type": "code",
   "execution_count": 1,
   "metadata": {},
   "outputs": [],
   "source": [
    "import cv2\n",
    "import numpy as np"
   ]
  },
  {
   "cell_type": "code",
   "execution_count": null,
   "metadata": {},
   "outputs": [],
   "source": [
    "# preparation\n",
    "confidents = []\n",
    "bounding_box = []\n",
    "classes = []\n",
    "probability = 0.5\n",
    "thredhold = 0.4\n",
    "\n",
    "## Load class label \n",
    "with open(\"obj.names\") as f:\n",
    "    labels = [line.strip() for line in f]\n",
    "    \n",
    "cap = cv2.VideoCapture(\"sample1.mp4\")\n",
    "\n",
    "while True:\n",
    "    ret,frame = cap.read()\n",
    "    ## img shape\n",
    "    h,w,_ = frame.shape\n",
    "    blob = cv2.dnn.blobFromImage(frame,1./255,(416,416),swapRB=True,crop=False)\n",
    "    net = cv2.dnn.readNetFromDarknet(\"yolov4-obj.cfg\",\"yolov4-obj_last.weights\")\n",
    "#     net.setPreferableBackend(cv2.dnn.DNN_BACKEND_CUDA)\n",
    "#     net.setPreferableTarget(cv2.dnn.DNN_TARGET_CUDA)\n",
    "    # layers_names = net.getLayerNames()\n",
    "    output_layers = net.getUnconnectedOutLayersNames()\n",
    "    input_img = net.setInput(blob)\n",
    "\n",
    "    ## Feed input to network\n",
    "    output = net.forward(output_layers)\n",
    "\n",
    "    ## Extract result from each output layer\n",
    "    for result in output:\n",
    "        for obj in result:\n",
    "            scores = obj[5:]\n",
    "            class_current = np.argmax(scores)\n",
    "            class_confident_score = scores[class_current]\n",
    "            if class_confident_score > probability:\n",
    "                box_center_x,box_center_y,box_width,box_height = (obj[0]*w),(obj[1]*h),(obj[2]*w),(obj[3]*h)\n",
    "                box_origin_x,box_origin_y = box_center_x-(0.5*box_width),box_center_y-(0.5*box_height)\n",
    "                bounding_box.append([int(box_origin_x),int(box_origin_y),int(box_width),int(box_height)])\n",
    "                confidents.append(float(class_confident_score))\n",
    "                classes.append(class_current)\n",
    "                \n",
    "    ## Non_maximum_supression\n",
    "    results = cv2.dnn.NMSBoxes(bounding_box,confidents,probability,thredhold)\n",
    "    color = np.random.uniform(0,255,size=(len(labels),3))\n",
    "    if len(results) > 0:\n",
    "        for i in results.flatten():\n",
    "            text = f'{labels[classes[i]]}: {confidents[i]}'\n",
    "            cv2.rectangle(frame,(bounding_box[i][0],bounding_box[i][1]),\n",
    "                          (bounding_box[i][0]+bounding_box[i][2],bounding_box[i][1]+bounding_box[i][3]),(0,0,125),thickness=2)\n",
    "            cv2.putText(frame,text,(bounding_box[i][0],bounding_box[i][1]),cv2.FONT_HERSHEY_COMPLEX, 0.7, (0,0,125), 2)\n",
    "\n",
    "        cv2.imshow(\"detection\",frame)\n",
    "        if cv2.waitKey(1) & 0xFF == ord('q'):\n",
    "              break\n",
    "cap.release()\n",
    "cv2.destroyAllWindows()   "
   ]
  },
  {
   "cell_type": "code",
   "execution_count": null,
   "metadata": {},
   "outputs": [],
   "source": [
    "cap = cv2.VideoCapture(\"sample1.mp4\")\n",
    "\n",
    "while True:\n",
    "    ret,frame = cap.read()\n",
    "    ## img shape\n",
    "    cv2.imshow(\"detection\",frame)\n",
    "    if cv2.waitKey(25) & 0xFF == ord('q'):\n",
    "        break\n",
    "cap.release()\n",
    "cv2.destroyAllWindows()   "
   ]
  },
  {
   "cell_type": "code",
   "execution_count": null,
   "metadata": {},
   "outputs": [],
   "source": [
    "count = cv2.cuda.getCudaEnabledDeviceCount()\n",
    "print(count)"
   ]
  },
  {
   "cell_type": "code",
   "execution_count": null,
   "metadata": {},
   "outputs": [],
   "source": []
  }
 ],
 "metadata": {
  "kernelspec": {
   "display_name": "Python 3",
   "language": "python",
   "name": "python3"
  },
  "language_info": {
   "codemirror_mode": {
    "name": "ipython",
    "version": 3
   },
   "file_extension": ".py",
   "mimetype": "text/x-python",
   "name": "python",
   "nbconvert_exporter": "python",
   "pygments_lexer": "ipython3",
   "version": "3.8.8"
  }
 },
 "nbformat": 4,
 "nbformat_minor": 2
}
