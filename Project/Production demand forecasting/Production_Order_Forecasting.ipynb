{
 "cells": [
  {
   "cell_type": "markdown",
   "metadata": {},
   "source": [
    "# Production demand forecasting\n",
    "\n",
    "In the manufacturing industries. We will frequently recieved unpredictable order from the customers. Presently, There are a lot \n",
    "of technic to forecast production demand. \n",
    "The benefit of forecasting is helping the entrepreneur make decision in bussiness."
   ]
  },
  {
   "cell_type": "code",
   "execution_count": 90,
   "metadata": {},
   "outputs": [],
   "source": [
    "import numpy as np\n",
    "import pandas as pd\n",
    "from statsmodels.tsa.seasonal import seasonal_decompose\n",
    "import matplotlib.pyplot as plt\n",
    "import seaborn as sns\n",
    "import itertools\n",
    "import statsmodels.api as sm\n",
    "from datetime import datetime"
   ]
  },
  {
   "cell_type": "code",
   "execution_count": 40,
   "metadata": {},
   "outputs": [],
   "source": [
    "df = pd.read_csv(\"Historical Product Demand.csv\",parse_dates=True)"
   ]
  },
  {
   "cell_type": "markdown",
   "metadata": {},
   "source": [
    "## Explore data"
   ]
  },
  {
   "cell_type": "code",
   "execution_count": 41,
   "metadata": {},
   "outputs": [
    {
     "data": {
      "text/html": [
       "<div>\n",
       "<style scoped>\n",
       "    .dataframe tbody tr th:only-of-type {\n",
       "        vertical-align: middle;\n",
       "    }\n",
       "\n",
       "    .dataframe tbody tr th {\n",
       "        vertical-align: top;\n",
       "    }\n",
       "\n",
       "    .dataframe thead th {\n",
       "        text-align: right;\n",
       "    }\n",
       "</style>\n",
       "<table border=\"1\" class=\"dataframe\">\n",
       "  <thead>\n",
       "    <tr style=\"text-align: right;\">\n",
       "      <th></th>\n",
       "      <th>Product_Code</th>\n",
       "      <th>Warehouse</th>\n",
       "      <th>Product_Category</th>\n",
       "      <th>Date</th>\n",
       "      <th>Order_Demand</th>\n",
       "    </tr>\n",
       "  </thead>\n",
       "  <tbody>\n",
       "    <tr>\n",
       "      <th>0</th>\n",
       "      <td>Product_0993</td>\n",
       "      <td>Whse_J</td>\n",
       "      <td>Category_028</td>\n",
       "      <td>2012/7/27</td>\n",
       "      <td>100</td>\n",
       "    </tr>\n",
       "    <tr>\n",
       "      <th>1</th>\n",
       "      <td>Product_0979</td>\n",
       "      <td>Whse_J</td>\n",
       "      <td>Category_028</td>\n",
       "      <td>2012/1/19</td>\n",
       "      <td>500</td>\n",
       "    </tr>\n",
       "    <tr>\n",
       "      <th>2</th>\n",
       "      <td>Product_0979</td>\n",
       "      <td>Whse_J</td>\n",
       "      <td>Category_028</td>\n",
       "      <td>2012/2/3</td>\n",
       "      <td>500</td>\n",
       "    </tr>\n",
       "    <tr>\n",
       "      <th>3</th>\n",
       "      <td>Product_0979</td>\n",
       "      <td>Whse_J</td>\n",
       "      <td>Category_028</td>\n",
       "      <td>2012/2/9</td>\n",
       "      <td>500</td>\n",
       "    </tr>\n",
       "    <tr>\n",
       "      <th>4</th>\n",
       "      <td>Product_0979</td>\n",
       "      <td>Whse_J</td>\n",
       "      <td>Category_028</td>\n",
       "      <td>2012/3/2</td>\n",
       "      <td>500</td>\n",
       "    </tr>\n",
       "  </tbody>\n",
       "</table>\n",
       "</div>"
      ],
      "text/plain": [
       "   Product_Code Warehouse Product_Category       Date Order_Demand\n",
       "0  Product_0993    Whse_J     Category_028  2012/7/27         100 \n",
       "1  Product_0979    Whse_J     Category_028  2012/1/19         500 \n",
       "2  Product_0979    Whse_J     Category_028   2012/2/3         500 \n",
       "3  Product_0979    Whse_J     Category_028   2012/2/9         500 \n",
       "4  Product_0979    Whse_J     Category_028   2012/3/2         500 "
      ]
     },
     "execution_count": 41,
     "metadata": {},
     "output_type": "execute_result"
    }
   ],
   "source": [
    "df.head()"
   ]
  },
  {
   "cell_type": "code",
   "execution_count": 42,
   "metadata": {},
   "outputs": [
    {
     "data": {
      "text/html": [
       "<div>\n",
       "<style scoped>\n",
       "    .dataframe tbody tr th:only-of-type {\n",
       "        vertical-align: middle;\n",
       "    }\n",
       "\n",
       "    .dataframe tbody tr th {\n",
       "        vertical-align: top;\n",
       "    }\n",
       "\n",
       "    .dataframe thead th {\n",
       "        text-align: right;\n",
       "    }\n",
       "</style>\n",
       "<table border=\"1\" class=\"dataframe\">\n",
       "  <thead>\n",
       "    <tr style=\"text-align: right;\">\n",
       "      <th></th>\n",
       "      <th>Product_Code</th>\n",
       "      <th>Warehouse</th>\n",
       "      <th>Product_Category</th>\n",
       "      <th>Date</th>\n",
       "      <th>Order_Demand</th>\n",
       "    </tr>\n",
       "  </thead>\n",
       "  <tbody>\n",
       "    <tr>\n",
       "      <th>1048570</th>\n",
       "      <td>Product_1791</td>\n",
       "      <td>Whse_J</td>\n",
       "      <td>Category_006</td>\n",
       "      <td>2016/4/27</td>\n",
       "      <td>1000</td>\n",
       "    </tr>\n",
       "    <tr>\n",
       "      <th>1048571</th>\n",
       "      <td>Product_1974</td>\n",
       "      <td>Whse_J</td>\n",
       "      <td>Category_006</td>\n",
       "      <td>2016/4/27</td>\n",
       "      <td>1</td>\n",
       "    </tr>\n",
       "    <tr>\n",
       "      <th>1048572</th>\n",
       "      <td>Product_1787</td>\n",
       "      <td>Whse_J</td>\n",
       "      <td>Category_006</td>\n",
       "      <td>2016/4/28</td>\n",
       "      <td>2500</td>\n",
       "    </tr>\n",
       "    <tr>\n",
       "      <th>1048573</th>\n",
       "      <td>Product_0901</td>\n",
       "      <td>Whse_J</td>\n",
       "      <td>Category_023</td>\n",
       "      <td>2016/10/7</td>\n",
       "      <td>50</td>\n",
       "    </tr>\n",
       "    <tr>\n",
       "      <th>1048574</th>\n",
       "      <td>Product_0704</td>\n",
       "      <td>Whse_J</td>\n",
       "      <td>Category_001</td>\n",
       "      <td>2016/6/27</td>\n",
       "      <td>4</td>\n",
       "    </tr>\n",
       "  </tbody>\n",
       "</table>\n",
       "</div>"
      ],
      "text/plain": [
       "         Product_Code Warehouse Product_Category       Date Order_Demand\n",
       "1048570  Product_1791    Whse_J     Category_006  2016/4/27        1000 \n",
       "1048571  Product_1974    Whse_J     Category_006  2016/4/27           1 \n",
       "1048572  Product_1787    Whse_J     Category_006  2016/4/28        2500 \n",
       "1048573  Product_0901    Whse_J     Category_023  2016/10/7          50 \n",
       "1048574  Product_0704    Whse_J     Category_001  2016/6/27           4 "
      ]
     },
     "execution_count": 42,
     "metadata": {},
     "output_type": "execute_result"
    }
   ],
   "source": [
    "df.tail()"
   ]
  },
  {
   "cell_type": "code",
   "execution_count": 43,
   "metadata": {
    "scrolled": false
   },
   "outputs": [
    {
     "name": "stdout",
     "output_type": "stream",
     "text": [
      "<class 'pandas.core.frame.DataFrame'>\n",
      "RangeIndex: 1048575 entries, 0 to 1048574\n",
      "Data columns (total 5 columns):\n",
      " #   Column            Non-Null Count    Dtype \n",
      "---  ------            --------------    ----- \n",
      " 0   Product_Code      1048575 non-null  object\n",
      " 1   Warehouse         1048575 non-null  object\n",
      " 2   Product_Category  1048575 non-null  object\n",
      " 3   Date              1037336 non-null  object\n",
      " 4   Order_Demand      1048575 non-null  object\n",
      "dtypes: object(5)\n",
      "memory usage: 40.0+ MB\n"
     ]
    }
   ],
   "source": [
    "df.info()"
   ]
  },
  {
   "cell_type": "code",
   "execution_count": 44,
   "metadata": {},
   "outputs": [
    {
     "data": {
      "text/plain": [
       "Product_Code            0\n",
       "Warehouse               0\n",
       "Product_Category        0\n",
       "Date                11239\n",
       "Order_Demand            0\n",
       "dtype: int64"
      ]
     },
     "execution_count": 44,
     "metadata": {},
     "output_type": "execute_result"
    }
   ],
   "source": [
    "## Check number of Null\n",
    "df.isnull().sum()"
   ]
  },
  {
   "cell_type": "code",
   "execution_count": 45,
   "metadata": {},
   "outputs": [],
   "source": [
    "## Drop Null data row axis\n",
    "df.dropna(axis=0,inplace=True)"
   ]
  },
  {
   "cell_type": "code",
   "execution_count": 46,
   "metadata": {},
   "outputs": [
    {
     "name": "stdout",
     "output_type": "stream",
     "text": [
      "<class 'pandas.core.frame.DataFrame'>\n",
      "Int64Index: 1037336 entries, 0 to 1048574\n",
      "Data columns (total 5 columns):\n",
      " #   Column            Non-Null Count    Dtype \n",
      "---  ------            --------------    ----- \n",
      " 0   Product_Code      1037336 non-null  object\n",
      " 1   Warehouse         1037336 non-null  object\n",
      " 2   Product_Category  1037336 non-null  object\n",
      " 3   Date              1037336 non-null  object\n",
      " 4   Order_Demand      1037336 non-null  object\n",
      "dtypes: object(5)\n",
      "memory usage: 47.5+ MB\n"
     ]
    }
   ],
   "source": [
    "df.info()"
   ]
  },
  {
   "cell_type": "code",
   "execution_count": 47,
   "metadata": {},
   "outputs": [],
   "source": [
    "## Transform Date column to datetime index\n",
    "df['Date'] = pd.to_datetime(df['Date'])"
   ]
  },
  {
   "cell_type": "code",
   "execution_count": 48,
   "metadata": {},
   "outputs": [],
   "source": [
    "df.set_index('Date',inplace=True)"
   ]
  },
  {
   "cell_type": "code",
   "execution_count": 49,
   "metadata": {
    "scrolled": true
   },
   "outputs": [
    {
     "data": {
      "text/html": [
       "<div>\n",
       "<style scoped>\n",
       "    .dataframe tbody tr th:only-of-type {\n",
       "        vertical-align: middle;\n",
       "    }\n",
       "\n",
       "    .dataframe tbody tr th {\n",
       "        vertical-align: top;\n",
       "    }\n",
       "\n",
       "    .dataframe thead th {\n",
       "        text-align: right;\n",
       "    }\n",
       "</style>\n",
       "<table border=\"1\" class=\"dataframe\">\n",
       "  <thead>\n",
       "    <tr style=\"text-align: right;\">\n",
       "      <th></th>\n",
       "      <th>Product_Code</th>\n",
       "      <th>Warehouse</th>\n",
       "      <th>Product_Category</th>\n",
       "      <th>Order_Demand</th>\n",
       "    </tr>\n",
       "    <tr>\n",
       "      <th>Date</th>\n",
       "      <th></th>\n",
       "      <th></th>\n",
       "      <th></th>\n",
       "      <th></th>\n",
       "    </tr>\n",
       "  </thead>\n",
       "  <tbody>\n",
       "    <tr>\n",
       "      <th>2012-07-27</th>\n",
       "      <td>Product_0993</td>\n",
       "      <td>Whse_J</td>\n",
       "      <td>Category_028</td>\n",
       "      <td>100</td>\n",
       "    </tr>\n",
       "    <tr>\n",
       "      <th>2012-01-19</th>\n",
       "      <td>Product_0979</td>\n",
       "      <td>Whse_J</td>\n",
       "      <td>Category_028</td>\n",
       "      <td>500</td>\n",
       "    </tr>\n",
       "    <tr>\n",
       "      <th>2012-02-03</th>\n",
       "      <td>Product_0979</td>\n",
       "      <td>Whse_J</td>\n",
       "      <td>Category_028</td>\n",
       "      <td>500</td>\n",
       "    </tr>\n",
       "    <tr>\n",
       "      <th>2012-02-09</th>\n",
       "      <td>Product_0979</td>\n",
       "      <td>Whse_J</td>\n",
       "      <td>Category_028</td>\n",
       "      <td>500</td>\n",
       "    </tr>\n",
       "    <tr>\n",
       "      <th>2012-03-02</th>\n",
       "      <td>Product_0979</td>\n",
       "      <td>Whse_J</td>\n",
       "      <td>Category_028</td>\n",
       "      <td>500</td>\n",
       "    </tr>\n",
       "  </tbody>\n",
       "</table>\n",
       "</div>"
      ],
      "text/plain": [
       "            Product_Code Warehouse Product_Category Order_Demand\n",
       "Date                                                            \n",
       "2012-07-27  Product_0993    Whse_J     Category_028         100 \n",
       "2012-01-19  Product_0979    Whse_J     Category_028         500 \n",
       "2012-02-03  Product_0979    Whse_J     Category_028         500 \n",
       "2012-02-09  Product_0979    Whse_J     Category_028         500 \n",
       "2012-03-02  Product_0979    Whse_J     Category_028         500 "
      ]
     },
     "execution_count": 49,
     "metadata": {},
     "output_type": "execute_result"
    }
   ],
   "source": [
    "df.head()"
   ]
  },
  {
   "cell_type": "code",
   "execution_count": 50,
   "metadata": {},
   "outputs": [],
   "source": [
    "# pd.to_numeric(df['Order_Demand']) ### Error due to assest in cell data include \"()\" \n",
    "import re\n",
    "## Create Function to fill numerical\n",
    "def cleanStr(inputs):\n",
    "    return re.sub(\"[^0-9]\",\"\",inputs)\n",
    "df['Order_Demand'] = pd.to_numeric(df['Order_Demand'].apply(cleanStr))"
   ]
  },
  {
   "cell_type": "markdown",
   "metadata": {},
   "source": [
    "## Visualization data\n",
    "\n",
    "The visualization data is important process to explore Data behavior or data charatersitic by Visualization\n"
   ]
  },
  {
   "cell_type": "code",
   "execution_count": 51,
   "metadata": {
    "scrolled": true
   },
   "outputs": [
    {
     "data": {
      "text/plain": [
       "<matplotlib.axes._subplots.AxesSubplot at 0x1ec854e0828>"
      ]
     },
     "execution_count": 51,
     "metadata": {},
     "output_type": "execute_result"
    },
    {
     "data": {
      "image/png": "[encoded data removed]",
      "text/plain": [
       "<Figure size 648x504 with 1 Axes>"
      ]
     },
     "metadata": {
      "needs_background": "light"
     },
     "output_type": "display_data"
    }
   ],
   "source": [
    "plt.figure(figsize=(9,7))\n",
    "sns.barplot(x=df['Warehouse'],y=df['Order_Demand'])\n",
    "# df[['Warehouse','Order_Demand']].groupby('Warehouse').sum()"
   ]
  },
  {
   "cell_type": "markdown",
   "metadata": {},
   "source": [
    "The above picture shown the production volumes for each Factory which is imbalanced order. this problem is undefine what's going on. So we decide to forecast with sum of volume"
   ]
  },
  {
   "cell_type": "code",
   "execution_count": 52,
   "metadata": {},
   "outputs": [],
   "source": [
    "order_df = df['Order_Demand'].groupby('Date').sum()"
   ]
  },
  {
   "cell_type": "markdown",
   "metadata": {},
   "source": [
    "in the term forecasting in factory we will forecast the max order for each month. Due to the process capability is difficult to increase promptly.\n",
    "In this case, The management team should know the trend of max volume in the future"
   ]
  },
  {
   "cell_type": "code",
   "execution_count": 53,
   "metadata": {},
   "outputs": [],
   "source": [
    "## Resample to correct max of each start month\n",
    "order_df = order_df.resample('MS').max()"
   ]
  },
  {
   "cell_type": "code",
   "execution_count": 54,
   "metadata": {},
   "outputs": [],
   "source": [
    "## Repalce NaN cell with 0\n",
    "order_df = order_df.fillna(0)"
   ]
  },
  {
   "cell_type": "code",
   "execution_count": 55,
   "metadata": {},
   "outputs": [
    {
     "data": {
      "text/plain": [
       "<matplotlib.axes._subplots.AxesSubplot at 0x1ec841c2080>"
      ]
     },
     "execution_count": 55,
     "metadata": {},
     "output_type": "execute_result"
    },
    {
     "data": {
      "image/png": "[encoded data removed]",
      "text/plain": [
       "<Figure size 432x288 with 1 Axes>"
      ]
     },
     "metadata": {
      "needs_background": "light"
     },
     "output_type": "display_data"
    }
   ],
   "source": [
    "order_df.plot()"
   ]
  },
  {
   "cell_type": "markdown",
   "metadata": {},
   "source": [
    "in the picture above. We decide to drop out **2011** "
   ]
  },
  {
   "cell_type": "code",
   "execution_count": 56,
   "metadata": {
    "scrolled": true
   },
   "outputs": [
    {
     "data": {
      "text/plain": [
       "Text(0.5, 1.0, 'Order from customer each years')"
      ]
     },
     "execution_count": 56,
     "metadata": {},
     "output_type": "execute_result"
    },
    {
     "data": {
      "image/png": "[encoded data removed]",
      "text/plain": [
       "<Figure size 576x504 with 1 Axes>"
      ]
     },
     "metadata": {
      "needs_background": "light"
     },
     "output_type": "display_data"
    }
   ],
   "source": [
    "plt.figure(figsize=(8,7))\n",
    "order_df.plot()\n",
    "plt.title(\"Order from customer each years\")"
   ]
  },
  {
   "cell_type": "code",
   "execution_count": 57,
   "metadata": {},
   "outputs": [],
   "source": [
    "order_df_2012_2016 = order_df['2012':'2016']"
   ]
  },
  {
   "cell_type": "code",
   "execution_count": 58,
   "metadata": {},
   "outputs": [
    {
     "data": {
      "text/plain": [
       "<matplotlib.axes._subplots.AxesSubplot at 0x1ec8411e400>"
      ]
     },
     "execution_count": 58,
     "metadata": {},
     "output_type": "execute_result"
    },
    {
     "data": {
      "image/png": "[encoded data removed]",
      "text/plain": [
       "<Figure size 432x288 with 1 Axes>"
      ]
     },
     "metadata": {
      "needs_background": "light"
     },
     "output_type": "display_data"
    }
   ],
   "source": [
    "order_df_2012_2016.plot()"
   ]
  },
  {
   "cell_type": "markdown",
   "metadata": {},
   "source": [
    "## Arima Model\n",
    "\n",
    "Theory on ARIMA\n",
    "\n",
    "An ARIMA model is characterized by 3 terms: p, d, q where these three parameters account for seasonality (p), trend (d), and noise in data (q):\n",
    "\n",
    "* p is the order of the AR term (number of lags of Y to be used as predictors). If it snowed for the last wee, it is likely it will snow tomorrow.\n",
    "* q is the order of the MA term (moving average).\n",
    "* d is the number of differencing required to make the time series stationary. if already stationary d=0.\n",
    "\n",
    "But when dealing with SEASONALITY, it is best to incorporate it as 's'. ARIMA(p,d,q)(P,D,Q)s. Where 'pdq' are non seasonal params and 's' is the perdiocity of the time series. 4:quarter, 12:yearly etc.\n",
    "If a time series, has seasonal patterns, then you need to add seasonal terms and it becomes SARIMA, short for ‘Seasonal ARIMA’."
   ]
  },
  {
   "cell_type": "code",
   "execution_count": 59,
   "metadata": {},
   "outputs": [],
   "source": [
    "from statsmodels.tsa.seasonal import seasonal_decompose\n",
    "\n",
    "decompose = seasonal_decompose(order_df_2012_2016)"
   ]
  },
  {
   "cell_type": "code",
   "execution_count": 60,
   "metadata": {
    "scrolled": true
   },
   "outputs": [
    {
     "data": {
      "image/png": "[encoded data removed]",
      "text/plain": [
       "<Figure size 864x576 with 4 Axes>"
      ]
     },
     "metadata": {
      "needs_background": "light"
     },
     "output_type": "display_data"
    }
   ],
   "source": [
    "fig = decompose.plot()\n",
    "fig.set_size_inches(12,8)"
   ]
  },
  {
   "cell_type": "markdown",
   "metadata": {},
   "source": [
    "## Finding Is model a stationary\n",
    "\n",
    "The Stationary is the pattern of time series doesn't change variance and std relate the time.\n",
    "This hypotysis is proved by p-value "
   ]
  },
  {
   "cell_type": "code",
   "execution_count": 61,
   "metadata": {},
   "outputs": [
    {
     "name": "stdout",
     "output_type": "stream",
     "text": [
      "Reject Hypotysis with p-value: 0.05228252529847156\n"
     ]
    }
   ],
   "source": [
    "from statsmodels.tsa.stattools import adfuller\n",
    "\n",
    "result = adfuller(order_df)\n",
    "if result[1] <= 0.05:\n",
    "    print(f\"Accept Hypotysis with p-value: {result[1]}\")\n",
    "else:\n",
    "    print(f\"Reject Hypotysis with p-value: {result[1]}\")"
   ]
  },
  {
   "cell_type": "code",
   "execution_count": 62,
   "metadata": {},
   "outputs": [],
   "source": [
    "diff_1 = order_df_2012_2016.diff(1)"
   ]
  },
  {
   "cell_type": "code",
   "execution_count": 63,
   "metadata": {},
   "outputs": [
    {
     "name": "stdout",
     "output_type": "stream",
     "text": [
      "Accept Hypotysis with p-value: 9.589022393011419e-05\n"
     ]
    }
   ],
   "source": [
    "result = adfuller(diff_1.dropna())\n",
    "if result[1] <= 0.05:\n",
    "    print(f\"Accept Hypotysis with p-value: {result[1]}\")\n",
    "else:\n",
    "    print(f\"Reject Hypotysis with p-value: {result[1]}\")"
   ]
  },
  {
   "cell_type": "code",
   "execution_count": 64,
   "metadata": {},
   "outputs": [
    {
     "name": "stderr",
     "output_type": "stream",
     "text": [
      "C:\\Users\\n_int\\AppData\\Roaming\\Python\\Python37\\site-packages\\statsmodels\\graphics\\tsaplots.py:353: FutureWarning: The default method 'yw' can produce PACF values outside of the [-1,1] interval. After 0.13, the default will change tounadjusted Yule-Walker ('ywm'). You can use this method now by setting method='ywm'.\n",
      "  FutureWarning,\n"
     ]
    },
    {
     "data": {
      "image/png": "[encoded data removed]",
      "text/plain": [
       "<Figure size 432x288 with 1 Axes>"
      ]
     },
     "metadata": {
      "needs_background": "light"
     },
     "output_type": "display_data"
    }
   ],
   "source": [
    "from statsmodels.graphics.tsaplots import  plot_pacf\n",
    "fig = plot_pacf(diff_1.dropna())"
   ]
  },
  {
   "cell_type": "code",
   "execution_count": 65,
   "metadata": {
    "scrolled": true
   },
   "outputs": [
    {
     "data": {
      "image/png": "[encoded data removed]",
      "text/plain": [
       "<Figure size 432x288 with 1 Axes>"
      ]
     },
     "metadata": {
      "needs_background": "light"
     },
     "output_type": "display_data"
    }
   ],
   "source": [
    "from pandas.plotting import autocorrelation_plot\n",
    "autocorrelation_plot(diff_1.dropna())\n",
    "plt.show()"
   ]
  },
  {
   "cell_type": "code",
   "execution_count": 66,
   "metadata": {},
   "outputs": [
    {
     "name": "stderr",
     "output_type": "stream",
     "text": [
      "C:\\Users\\n_int\\AppData\\Roaming\\Python\\Python37\\site-packages\\statsmodels\\tsa\\statespace\\sarimax.py:978: UserWarning: Non-invertible starting MA parameters found. Using zeros as starting parameters.\n",
      "  warn('Non-invertible starting MA parameters found.'\n",
      "C:\\Users\\n_int\\AppData\\Roaming\\Python\\Python37\\site-packages\\statsmodels\\tsa\\statespace\\sarimax.py:978: UserWarning: Non-invertible starting MA parameters found. Using zeros as starting parameters.\n",
      "  warn('Non-invertible starting MA parameters found.'\n",
      "C:\\Users\\n_int\\AppData\\Roaming\\Python\\Python37\\site-packages\\statsmodels\\tsa\\statespace\\sarimax.py:978: UserWarning: Non-invertible starting MA parameters found. Using zeros as starting parameters.\n",
      "  warn('Non-invertible starting MA parameters found.'\n",
      "C:\\Users\\n_int\\AppData\\Roaming\\Python\\Python37\\site-packages\\statsmodels\\tsa\\statespace\\sarimax.py:978: UserWarning: Non-invertible starting MA parameters found. Using zeros as starting parameters.\n",
      "  warn('Non-invertible starting MA parameters found.'\n",
      "C:\\Users\\n_int\\AppData\\Roaming\\Python\\Python37\\site-packages\\statsmodels\\tsa\\statespace\\sarimax.py:966: UserWarning: Non-stationary starting autoregressive parameters found. Using zeros as starting parameters.\n",
      "  warn('Non-stationary starting autoregressive parameters'\n",
      "C:\\Users\\n_int\\AppData\\Roaming\\Python\\Python37\\site-packages\\statsmodels\\tsa\\statespace\\sarimax.py:978: UserWarning: Non-invertible starting MA parameters found. Using zeros as starting parameters.\n",
      "  warn('Non-invertible starting MA parameters found.'\n",
      "C:\\Users\\n_int\\AppData\\Roaming\\Python\\Python37\\site-packages\\statsmodels\\tsa\\statespace\\sarimax.py:978: UserWarning: Non-invertible starting MA parameters found. Using zeros as starting parameters.\n",
      "  warn('Non-invertible starting MA parameters found.'\n",
      "C:\\Users\\n_int\\AppData\\Roaming\\Python\\Python37\\site-packages\\statsmodels\\tsa\\statespace\\sarimax.py:978: UserWarning: Non-invertible starting MA parameters found. Using zeros as starting parameters.\n",
      "  warn('Non-invertible starting MA parameters found.'\n",
      "C:\\Users\\n_int\\AppData\\Roaming\\Python\\Python37\\site-packages\\statsmodels\\tsa\\statespace\\sarimax.py:966: UserWarning: Non-stationary starting autoregressive parameters found. Using zeros as starting parameters.\n",
      "  warn('Non-stationary starting autoregressive parameters'\n",
      "C:\\Users\\n_int\\AppData\\Roaming\\Python\\Python37\\site-packages\\statsmodels\\tsa\\statespace\\sarimax.py:978: UserWarning: Non-invertible starting MA parameters found. Using zeros as starting parameters.\n",
      "  warn('Non-invertible starting MA parameters found.'\n",
      "C:\\Users\\n_int\\AppData\\Roaming\\Python\\Python37\\site-packages\\statsmodels\\tsa\\statespace\\sarimax.py:966: UserWarning: Non-stationary starting autoregressive parameters found. Using zeros as starting parameters.\n",
      "  warn('Non-stationary starting autoregressive parameters'\n",
      "C:\\Users\\n_int\\AppData\\Roaming\\Python\\Python37\\site-packages\\statsmodels\\tsa\\statespace\\sarimax.py:978: UserWarning: Non-invertible starting MA parameters found. Using zeros as starting parameters.\n",
      "  warn('Non-invertible starting MA parameters found.'\n",
      "C:\\Users\\n_int\\AppData\\Roaming\\Python\\Python37\\site-packages\\statsmodels\\tsa\\statespace\\sarimax.py:966: UserWarning: Non-stationary starting autoregressive parameters found. Using zeros as starting parameters.\n",
      "  warn('Non-stationary starting autoregressive parameters'\n",
      "C:\\Users\\n_int\\AppData\\Roaming\\Python\\Python37\\site-packages\\statsmodels\\tsa\\statespace\\sarimax.py:978: UserWarning: Non-invertible starting MA parameters found. Using zeros as starting parameters.\n",
      "  warn('Non-invertible starting MA parameters found.'\n",
      "C:\\Users\\n_int\\AppData\\Roaming\\Python\\Python37\\site-packages\\statsmodels\\tsa\\statespace\\sarimax.py:978: UserWarning: Non-invertible starting MA parameters found. Using zeros as starting parameters.\n",
      "  warn('Non-invertible starting MA parameters found.'\n",
      "C:\\Users\\n_int\\AppData\\Roaming\\Python\\Python37\\site-packages\\statsmodels\\base\\model.py:606: ConvergenceWarning: Maximum Likelihood optimization failed to converge. Check mle_retvals\n",
      "  ConvergenceWarning)\n",
      "C:\\Users\\n_int\\AppData\\Roaming\\Python\\Python37\\site-packages\\statsmodels\\tsa\\statespace\\sarimax.py:978: UserWarning: Non-invertible starting MA parameters found. Using zeros as starting parameters.\n",
      "  warn('Non-invertible starting MA parameters found.'\n",
      "C:\\Users\\n_int\\AppData\\Roaming\\Python\\Python37\\site-packages\\statsmodels\\tsa\\statespace\\sarimax.py:978: UserWarning: Non-invertible starting MA parameters found. Using zeros as starting parameters.\n",
      "  warn('Non-invertible starting MA parameters found.'\n",
      "C:\\Users\\n_int\\AppData\\Roaming\\Python\\Python37\\site-packages\\statsmodels\\tsa\\statespace\\sarimax.py:966: UserWarning: Non-stationary starting autoregressive parameters found. Using zeros as starting parameters.\n",
      "  warn('Non-stationary starting autoregressive parameters'\n",
      "C:\\Users\\n_int\\AppData\\Roaming\\Python\\Python37\\site-packages\\statsmodels\\tsa\\statespace\\sarimax.py:978: UserWarning: Non-invertible starting MA parameters found. Using zeros as starting parameters.\n",
      "  warn('Non-invertible starting MA parameters found.'\n",
      "C:\\Users\\n_int\\AppData\\Roaming\\Python\\Python37\\site-packages\\statsmodels\\tsa\\statespace\\sarimax.py:966: UserWarning: Non-stationary starting autoregressive parameters found. Using zeros as starting parameters.\n",
      "  warn('Non-stationary starting autoregressive parameters'\n",
      "C:\\Users\\n_int\\AppData\\Roaming\\Python\\Python37\\site-packages\\statsmodels\\tsa\\statespace\\sarimax.py:978: UserWarning: Non-invertible starting MA parameters found. Using zeros as starting parameters.\n",
      "  warn('Non-invertible starting MA parameters found.'\n",
      "C:\\Users\\n_int\\AppData\\Roaming\\Python\\Python37\\site-packages\\statsmodels\\base\\model.py:606: ConvergenceWarning: Maximum Likelihood optimization failed to converge. Check mle_retvals\n",
      "  ConvergenceWarning)\n",
      "C:\\Users\\n_int\\AppData\\Roaming\\Python\\Python37\\site-packages\\statsmodels\\tsa\\statespace\\sarimax.py:966: UserWarning: Non-stationary starting autoregressive parameters found. Using zeros as starting parameters.\n",
      "  warn('Non-stationary starting autoregressive parameters'\n",
      "C:\\Users\\n_int\\AppData\\Roaming\\Python\\Python37\\site-packages\\statsmodels\\tsa\\statespace\\sarimax.py:978: UserWarning: Non-invertible starting MA parameters found. Using zeros as starting parameters.\n",
      "  warn('Non-invertible starting MA parameters found.'\n",
      "C:\\Users\\n_int\\AppData\\Roaming\\Python\\Python37\\site-packages\\statsmodels\\base\\model.py:606: ConvergenceWarning: Maximum Likelihood optimization failed to converge. Check mle_retvals\n",
      "  ConvergenceWarning)\n",
      "C:\\Users\\n_int\\AppData\\Roaming\\Python\\Python37\\site-packages\\statsmodels\\base\\model.py:606: ConvergenceWarning: Maximum Likelihood optimization failed to converge. Check mle_retvals\n",
      "  ConvergenceWarning)\n",
      "C:\\Users\\n_int\\AppData\\Roaming\\Python\\Python37\\site-packages\\statsmodels\\tsa\\statespace\\sarimax.py:978: UserWarning: Non-invertible starting MA parameters found. Using zeros as starting parameters.\n",
      "  warn('Non-invertible starting MA parameters found.'\n",
      "C:\\Users\\n_int\\AppData\\Roaming\\Python\\Python37\\site-packages\\statsmodels\\tsa\\statespace\\sarimax.py:978: UserWarning: Non-invertible starting MA parameters found. Using zeros as starting parameters.\n",
      "  warn('Non-invertible starting MA parameters found.'\n",
      "C:\\Users\\n_int\\AppData\\Roaming\\Python\\Python37\\site-packages\\statsmodels\\base\\model.py:606: ConvergenceWarning: Maximum Likelihood optimization failed to converge. Check mle_retvals\n",
      "  ConvergenceWarning)\n",
      "C:\\Users\\n_int\\AppData\\Roaming\\Python\\Python37\\site-packages\\statsmodels\\tsa\\statespace\\sarimax.py:978: UserWarning: Non-invertible starting MA parameters found. Using zeros as starting parameters.\n",
      "  warn('Non-invertible starting MA parameters found.'\n",
      "C:\\Users\\n_int\\AppData\\Roaming\\Python\\Python37\\site-packages\\statsmodels\\tsa\\statespace\\sarimax.py:978: UserWarning: Non-invertible starting MA parameters found. Using zeros as starting parameters.\n",
      "  warn('Non-invertible starting MA parameters found.'\n"
     ]
    }
   ],
   "source": [
    "from statsmodels.tsa.arima.model import ARIMA\n",
    "p=q=d = range(0,4)\n",
    "pdq = list(itertools.product(p,d,q))\n",
    "aic_results = []\n",
    "params = []\n",
    "for param in pdq:\n",
    "    model = ARIMA(order_df_2012_2016, order=param)\n",
    "    results = model.fit()\n",
    "    aic_results.append(results.aic)\n",
    "    params.append(param)"
   ]
  },
  {
   "cell_type": "code",
   "execution_count": 67,
   "metadata": {},
   "outputs": [
    {
     "data": {
      "text/plain": [
       "47"
      ]
     },
     "execution_count": 67,
     "metadata": {},
     "output_type": "execute_result"
    }
   ],
   "source": [
    "np.argmin(aic_results)"
   ]
  },
  {
   "cell_type": "code",
   "execution_count": 68,
   "metadata": {},
   "outputs": [
    {
     "data": {
      "text/plain": [
       "(2, 3, 3)"
      ]
     },
     "execution_count": 68,
     "metadata": {},
     "output_type": "execute_result"
    }
   ],
   "source": [
    "params[47]"
   ]
  },
  {
   "cell_type": "markdown",
   "metadata": {},
   "source": [
    "## Fit Model with the best parameter"
   ]
  },
  {
   "cell_type": "code",
   "execution_count": 142,
   "metadata": {},
   "outputs": [
    {
     "name": "stderr",
     "output_type": "stream",
     "text": [
      "C:\\Users\\n_int\\AppData\\Roaming\\Python\\Python37\\site-packages\\statsmodels\\tsa\\statespace\\sarimax.py:978: UserWarning: Non-invertible starting MA parameters found. Using zeros as starting parameters.\n",
      "  warn('Non-invertible starting MA parameters found.'\n"
     ]
    }
   ],
   "source": [
    "model = ARIMA(order_df,order=(2,3,3))\n",
    "final_result = model.fit()"
   ]
  },
  {
   "cell_type": "code",
   "execution_count": 143,
   "metadata": {},
   "outputs": [
    {
     "data": {
      "text/html": [
       "<table class=\"simpletable\">\n",
       "<caption>SARIMAX Results</caption>\n",
       "<tr>\n",
       "  <th>Dep. Variable:</th>     <td>Order_Demand</td>   <th>  No. Observations:  </th>    <td>73</td>    \n",
       "</tr>\n",
       "<tr>\n",
       "  <th>Model:</th>            <td>ARIMA(2, 3, 3)</td>  <th>  Log Likelihood     </th> <td>-1109.651</td>\n",
       "</tr>\n",
       "<tr>\n",
       "  <th>Date:</th>            <td>Fri, 15 Oct 2021</td> <th>  AIC                </th> <td>2231.302</td> \n",
       "</tr>\n",
       "<tr>\n",
       "  <th>Time:</th>                <td>23:00:29</td>     <th>  BIC                </th> <td>2244.793</td> \n",
       "</tr>\n",
       "<tr>\n",
       "  <th>Sample:</th>             <td>01-01-2011</td>    <th>  HQIC               </th> <td>2236.661</td> \n",
       "</tr>\n",
       "<tr>\n",
       "  <th></th>                   <td>- 01-01-2017</td>   <th>                     </th>     <td> </td>    \n",
       "</tr>\n",
       "<tr>\n",
       "  <th>Covariance Type:</th>        <td>opg</td>       <th>                     </th>     <td> </td>    \n",
       "</tr>\n",
       "</table>\n",
       "<table class=\"simpletable\">\n",
       "<tr>\n",
       "     <td></td>       <th>coef</th>     <th>std err</th>      <th>z</th>      <th>P>|z|</th>  <th>[0.025</th>    <th>0.975]</th>  \n",
       "</tr>\n",
       "<tr>\n",
       "  <th>ar.L1</th>  <td>   -1.1648</td> <td>    0.587</td> <td>   -1.986</td> <td> 0.047</td> <td>   -2.314</td> <td>   -0.015</td>\n",
       "</tr>\n",
       "<tr>\n",
       "  <th>ar.L2</th>  <td>   -0.3055</td> <td>    0.206</td> <td>   -1.486</td> <td> 0.137</td> <td>   -0.709</td> <td>    0.098</td>\n",
       "</tr>\n",
       "<tr>\n",
       "  <th>ma.L1</th>  <td>   -1.0629</td> <td>    0.632</td> <td>   -1.681</td> <td> 0.093</td> <td>   -2.302</td> <td>    0.176</td>\n",
       "</tr>\n",
       "<tr>\n",
       "  <th>ma.L2</th>  <td>   -0.7393</td> <td>    1.113</td> <td>   -0.664</td> <td> 0.506</td> <td>   -2.920</td> <td>    1.442</td>\n",
       "</tr>\n",
       "<tr>\n",
       "  <th>ma.L3</th>  <td>    0.8120</td> <td>    0.588</td> <td>    1.382</td> <td> 0.167</td> <td>   -0.340</td> <td>    1.964</td>\n",
       "</tr>\n",
       "<tr>\n",
       "  <th>sigma2</th> <td> 4.588e+12</td> <td> 5.03e-13</td> <td> 9.13e+24</td> <td> 0.000</td> <td> 4.59e+12</td> <td> 4.59e+12</td>\n",
       "</tr>\n",
       "</table>\n",
       "<table class=\"simpletable\">\n",
       "<tr>\n",
       "  <th>Ljung-Box (L1) (Q):</th>     <td>0.01</td> <th>  Jarque-Bera (JB):  </th> <td>13.34</td>\n",
       "</tr>\n",
       "<tr>\n",
       "  <th>Prob(Q):</th>                <td>0.91</td> <th>  Prob(JB):          </th> <td>0.00</td> \n",
       "</tr>\n",
       "<tr>\n",
       "  <th>Heteroskedasticity (H):</th> <td>0.82</td> <th>  Skew:              </th> <td>-0.09</td>\n",
       "</tr>\n",
       "<tr>\n",
       "  <th>Prob(H) (two-sided):</th>    <td>0.63</td> <th>  Kurtosis:          </th> <td>5.13</td> \n",
       "</tr>\n",
       "</table><br/><br/>Warnings:<br/>[1] Covariance matrix calculated using the outer product of gradients (complex-step).<br/>[2] Covariance matrix is singular or near-singular, with condition number 7.34e+40. Standard errors may be unstable."
      ],
      "text/plain": [
       "<class 'statsmodels.iolib.summary.Summary'>\n",
       "\"\"\"\n",
       "                               SARIMAX Results                                \n",
       "==============================================================================\n",
       "Dep. Variable:           Order_Demand   No. Observations:                   73\n",
       "Model:                 ARIMA(2, 3, 3)   Log Likelihood               -1109.651\n",
       "Date:                Fri, 15 Oct 2021   AIC                           2231.302\n",
       "Time:                        23:00:29   BIC                           2244.793\n",
       "Sample:                    01-01-2011   HQIC                          2236.661\n",
       "                         - 01-01-2017                                         \n",
       "Covariance Type:                  opg                                         \n",
       "==============================================================================\n",
       "                 coef    std err          z      P>|z|      [0.025      0.975]\n",
       "------------------------------------------------------------------------------\n",
       "ar.L1         -1.1648      0.587     -1.986      0.047      -2.314      -0.015\n",
       "ar.L2         -0.3055      0.206     -1.486      0.137      -0.709       0.098\n",
       "ma.L1         -1.0629      0.632     -1.681      0.093      -2.302       0.176\n",
       "ma.L2         -0.7393      1.113     -0.664      0.506      -2.920       1.442\n",
       "ma.L3          0.8120      0.588      1.382      0.167      -0.340       1.964\n",
       "sigma2      4.588e+12   5.03e-13   9.13e+24      0.000    4.59e+12    4.59e+12\n",
       "===================================================================================\n",
       "Ljung-Box (L1) (Q):                   0.01   Jarque-Bera (JB):                13.34\n",
       "Prob(Q):                              0.91   Prob(JB):                         0.00\n",
       "Heteroskedasticity (H):               0.82   Skew:                            -0.09\n",
       "Prob(H) (two-sided):                  0.63   Kurtosis:                         5.13\n",
       "===================================================================================\n",
       "\n",
       "Warnings:\n",
       "[1] Covariance matrix calculated using the outer product of gradients (complex-step).\n",
       "[2] Covariance matrix is singular or near-singular, with condition number 7.34e+40. Standard errors may be unstable.\n",
       "\"\"\""
      ]
     },
     "execution_count": 143,
     "metadata": {},
     "output_type": "execute_result"
    }
   ],
   "source": [
    "final_result.summary()"
   ]
  },
  {
   "cell_type": "code",
   "execution_count": 144,
   "metadata": {},
   "outputs": [
    {
     "data": {
      "text/plain": [
       "<matplotlib.legend.Legend at 0x1ec924e9a58>"
      ]
     },
     "execution_count": 144,
     "metadata": {},
     "output_type": "execute_result"
    },
    {
     "data": {
      "image/png": "[encoded data removed]",
      "text/plain": [
       "<Figure size 648x432 with 1 Axes>"
      ]
     },
     "metadata": {
      "needs_background": "light"
     },
     "output_type": "display_data"
    }
   ],
   "source": [
    "## Plot Comparision prediction \n",
    "\n",
    "plt.figure(figsize=(9,6))\n",
    "plt.plot(final_result.predict(),color='orange',label=\"predict\")\n",
    "plt.plot(order_df_2012_2016,color='green',label='actual')\n",
    "plt.legend()"
   ]
  },
  {
   "cell_type": "code",
   "execution_count": 146,
   "metadata": {},
   "outputs": [],
   "source": [
    "fig = results.plot_diagnostics(figsize = (11,7))"
   ]
  },
  {
   "cell_type": "code",
   "execution_count": 85,
   "metadata": {},
   "outputs": [],
   "source": [
    "start = datetime(2017,1,1)\n",
    "end = datetime(2017,12,1)\n",
    "forecast_12 = results.predict(start=start,end=end)"
   ]
  },
  {
   "cell_type": "code",
   "execution_count": 87,
   "metadata": {},
   "outputs": [
    {
     "data": {
      "text/plain": [
       "2017-01-01    6.086322e+06\n",
       "2017-02-01    5.911765e+06\n",
       "2017-03-01    5.974357e+06\n",
       "2017-04-01    5.701383e+06\n",
       "2017-05-01    5.798268e+06\n",
       "2017-06-01    5.506933e+06\n",
       "2017-07-01    5.605976e+06\n",
       "2017-08-01    5.309476e+06\n",
       "2017-09-01    5.405297e+06\n",
       "2017-10-01    5.105829e+06\n",
       "2017-11-01    5.197530e+06\n",
       "2017-12-01    4.895459e+06\n",
       "Freq: MS, Name: predicted_mean, dtype: float64"
      ]
     },
     "execution_count": 87,
     "metadata": {},
     "output_type": "execute_result"
    }
   ],
   "source": [
    "forecast_12"
   ]
  },
  {
   "cell_type": "code",
   "execution_count": 147,
   "metadata": {},
   "outputs": [
    {
     "data": {
      "text/plain": [
       "<matplotlib.axes._subplots.AxesSubplot at 0x1ec921c74a8>"
      ]
     },
     "execution_count": 147,
     "metadata": {},
     "output_type": "execute_result"
    },
    {
     "data": {
      "image/png": "[encoded data removed]",
      "text/plain": [
       "<Figure size 648x432 with 1 Axes>"
      ]
     },
     "metadata": {
      "needs_background": "light"
     },
     "output_type": "display_data"
    }
   ],
   "source": [
    "plt.figure(figsize=(9,6))\n",
    "plt.plot(order_df_2012_2016,color='blue')\n",
    "forecast_12.plot(color='green')"
   ]
  },
  {
   "cell_type": "code",
   "execution_count": 111,
   "metadata": {},
   "outputs": [],
   "source": [
    "p=q=d = range(0,3)\n",
    "seasonal_order = []\n",
    "for i,j,k in pdq:\n",
    "    seasonal_order.append((i,j,k,12))"
   ]
  },
  {
   "cell_type": "markdown",
   "metadata": {},
   "source": [
    "## Prediction with SARIMA"
   ]
  },
  {
   "cell_type": "code",
   "execution_count": 141,
   "metadata": {},
   "outputs": [],
   "source": [
    "aic_results = []\n",
    "params = []\n",
    "for param in pdq:\n",
    "    for season_param in seasonal_order:\n",
    "        model_sa = sm.tsa.statespace.SARIMAX(order_df,order=param,seasonal_order=season_param,enforce_stationarity=False,\n",
    "                                            enforce_invertibility=False)\n",
    "        results = model_sa.fit()\n",
    "        aic_results.append(results.aic)\n",
    "        params.append((param,season_param))"
   ]
  },
  {
   "cell_type": "code",
   "execution_count": 132,
   "metadata": {},
   "outputs": [
    {
     "data": {
      "text/plain": [
       "[2033.3153153427572,\n",
       " 1594.2987750367306,\n",
       " 1422.6244405847756,\n",
       " 721.1185595499877,\n",
       " 1486.2726958457577,\n",
       " 3326.986505875461,\n",
       " 722.3997418529648,\n",
       " 345.80140672871784,\n",
       " 1153.504351059914,\n",
       " 745.8614562565151,\n",
       " 355.1459062485423,\n",
       " 8.0,\n",
       " 2191.950483652128,\n",
       " 455.8164499170365,\n",
       " 6.0,\n",
       " 8.0,\n",
       " 1517.1463165052378,\n",
       " 1483.3732804723966,\n",
       " 1090.7183369261597,\n",
       " 721.0102744311464,\n",
       " 1121.2036367677686,\n",
       " 3123.810673093137,\n",
       " 722.9500167488778,\n",
       " 347.25149944647177,\n",
       " 776.9735532126983,\n",
       " 745.203434236178,\n",
       " 356.7324897838251,\n",
       " 10.0,\n",
       " 396.23269254562524,\n",
       " 367.51617167321183,\n",
       " 8.0,\n",
       " 10.0,\n",
       " 1123.0755859821616,\n",
       " 1123.135322325008,\n",
       " 1089.8083123483545,\n",
       " 720.4909159956378,\n",
       " 748.0978155123507,\n",
       " 2092.6922259707753,\n",
       " 723.070670833156,\n",
       " 349.2514993572154,\n",
       " 371.5496211714523,\n",
       " 388.94970486708706,\n",
       " 358.7316158910334,\n",
       " 12.0,\n",
       " 6.0,\n",
       " 8.0,\n",
       " 10.0,\n",
       " 12.0,\n",
       " 748.4131609335534,\n",
       " 748.5526383379477,\n",
       " 750.2309216787866,\n",
       " 722.4909143256041,\n",
       " 367.2228007963563,\n",
       " 1081.2077678719675,\n",
       " 379.94585490844855,\n",
       " 351.25149932953866,\n",
       " 8.0,\n",
       " 10.0,\n",
       " 12.0,\n",
       " 14.0,\n",
       " 8.0,\n",
       " 10.0,\n",
       " 12.0,\n",
       " 14.0,\n",
       " 1961.6250257465642,\n",
       " 1551.5734399239082,\n",
       " 1149.3023208180684,\n",
       " 745.9419907523909,\n",
       " 1452.1000502818988,\n",
       " 3243.2641424763688,\n",
       " 693.0931230194561,\n",
       " 317.1029203438478,\n",
       " 1115.363852297487,\n",
       " 716.1166785675634,\n",
       " 325.88039780358514,\n",
       " 10.0,\n",
       " 956.1678477081211,\n",
       " 359.2260966712385,\n",
       " 8.0,\n",
       " 10.0,\n",
       " 1612.7339201782256,\n",
       " 1547.478997627876,\n",
       " 1147.3456160149478,\n",
       " 747.9157597250038,\n",
       " 1126.3948265213223,\n",
       " 3084.934667599817,\n",
       " 693.9454531474518,\n",
       " 318.25471775039296,\n",
       " 781.5636358772613,\n",
       " 715.3079643036359,\n",
       " 327.99648551996313,\n",
       " 12.0,\n",
       " 403.17886363227626,\n",
       " 337.89236322295665,\n",
       " 10.0,\n",
       " 12.0,\n",
       " 1212.3531536360472,\n",
       " 1214.291032261957,\n",
       " 1149.2573060981897,\n",
       " 749.869687765251,\n",
       " 752.4076163562545,\n",
       " 2129.343991831969,\n",
       " 694.388068134155,\n",
       " 320.2548574141266,\n",
       " 390.0363736644961,\n",
       " 391.47180037027334,\n",
       " 329.9548430297561,\n",
       " 14.0,\n",
       " 8.0,\n",
       " 10.0,\n",
       " 12.0,\n",
       " 14.0,\n",
       " 812.7372111236585,\n",
       " 814.7124310813891,\n",
       " 816.7107186963135,\n",
       " 751.8590599582013,\n",
       " 378.6190376483538,\n",
       " 1101.3427004811692,\n",
       " 381.85321347973473,\n",
       " 322.25528116000305,\n",
       " 10.0,\n",
       " 12.0,\n",
       " 14.0,\n",
       " 16.0,\n",
       " 10.0,\n",
       " 12.0,\n",
       " 14.0,\n",
       " 16.0,\n",
       " 1922.0922319681367,\n",
       " 1517.307156434501,\n",
       " 1116.351730298894,\n",
       " 714.2332138123263,\n",
       " 1423.381449462782,\n",
       " 3147.0510400840476,\n",
       " 662.5327791015939,\n",
       " 287.4836531817856,\n",
       " 1085.5109613810212,\n",
       " 685.2569923907063,\n",
       " 295.320523098075,\n",
       " 12.0,\n",
       " 759.8844751757704,\n",
       " 325.7500691785676,\n",
       " 10.0,\n",
       " 12.0,\n",
       " 1614.1805619001686,\n",
       " 1515.4772041140866,\n",
       " 1115.5271217926283,\n",
       " 716.2223978443021,\n",
       " 1127.1141015020469,\n",
       " 2993.437137997982,\n",
       " 663.3736073311983,\n",
       " 288.21585586435856,\n",
       " 782.647388432159,\n",
       " 682.6151761893819,\n",
       " 297.6551885827984,\n",
       " 14.0,\n",
       " 404.13371377726054,\n",
       " 307.0246363177102,\n",
       " 12.0,\n",
       " 14.0,\n",
       " 1213.925830742159,\n",
       " 1215.8643753057372,\n",
       " 1117.4212151500515,\n",
       " 718.1769039688198,\n",
       " 752.6499053494493,\n",
       " 2129.1625728188665,\n",
       " 662.0088758280045,\n",
       " 290.7239220347379,\n",
       " 391.1750407481734,\n",
       " 392.5785757562659,\n",
       " 299.08265868607464,\n",
       " 16.0,\n",
       " 10.0,\n",
       " 12.0,\n",
       " 14.0,\n",
       " 16.0,\n",
       " 814.4328168355798,\n",
       " 816.4187863395509,\n",
       " 818.4151130333692,\n",
       " 720.003139524125,\n",
       " 378.0610827300508,\n",
       " 1102.251990974618,\n",
       " 382.04852080061903,\n",
       " 292.53276554748004,\n",
       " 12.0,\n",
       " 14.0,\n",
       " 16.0,\n",
       " 18.0,\n",
       " 12.0,\n",
       " 14.0,\n",
       " 16.0,\n",
       " 18.0,\n",
       " 1885.9882511791184,\n",
       " 1483.264675479311,\n",
       " 1082.1213598804807,\n",
       " 681.9575073227647,\n",
       " 1394.1284432347604,\n",
       " 3054.3263931959855,\n",
       " 633.0806494803172,\n",
       " 257.5809002699624,\n",
       " 1055.4734187552967,\n",
       " 652.5998853199463,\n",
       " 265.7342918660434,\n",
       " 14.0,\n",
       " 723.8851928557674,\n",
       " 283.4620808347174,\n",
       " 12.0,\n",
       " 14.0,\n",
       " 1614.7055891987739,\n",
       " 1482.6481844977911,\n",
       " 1084.105670341719,\n",
       " 683.9500979311823,\n",
       " 1129.19623897517,\n",
       " 2905.4280639004073,\n",
       " 634.4899696953423,\n",
       " 259.4980551365651,\n",
       " 784.6353090184662,\n",
       " 650.8650106545759,\n",
       " 267.8485827599112,\n",
       " 16.0,\n",
       " 407.63926828918255,\n",
       " 276.4917508295699,\n",
       " 14.0,\n",
       " 16.0,\n",
       " 1214.8280899134388,\n",
       " 1216.7649616109682,\n",
       " 1084.8738525417066,\n",
       " 685.868122993491,\n",
       " 754.7934037982008,\n",
       " 2131.4611567456395,\n",
       " 630.8796627623652,\n",
       " 261.5428033079054,\n",
       " 393.756689762866,\n",
       " 394.92688782154187,\n",
       " 269.7828671744562,\n",
       " 18.0,\n",
       " 12.0,\n",
       " 14.0,\n",
       " 16.0,\n",
       " 18.0,\n",
       " 815.69529061512,\n",
       " 817.6698509777132,\n",
       " 819.6121918174248,\n",
       " 687.9820163847488,\n",
       " 380.3692013030984,\n",
       " 1104.4012829380042,\n",
       " 384.23023313929923,\n",
       " 263.7501934993223,\n",
       " 14.0,\n",
       " 16.0,\n",
       " 18.0,\n",
       " 20.0,\n",
       " 14.0,\n",
       " 16.0,\n",
       " 18.0,\n",
       " 20.0,\n",
       " 1814.363541064321,\n",
       " 1441.1333843902275,\n",
       " 1073.2804184928207,\n",
       " 692.6112323465854,\n",
       " 1473.5392349673361,\n",
       " 3161.4009356519746,\n",
       " 695.5424260181771,\n",
       " 320.0303662690276,\n",
       " 1136.8429151339485,\n",
       " 722.0829724079123,\n",
       " 327.91526024309627,\n",
       " 8.0,\n",
       " 931.126957802882,\n",
       " 350.36094458286493,\n",
       " 6.0,\n",
       " 8.0,\n",
       " 1471.441553082011,\n",
       " 1441.2883499083423,\n",
       " 1067.8796677802163,\n",
       " 692.02952256627,\n",
       " 1105.8204840881756,\n",
       " 3140.7296383109347,\n",
       " 697.4488185036449,\n",
       " 321.01156678820695,\n",
       " 752.5131832165615,\n",
       " 718.7689986042011,\n",
       " 329.71841265391816,\n",
       " 10.0,\n",
       " 365.690045847928,\n",
       " 339.9287446847589,\n",
       " 8.0,\n",
       " 10.0,\n",
       " 1102.4965119174217,\n",
       " 1100.5297399783278,\n",
       " 1068.9868496275046,\n",
       " 693.7349766004622,\n",
       " 724.8678825243528,\n",
       " 2119.0569676021214,\n",
       " 699.1648283029256,\n",
       " 323.0115673948298,\n",
       " 346.7944264862698,\n",
       " 362.25175914273774,\n",
       " 331.66228276070586,\n",
       " 12.0,\n",
       " 6.0,\n",
       " 8.0,\n",
       " 10.0,\n",
       " 12.0,\n",
       " 725.9840126599977,\n",
       " 725.7110462071868,\n",
       " 724.5337786117276,\n",
       " 695.6655611690072,\n",
       " 343.0278363994663,\n",
       " 984.7737517180718,\n",
       " 354.3770877982248,\n",
       " 325.0115661248352,\n",
       " 8.0,\n",
       " 10.0,\n",
       " 12.0,\n",
       " 14.0,\n",
       " 8.0,\n",
       " 10.0,\n",
       " 12.0,\n",
       " 14.0,\n",
       " 1763.0297335134226,\n",
       " 1391.4915462934166,\n",
       " 1026.4012580929073,\n",
       " 657.0447307329924,\n",
       " 1427.2967469348705,\n",
       " 3058.538706332785,\n",
       " 660.4453156089678,\n",
       " 287.7899222523366,\n",
       " 1086.2962528907922,\n",
       " 685.7837053325069,\n",
       " 296.4111155345167,\n",
       " 10.0,\n",
       " 754.9052518482222,\n",
       " 318.3881335645493,\n",
       " 8.0,\n",
       " 10.0,\n",
       " 1451.055990478619,\n",
       " 1392.2816650227505,\n",
       " 1027.6271881587568,\n",
       " 655.8386971058405,\n",
       " 1097.5120759845856,\n",
       " 3083.665334641187,\n",
       " 662.3897694867998,\n",
       " 288.35398786196185,\n",
       " 750.9811496828925,\n",
       " 683.7008608788523,\n",
       " 298.1730931731146,\n",
       " 12.0,\n",
       " 373.56212220623104,\n",
       " 308.2330140995018,\n",
       " 10.0,\n",
       " 12.0,\n",
       " 1086.5340669052957,\n",
       " 1087.2038855524916,\n",
       " 1025.6533301861557,\n",
       " 657.5578671940864,\n",
       " 723.1236760936083,\n",
       " 2145.049211374267,\n",
       " 664.1501497418938,\n",
       " 290.3553092440867,\n",
       " 360.31219301000954,\n",
       " 362.12253880586866,\n",
       " 300.1726744387534,\n",
       " 14.0,\n",
       " 8.0,\n",
       " 10.0,\n",
       " 12.0,\n",
       " 14.0,\n",
       " 717.9780358371183,\n",
       " 719.2659826670525,\n",
       " 717.533866097848,\n",
       " 658.0345351043414,\n",
       " 348.801993947269,\n",
       " 1000.0734606652084,\n",
       " 352.5921839266944,\n",
       " 292.29751952034314,\n",
       " 10.0,\n",
       " 12.0,\n",
       " 14.0,\n",
       " 16.0,\n",
       " 10.0,\n",
       " 12.0,\n",
       " 14.0,\n",
       " 16.0,\n",
       " 1729.7429009725415,\n",
       " 1363.4141872687317,\n",
       " 996.2512786305006,\n",
       " 623.4599287346298,\n",
       " 1398.1652636866932,\n",
       " 2965.6111738378004,\n",
       " 631.020026111245,\n",
       " 258.1116552202364,\n",
       " 1054.2964939832286,\n",
       " 653.7814949675019,\n",
       " 264.96745169105156,\n",
       " 12.0,\n",
       " 760.2803101380096,\n",
       " 282.43557621148295,\n",
       " 10.0,\n",
       " 12.0,\n",
       " 1452.87816885552,\n",
       " 1363.6182596978351,\n",
       " 998.0494217317173,\n",
       " 624.8902571528157,\n",
       " 1098.118443731216,\n",
       " 2990.036995227766,\n",
       " 632.9528702818718,\n",
       " 258.63847272495076,\n",
       " 751.3923795081588,\n",
       " 650.1063508970021,\n",
       " 267.08519528468673,\n",
       " 14.0,\n",
       " 372.69650687010994,\n",
       " 274.85911190660295,\n",
       " 12.0,\n",
       " 14.0,\n",
       " 1087.8677716691911,\n",
       " 1088.803610089168,\n",
       " 996.0639203815275,\n",
       " 621.8941915290663,\n",
       " 724.2130584212493,\n",
       " 2145.3052654291537,\n",
       " 634.6328309316649,\n",
       " 260.66097243406386,\n",
       " 360.6946381042302,\n",
       " 362.6726998640406,\n",
       " 269.08518902793185,\n",
       " 16.0,\n",
       " 10.0,\n",
       " 12.0,\n",
       " 14.0,\n",
       " 16.0,\n",
       " 717.974124564076,\n",
       " 720.1388093923001,\n",
       " 720.4756683258585,\n",
       " 624.0962400654153,\n",
       " 349.8667584005217,\n",
       " 1001.2393995610238,\n",
       " 353.0148879855706,\n",
       " 262.6255658166799,\n",
       " 12.0,\n",
       " 14.0,\n",
       " 16.0,\n",
       " 18.0,\n",
       " 12.0,\n",
       " 14.0,\n",
       " 16.0,\n",
       " 18.0,\n",
       " 1700.528209966491,\n",
       " 1333.548176269744,\n",
       " 965.227950051058,\n",
       " 591.4152978960041,\n",
       " 1361.8297247706148,\n",
       " 2875.3650492159836,\n",
       " 602.1988431604995,\n",
       " 227.94158066023647,\n",
       " 1033.6339291252193,\n",
       " 620.8925841893414,\n",
       " 234.9694404749459,\n",
       " 14.0,\n",
       " 773.9886583983107,\n",
       " 244.3305281374367,\n",
       " 12.0,\n",
       " 14.0,\n",
       " 1454.2598360873199,\n",
       " 1334.170909871653,\n",
       " 964.299521842075,\n",
       " 592.8933179451448,\n",
       " 1100.0751432168552,\n",
       " 2899.0900636875117,\n",
       " 602.638461790833,\n",
       " 229.93600055921362,\n",
       " 748.6286719994903,\n",
       " 619.1387372148318,\n",
       " 236.48882533023715,\n",
       " 16.0,\n",
       " 374.90521948924544,\n",
       " 250.31355144428966,\n",
       " 14.0,\n",
       " 16.0,\n",
       " 1088.3278196379083,\n",
       " 1089.7188529950486,\n",
       " 966.238775930209,\n",
       " 594.8679041126646,\n",
       " 726.1821663194349,\n",
       " 2147.4382384902533,\n",
       " 604.5449509442806,\n",
       " 231.94279777072188,\n",
       " 362.151048827744,\n",
       " 364.0939198798765,\n",
       " 238.5101653732452,\n",
       " 18.0,\n",
       " 12.0,\n",
       " 14.0,\n",
       " 16.0,\n",
       " 18.0,\n",
       " 718.2520310970889,\n",
       " 718.7385721072617,\n",
       " 718.6976124809366,\n",
       " 593.2297979383085,\n",
       " 351.15527305458835,\n",
       " 1003.3029953728544,\n",
       " 355.19833618084414,\n",
       " 233.91295541301983,\n",
       " 14.0,\n",
       " 16.0,\n",
       " 18.0,\n",
       " 20.0,\n",
       " 14.0,\n",
       " 16.0,\n",
       " 18.0,\n",
       " 20.0,\n",
       " 1845.7856343563385,\n",
       " 1460.60010436388,\n",
       " 1081.5197833677437,\n",
       " 681.146336493772,\n",
       " 1488.280638204673,\n",
       " 3047.5016948286816,\n",
       " 685.3235767458945,\n",
       " 296.8740423063479,\n",
       " 1137.674921544462,\n",
       " 710.727597512419,\n",
       " 304.48834513364415,\n",
       " 8.0,\n",
       " 892.17995275419,\n",
       " 323.18351708190096,\n",
       " 6.0,\n",
       " 8.0,\n",
       " 1491.635737163582,\n",
       " 1458.0320193549794,\n",
       " 1070.229091640437,\n",
       " 682.173032592447,\n",
       " 1114.2671156883207,\n",
       " 3117.6464102733094,\n",
       " 687.3192556011301,\n",
       " 298.6959017677366,\n",
       " 746.0721653820804,\n",
       " 708.2956787222172,\n",
       " 306.5495089910941,\n",
       " 10.0,\n",
       " 342.7397227255755,\n",
       " 315.62538325459957,\n",
       " 8.0,\n",
       " 10.0,\n",
       " 1111.5834073768185,\n",
       " 1107.4676365017801,\n",
       " 1070.508183171068,\n",
       " 684.1681106343824,\n",
       " 716.8656585914889,\n",
       " 2078.17778639616,\n",
       " 689.0895336215298,\n",
       " 300.52527711624214,\n",
       " 327.52126385371884,\n",
       " 340.3830992027852,\n",
       " 308.4232908158431,\n",
       " 12.0,\n",
       " 6.0,\n",
       " 8.0,\n",
       " 10.0,\n",
       " 12.0,\n",
       " 718.8365807511966,\n",
       " 716.5448068835531,\n",
       " 716.7538712540489,\n",
       " 686.1681097129449,\n",
       " 323.4041971049279,\n",
       " 961.6094541814776,\n",
       " 333.54823584380915,\n",
       " 302.4960716069134,\n",
       " 8.0,\n",
       " 10.0,\n",
       " 12.0,\n",
       " 14.0,\n",
       " 8.0,\n",
       " 10.0,\n",
       " 12.0,\n",
       " 14.0,\n",
       " 1768.4994409983938,\n",
       " 1388.2037914616744,\n",
       " 1014.9332792902783,\n",
       " 635.9525426103559,\n",
       " 1414.070601755237,\n",
       " 2923.605558521099,\n",
       " 640.0610576542151,\n",
       " 260.1899646971884,\n",
       " 1069.3396068146947,\n",
       " 664.8171563369496,\n",
       " 268.1542969693477,\n",
       " 10.0,\n",
       " 768.7304389368962,\n",
       " 285.47356459875124,\n",
       " 8.0,\n",
       " 10.0,\n",
       " 1449.5310191371796,\n",
       " 1389.0301361919305,\n",
       " 1014.7069873867069,\n",
       " 637.7141052691841,\n",
       " 1083.6944166976402,\n",
       " 3064.3756711530696,\n",
       " 641.8110293130529,\n",
       " 261.59849619411466,\n",
       " 730.0162177688419,\n",
       " 662.1191766143538,\n",
       " 269.881533788299,\n",
       " 12.0,\n",
       " 344.87904451097654,\n",
       " 278.3350027172152,\n",
       " 10.0,\n",
       " 12.0,\n",
       " 1076.18437167265,\n",
       " 1075.765104073714,\n",
       " 1016.1271336715627,\n",
       " 638.2066119232334,\n",
       " 702.8690778825877,\n",
       " 2119.9255836539737,\n",
       " 643.4211715551703,\n",
       " 263.5500498883811,\n",
       " 333.2458770721498,\n",
       " 335.05098977458357,\n",
       " 271.68844108262647,\n",
       " 14.0,\n",
       " 8.0,\n",
       " 10.0,\n",
       " 12.0,\n",
       " 14.0,\n",
       " 698.4460318555446,\n",
       " 699.0852790176101,\n",
       " 701.0696006187467,\n",
       " 640.4338582523022,\n",
       " 323.1081994114547,\n",
       " 981.100526568601,\n",
       " 327.10636531721246,\n",
       " 265.37768409782194,\n",
       " 10.0,\n",
       " 12.0,\n",
       " 14.0,\n",
       " 16.0,\n",
       " 10.0,\n",
       " 12.0,\n",
       " 14.0,\n",
       " 16.0,\n",
       " 1721.0477297837983,\n",
       " 1344.0578532719353,\n",
       " 972.1190136417708,\n",
       " 599.6293436036696,\n",
       " 1370.3461210335438,\n",
       " 2833.8667461417476,\n",
       " 605.0209048484518,\n",
       " 230.56654249606322,\n",
       " 1032.611674188447,\n",
       " 629.9782140835479,\n",
       " 236.89427953773375,\n",
       " 12.0,\n",
       " 688.4334032672252,\n",
       " 250.72623803693654,\n",
       " 10.0,\n",
       " 12.0,\n",
       " 1436.5151010099246,\n",
       " 1345.3400078322097,\n",
       " 974.0196908613486,\n",
       " 600.4697384910116,\n",
       " 1100.6930855521512,\n",
       " 2970.30029275397,\n",
       " 607.660481639693,\n",
       " 232.03543409965792,\n",
       " 728.6771971777373,\n",
       " 627.8228109333365,\n",
       " 239.1196318003978,\n",
       " 14.0,\n",
       " 345.97001361289165,\n",
       " 246.22892017403,\n",
       " 12.0,\n",
       " 14.0,\n",
       " 1064.721732732031,\n",
       " 1064.8467478413336,\n",
       " 973.8702954149945,\n",
       " 602.420967899664,\n",
       " 700.6422307754148,\n",
       " 2121.5255820132493,\n",
       " 609.5558368231873,\n",
       " 234.08934074090504,\n",
       " 335.06495964505706,\n",
       " 336.40597554540307,\n",
       " 240.99741662113973,\n",
       " 16.0,\n",
       " 10.0,\n",
       " 12.0,\n",
       " 14.0,\n",
       " 16.0,\n",
       " 692.8911415849471,\n",
       " 692.7064948534331,\n",
       " 696.7440817488341,\n",
       " 604.296789308685,\n",
       " 324.8490014354667,\n",
       " 982.9187076409997,\n",
       " 327.7318809299927,\n",
       " 235.76368074368094,\n",
       " 12.0,\n",
       " 14.0,\n",
       " 16.0,\n",
       " 18.0,\n",
       " 12.0,\n",
       " 14.0,\n",
       " 16.0,\n",
       " 18.0,\n",
       " 1693.1764476939943,\n",
       " 1315.7879861934848,\n",
       " 943.7690657064469,\n",
       " 570.6890651918034,\n",
       " 1337.2560903085332,\n",
       " 2742.6484854283485,\n",
       " 576.7890413600186,\n",
       " 203.12972603796803,\n",
       " 993.2329612074692,\n",
       " 605.8736344848886,\n",
       " 208.27060507660073,\n",
       " 14.0,\n",
       " 648.3261431864368,\n",
       " 215.7087325673348,\n",
       " 12.0,\n",
       " 14.0,\n",
       " 1439.8223348425004,\n",
       " 1317.9833738043092,\n",
       " 945.7690657017378,\n",
       " 572.931410808946,\n",
       " 1076.8997212682677,\n",
       " 2874.7454660991125,\n",
       " 587.7989409711565,\n",
       " 205.75863487018523,\n",
       " 727.4568444777029,\n",
       " 602.2450115569163,\n",
       " 210.19165584359678,\n",
       " 16.0,\n",
       " 352.1055404017672,\n",
       " 213.9161050279414,\n",
       " 14.0,\n",
       " 16.0,\n",
       " 1066.3974522651206,\n",
       " 1067.5010225987423,\n",
       " 945.2803209687013,\n",
       " 574.7560813059368,\n",
       " 701.5726936567457,\n",
       " 682.6362799873652,\n",
       " 589.2821868513066,\n",
       " 207.94084950697743,\n",
       " 335.37848566124524,\n",
       " 336.95823613136133,\n",
       " 212.6822858376244,\n",
       " 18.0,\n",
       " 12.0,\n",
       " 14.0,\n",
       " 16.0,\n",
       " 18.0,\n",
       " 695.9763408279913,\n",
       " 697.9989936435202,\n",
       " 699.3293286462505,\n",
       " 576.5627112075389,\n",
       " 325.6586369152866,\n",
       " 984.231617880699,\n",
       " 328.74820253302374,\n",
       " 208.93690214826213,\n",
       " 14.0,\n",
       " 16.0,\n",
       " 18.0,\n",
       " 20.0,\n",
       " 14.0,\n",
       " 16.0,\n",
       " 18.0,\n",
       " 20.0,\n",
       " 1881.7787952138406,\n",
       " 1483.260433704215,\n",
       " 1089.4458090984808,\n",
       " 672.1237824985163,\n",
       " 1507.7602990861712,\n",
       " 2984.7319219593696,\n",
       " 676.3822275614552,\n",
       " 273.089229981879,\n",
       " 1141.1364551963204,\n",
       " 699.8059660825975,\n",
       " 280.2922485247537,\n",
       " 8.0,\n",
       " 877.2067924781038,\n",
       " 296.42352116820456,\n",
       " 6.0,\n",
       " 8.0,\n",
       " 1514.5538084993768,\n",
       " 1479.0647890641094,\n",
       " 1074.295976373372,\n",
       " 673.6458006663178,\n",
       " 1123.0288571545586,\n",
       " 2981.2485803756704,\n",
       " 678.3810753959,\n",
       " 275.0692121749405,\n",
       " 739.0994668814815,\n",
       " 697.9467008179388,\n",
       " 282.39203294567073,\n",
       " 10.0,\n",
       " 319.1292802213121,\n",
       " 290.3985744462155,\n",
       " 8.0,\n",
       " 10.0,\n",
       " 1120.6056862983405,\n",
       " 1114.1623238908746,\n",
       " 1075.4650392151648,\n",
       " 675.5678162901747,\n",
       " 709.4310094286059,\n",
       " 1960.858271921394,\n",
       " 680.1202483771317,\n",
       " 277.053056035072,\n",
       " 306.19462512533687,\n",
       " 317.66524924489124,\n",
       " 284.2870051494928,\n",
       " 12.0,\n",
       " 6.0,\n",
       " 8.0,\n",
       " 10.0,\n",
       " 12.0,\n",
       " 711.3273963766584,\n",
       " 707.7604191420852,\n",
       " 709.1811150340527,\n",
       " 677.5678169708891,\n",
       " 299.809872050542,\n",
       " 826.304825038553,\n",
       " 311.28162714448683,\n",
       " 279.05301797440836,\n",
       " 8.0,\n",
       " 10.0,\n",
       " 12.0,\n",
       " 14.0,\n",
       " 8.0,\n",
       " 10.0,\n",
       " 12.0,\n",
       " 14.0,\n",
       " 1792.1442189368252,\n",
       " 1403.0474208255516,\n",
       " 1020.2792702259945,\n",
       " 626.8546652216589,\n",
       " 1423.070110793193,\n",
       " 2207.4159918250893,\n",
       " 637.1754012462997,\n",
       " 239.1048903557907,\n",
       " 1088.6235797148736,\n",
       " 660.3156357669284,\n",
       " 245.39222831714258,\n",
       " 10.0,\n",
       " 705.7336206955737,\n",
       " 256.4379376811402,\n",
       " 8.0,\n",
       " 10.0,\n",
       " 1467.4994860778277,\n",
       " 1402.9861074556297,\n",
       " 1036.3829753252203,\n",
       " 628.846301025238,\n",
       " 1118.289613989076,\n",
       " 1592.1463117772687,\n",
       " 639.1529885093606,\n",
       " 240.47274126347665,\n",
       " 731.2598653378901,\n",
       " 659.8438123722267,\n",
       " 246.89944412597166,\n",
       " 12.0,\n",
       " 319.11609392115867,\n",
       " 250.57292931128302,\n",
       " 10.0,\n",
       " 12.0,\n",
       " 1083.8583327271042,\n",
       " 1108.2667570890087,\n",
       " 1038.183594996944,\n",
       " 627.0876811608646,\n",
       " 706.5152586426203,\n",
       " 1968.6129291073478,\n",
       " 641.150508316221,\n",
       " 242.9894333631206,\n",
       " 308.86157685473825,\n",
       " 310.74405285425894,\n",
       " 248.78465174373167,\n",
       " 14.0,\n",
       " 8.0,\n",
       " 10.0,\n",
       " 12.0,\n",
       " 14.0,\n",
       " 702.6145005463876,\n",
       " 701.7973696137298,\n",
       " 691.7279432748322,\n",
       " 629.2621154601218,\n",
       " 306.03576277962213,\n",
       " 12.0,\n",
       " 304.0385976640713,\n",
       " 244.55393562525808,\n",
       " 10.0,\n",
       " 12.0,\n",
       " 14.0,\n",
       " 16.0,\n",
       " 10.0,\n",
       " 12.0,\n",
       " 14.0,\n",
       " 16.0,\n",
       " 1735.2635971074012,\n",
       " 1417.6786273936614,\n",
       " 967.5279477390653,\n",
       " 586.8303884183576,\n",
       " 1372.366134149412,\n",
       " 2758.3849273328524,\n",
       " 588.7787178368002,\n",
       " 204.57963543514978,\n",
       " 1014.3319261778112,\n",
       " 608.7474520554352,\n",
       " 209.11623101917158,\n",
       " 12.0,\n",
       " 697.5269151573744,\n",
       " 218.0937040106435,\n",
       " 10.0,\n",
       " 12.0,\n",
       " 1445.7038631307698,\n",
       " 1419.5758776222508,\n",
       " 969.0081685021062,\n",
       " 588.4448277671622,\n",
       " 1071.9571139708466,\n",
       " 2803.4713451137304,\n",
       " 590.7766627885851,\n",
       " 205.78250419298482,\n",
       " 709.8640827329843,\n",
       " 609.1870006760665,\n",
       " 211.23086372762566,\n",
       " 14.0,\n",
       " 319.6193412125285,\n",
       " 217.38894335562827,\n",
       " 12.0,\n",
       " 14.0,\n",
       " 1064.0196720971749,\n",
       " 1098.822216634663,\n",
       " 969.7278556056867,\n",
       " 589.7592064716796,\n",
       " 688.2109625032415,\n",
       " 1967.8362741420478,\n",
       " 593.029716764064,\n",
       " 207.78432641166074,\n",
       " 309.12415666318753,\n",
       " 316.1430945334267,\n",
       " 213.16124689722727,\n",
       " 16.0,\n",
       " 10.0,\n",
       " 12.0,\n",
       " 14.0,\n",
       " 16.0,\n",
       " 682.2061529336264,\n",
       " 697.4388687584046,\n",
       " 685.725729811464,\n",
       " 591.8110457016523,\n",
       " 300.20687716722756,\n",
       " 843.7244573306776,\n",
       " 303.89038456478903,\n",
       " 209.77566270359733,\n",
       " 12.0,\n",
       " 14.0,\n",
       " 16.0,\n",
       " 18.0,\n",
       " 12.0,\n",
       " 14.0,\n",
       " 16.0,\n",
       " 18.0,\n",
       " 1694.5100854382479,\n",
       " 1318.1264228183916,\n",
       " 931.4979025733431,\n",
       " 575.3245959517259,\n",
       " 1332.8394572855675,\n",
       " 1382.7594497461532,\n",
       " 566.565119502544,\n",
       " 175.5879137944595,\n",
       " 996.6645366636257,\n",
       " 582.7722451105122,\n",
       " 178.81031222757284,\n",
       " 14.0,\n",
       " 630.5469270410239,\n",
       " 189.634653164731,\n",
       " 12.0,\n",
       " 14.0,\n",
       " 1437.9682839677819,\n",
       " 1318.8190258393513,\n",
       " 933.2527185688684,\n",
       " 577.0026615242432,\n",
       " 1067.7044547833805,\n",
       " 2708.868763931505,\n",
       " 558.591943390038,\n",
       " 177.9307848493779,\n",
       " 723.1612626293819,\n",
       " 583.4018175396048,\n",
       " 178.89865059508395,\n",
       " 16.0,\n",
       " 325.07737300607465,\n",
       " 186.2002300070522,\n",
       " 14.0,\n",
       " 16.0,\n",
       " 1088.7062388069312,\n",
       " 1090.8486732355366,\n",
       " 958.242254545206,\n",
       " 556.4363608862557,\n",
       " 696.8239412208962,\n",
       " 1967.3112995999286,\n",
       " 570.6316286952555,\n",
       " 180.1720873922437,\n",
       " ...]"
      ]
     },
     "execution_count": 132,
     "metadata": {},
     "output_type": "execute_result"
    }
   ],
   "source": [
    "aic_results"
   ]
  },
  {
   "cell_type": "code",
   "execution_count": 115,
   "metadata": {},
   "outputs": [
    {
     "data": {
      "text/plain": [
       "((0, 0, 0), (0, 3, 2, 12))"
      ]
     },
     "execution_count": 115,
     "metadata": {},
     "output_type": "execute_result"
    }
   ],
   "source": [
    "params[14]"
   ]
  },
  {
   "cell_type": "code",
   "execution_count": 138,
   "metadata": {},
   "outputs": [
    {
     "name": "stderr",
     "output_type": "stream",
     "text": [
      "C:\\Users\\n_int\\AppData\\Roaming\\Python\\Python37\\site-packages\\statsmodels\\tsa\\statespace\\sarimax.py:868: UserWarning: Too few observations to estimate starting parameters for seasonal ARMA. All parameters except for variances will be set to zeros.\n",
      "  ' zeros.' % warning_description)\n"
     ]
    }
   ],
   "source": [
    "# model_sa_final = sm.tsa.statespace.SARIMAX(order_df,order=(1,1,1),seasonal_order=(1, 1, 0, 12))\n",
    "model_sa_final = sm.tsa.statespace.SARIMAX(order_df,order=(0,0,0),seasonal_order=(0, 3, 2, 12))\n",
    "results_sa = model_sa.fit()"
   ]
  },
  {
   "cell_type": "code",
   "execution_count": 139,
   "metadata": {},
   "outputs": [
    {
     "data": {
      "text/html": [
       "<table class=\"simpletable\">\n",
       "<caption>SARIMAX Results</caption>\n",
       "<tr>\n",
       "  <th>Dep. Variable:</th>           <td>Order_Demand</td>         <th>  No. Observations:  </th>    <td>73</td>   \n",
       "</tr>\n",
       "<tr>\n",
       "  <th>Model:</th>           <td>SARIMAX(1, 1, [1, 2, 3], 12)</td> <th>  Log Likelihood     </th> <td>-387.265</td>\n",
       "</tr>\n",
       "<tr>\n",
       "  <th>Date:</th>                  <td>Fri, 15 Oct 2021</td>       <th>  AIC                </th>  <td>784.531</td>\n",
       "</tr>\n",
       "<tr>\n",
       "  <th>Time:</th>                      <td>22:59:33</td>           <th>  BIC                </th>  <td>790.421</td>\n",
       "</tr>\n",
       "<tr>\n",
       "  <th>Sample:</th>                   <td>01-01-2011</td>          <th>  HQIC               </th>  <td>786.094</td>\n",
       "</tr>\n",
       "<tr>\n",
       "  <th></th>                         <td>- 01-01-2017</td>         <th>                     </th>     <td> </td>   \n",
       "</tr>\n",
       "<tr>\n",
       "  <th>Covariance Type:</th>              <td>opg</td>             <th>                     </th>     <td> </td>   \n",
       "</tr>\n",
       "</table>\n",
       "<table class=\"simpletable\">\n",
       "<tr>\n",
       "      <td></td>        <th>coef</th>     <th>std err</th>      <th>z</th>      <th>P>|z|</th>  <th>[0.025</th>    <th>0.975]</th>  \n",
       "</tr>\n",
       "<tr>\n",
       "  <th>ar.S.L12</th> <td>   -0.5088</td> <td>    3.196</td> <td>   -0.159</td> <td> 0.874</td> <td>   -6.773</td> <td>    5.756</td>\n",
       "</tr>\n",
       "<tr>\n",
       "  <th>ma.S.L12</th> <td>    0.1034</td> <td>    4.001</td> <td>    0.026</td> <td> 0.979</td> <td>   -7.738</td> <td>    7.945</td>\n",
       "</tr>\n",
       "<tr>\n",
       "  <th>ma.S.L24</th> <td>   -0.2865</td> <td>    0.754</td> <td>   -0.380</td> <td> 0.704</td> <td>   -1.763</td> <td>    1.190</td>\n",
       "</tr>\n",
       "<tr>\n",
       "  <th>ma.S.L36</th> <td>    0.1266</td> <td>    0.863</td> <td>    0.147</td> <td> 0.883</td> <td>   -1.565</td> <td>    1.818</td>\n",
       "</tr>\n",
       "<tr>\n",
       "  <th>sigma2</th>   <td> 1.156e+13</td> <td> 1.48e-12</td> <td> 7.81e+24</td> <td> 0.000</td> <td> 1.16e+13</td> <td> 1.16e+13</td>\n",
       "</tr>\n",
       "</table>\n",
       "<table class=\"simpletable\">\n",
       "<tr>\n",
       "  <th>Ljung-Box (L1) (Q):</th>     <td>0.05</td> <th>  Jarque-Bera (JB):  </th> <td>37.14</td>\n",
       "</tr>\n",
       "<tr>\n",
       "  <th>Prob(Q):</th>                <td>0.83</td> <th>  Prob(JB):          </th> <td>0.00</td> \n",
       "</tr>\n",
       "<tr>\n",
       "  <th>Heteroskedasticity (H):</th> <td>3.10</td> <th>  Skew:              </th> <td>-1.56</td>\n",
       "</tr>\n",
       "<tr>\n",
       "  <th>Prob(H) (two-sided):</th>    <td>0.13</td> <th>  Kurtosis:          </th> <td>8.24</td> \n",
       "</tr>\n",
       "</table><br/><br/>Warnings:<br/>[1] Covariance matrix calculated using the outer product of gradients (complex-step).<br/>[2] Covariance matrix is singular or near-singular, with condition number 1.66e+41. Standard errors may be unstable."
      ],
      "text/plain": [
       "<class 'statsmodels.iolib.summary.Summary'>\n",
       "\"\"\"\n",
       "                                    SARIMAX Results                                     \n",
       "========================================================================================\n",
       "Dep. Variable:                     Order_Demand   No. Observations:                   73\n",
       "Model:             SARIMAX(1, 1, [1, 2, 3], 12)   Log Likelihood                -387.265\n",
       "Date:                          Fri, 15 Oct 2021   AIC                            784.531\n",
       "Time:                                  22:59:33   BIC                            790.421\n",
       "Sample:                              01-01-2011   HQIC                           786.094\n",
       "                                   - 01-01-2017                                         \n",
       "Covariance Type:                            opg                                         \n",
       "==============================================================================\n",
       "                 coef    std err          z      P>|z|      [0.025      0.975]\n",
       "------------------------------------------------------------------------------\n",
       "ar.S.L12      -0.5088      3.196     -0.159      0.874      -6.773       5.756\n",
       "ma.S.L12       0.1034      4.001      0.026      0.979      -7.738       7.945\n",
       "ma.S.L24      -0.2865      0.754     -0.380      0.704      -1.763       1.190\n",
       "ma.S.L36       0.1266      0.863      0.147      0.883      -1.565       1.818\n",
       "sigma2      1.156e+13   1.48e-12   7.81e+24      0.000    1.16e+13    1.16e+13\n",
       "===================================================================================\n",
       "Ljung-Box (L1) (Q):                   0.05   Jarque-Bera (JB):                37.14\n",
       "Prob(Q):                              0.83   Prob(JB):                         0.00\n",
       "Heteroskedasticity (H):               3.10   Skew:                            -1.56\n",
       "Prob(H) (two-sided):                  0.13   Kurtosis:                         8.24\n",
       "===================================================================================\n",
       "\n",
       "Warnings:\n",
       "[1] Covariance matrix calculated using the outer product of gradients (complex-step).\n",
       "[2] Covariance matrix is singular or near-singular, with condition number 1.66e+41. Standard errors may be unstable.\n",
       "\"\"\""
      ]
     },
     "execution_count": 139,
     "metadata": {},
     "output_type": "execute_result"
    }
   ],
   "source": [
    "results_sa.summary()"
   ]
  },
  {
   "cell_type": "code",
   "execution_count": 140,
   "metadata": {},
   "outputs": [
    {
     "data": {
      "text/plain": [
       "<matplotlib.legend.Legend at 0x1ec924e2828>"
      ]
     },
     "execution_count": 140,
     "metadata": {},
     "output_type": "execute_result"
    },
    {
     "data": {
      "image/png": "[encoded data removed]",
      "text/plain": [
       "<Figure size 648x432 with 1 Axes>"
      ]
     },
     "metadata": {
      "needs_background": "light"
     },
     "output_type": "display_data"
    }
   ],
   "source": [
    "## Plot Comparision prediction \n",
    "\n",
    "plt.figure(figsize=(9,6))\n",
    "plt.plot(results_sa.predict(),color='orange',label=\"predict\")\n",
    "plt.plot(order_df_2012_2016,color='green',label='actual')\n",
    "plt.legend()"
   ]
  },
  {
   "cell_type": "code",
   "execution_count": 148,
   "metadata": {},
   "outputs": [],
   "source": [
    "start = datetime(2017,1,1)\n",
    "end = datetime(2017,12,1)\n",
    "forecast_12 = results_sa.predict(start=start,end=end)"
   ]
  },
  {
   "cell_type": "code",
   "execution_count": 150,
   "metadata": {},
   "outputs": [
    {
     "data": {
      "text/plain": [
       "<matplotlib.axes._subplots.AxesSubplot at 0x1ec920b1a20>"
      ]
     },
     "execution_count": 150,
     "metadata": {},
     "output_type": "execute_result"
    },
    {
     "data": {
      "image/png": "[encoded data removed]",
      "text/plain": [
       "<Figure size 648x432 with 1 Axes>"
      ]
     },
     "metadata": {
      "needs_background": "light"
     },
     "output_type": "display_data"
    }
   ],
   "source": [
    "plt.figure(figsize=(9,6))\n",
    "plt.plot(order_df_2012_2016,color='blue')\n",
    "forecast_12.plot(color='green')"
   ]
  },
  {
   "cell_type": "code",
   "execution_count": null,
   "metadata": {},
   "outputs": [],
   "source": []
  }
 ],
 "metadata": {
  "kernelspec": {
   "display_name": "Python 3",
   "language": "python",
   "name": "python3"
  },
  "language_info": {
   "codemirror_mode": {
    "name": "ipython",
    "version": 3
   },
   "file_extension": ".py",
   "mimetype": "text/x-python",
   "name": "python",
   "nbconvert_exporter": "python",
   "pygments_lexer": "ipython3",
   "version": "3.7.3"
  }
 },
 "nbformat": 4,
 "nbformat_minor": 2
}
