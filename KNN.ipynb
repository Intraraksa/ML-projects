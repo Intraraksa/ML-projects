{
 "cells": [
  {
   "cell_type": "markdown",
   "metadata": {},
   "source": [
    "### K-Nearest Neighbors\n",
    "\n",
    "The algorithm find the nearest n number to the unknown X"
   ]
  },
  {
   "cell_type": "code",
   "execution_count": 1,
   "metadata": {},
   "outputs": [],
   "source": [
    "import numpy as np\n",
    "\n",
    "def kNN(Xtrain,ytrain,Xtest,k):\n",
    "    yTest = []\n",
    "    for x in Xtest:\n",
    "        d = np.sqrt(np.sum((Xtrain-x)**2,axis = 1))\n",
    "        idx = np.argsort(d)\n",
    "        (values,counts) = np.unique(ytrain[idx[:k]],return_counts= True)\n",
    "        ind = np.argmax(counts)\n",
    "        ytest.append(values[ind])\n",
    "    return ytest"
   ]
  },
  {
   "cell_type": "code",
   "execution_count": 15,
   "metadata": {},
   "outputs": [],
   "source": [
    "import pandas as pd\n",
    "iris = pd.read_csv('iris.csv',header = None,names=['a','b','c','d','label'])"
   ]
  },
  {
   "cell_type": "code",
   "execution_count": 16,
   "metadata": {},
   "outputs": [
    {
     "data": {
      "text/html": [
       "<div>\n",
       "<style scoped>\n",
       "    .dataframe tbody tr th:only-of-type {\n",
       "        vertical-align: middle;\n",
       "    }\n",
       "\n",
       "    .dataframe tbody tr th {\n",
       "        vertical-align: top;\n",
       "    }\n",
       "\n",
       "    .dataframe thead th {\n",
       "        text-align: right;\n",
       "    }\n",
       "</style>\n",
       "<table border=\"1\" class=\"dataframe\">\n",
       "  <thead>\n",
       "    <tr style=\"text-align: right;\">\n",
       "      <th></th>\n",
       "      <th>a</th>\n",
       "      <th>b</th>\n",
       "      <th>c</th>\n",
       "      <th>d</th>\n",
       "      <th>label</th>\n",
       "    </tr>\n",
       "  </thead>\n",
       "  <tbody>\n",
       "    <tr>\n",
       "      <th>0</th>\n",
       "      <td>5.1</td>\n",
       "      <td>3.5</td>\n",
       "      <td>1.4</td>\n",
       "      <td>0.2</td>\n",
       "      <td>Iris-setosa</td>\n",
       "    </tr>\n",
       "    <tr>\n",
       "      <th>1</th>\n",
       "      <td>4.9</td>\n",
       "      <td>3.0</td>\n",
       "      <td>1.4</td>\n",
       "      <td>0.2</td>\n",
       "      <td>Iris-setosa</td>\n",
       "    </tr>\n",
       "    <tr>\n",
       "      <th>2</th>\n",
       "      <td>4.7</td>\n",
       "      <td>3.2</td>\n",
       "      <td>1.3</td>\n",
       "      <td>0.2</td>\n",
       "      <td>Iris-setosa</td>\n",
       "    </tr>\n",
       "    <tr>\n",
       "      <th>3</th>\n",
       "      <td>4.6</td>\n",
       "      <td>3.1</td>\n",
       "      <td>1.5</td>\n",
       "      <td>0.2</td>\n",
       "      <td>Iris-setosa</td>\n",
       "    </tr>\n",
       "    <tr>\n",
       "      <th>4</th>\n",
       "      <td>5.0</td>\n",
       "      <td>3.6</td>\n",
       "      <td>1.4</td>\n",
       "      <td>0.2</td>\n",
       "      <td>Iris-setosa</td>\n",
       "    </tr>\n",
       "  </tbody>\n",
       "</table>\n",
       "</div>"
      ],
      "text/plain": [
       "     a    b    c    d        label\n",
       "0  5.1  3.5  1.4  0.2  Iris-setosa\n",
       "1  4.9  3.0  1.4  0.2  Iris-setosa\n",
       "2  4.7  3.2  1.3  0.2  Iris-setosa\n",
       "3  4.6  3.1  1.5  0.2  Iris-setosa\n",
       "4  5.0  3.6  1.4  0.2  Iris-setosa"
      ]
     },
     "execution_count": 16,
     "metadata": {},
     "output_type": "execute_result"
    }
   ],
   "source": [
    "iris.head()"
   ]
  },
  {
   "cell_type": "code",
   "execution_count": 23,
   "metadata": {},
   "outputs": [],
   "source": [
    "X = iris.drop(columns= 'label').values\n",
    "y = iris['label']"
   ]
  },
  {
   "cell_type": "code",
   "execution_count": 31,
   "metadata": {},
   "outputs": [],
   "source": [
    "def split_train_test(data,ratio):\n",
    "    train = list()\n",
    "    test  = list()\n",
    "    train_size = ratio*list(dataset)\n",
    "    test_size =  (1-ratio)*list(dataset)\n",
    "    "
   ]
  },
  {
   "cell_type": "code",
   "execution_count": 37,
   "metadata": {},
   "outputs": [
    {
     "data": {
      "text/plain": [
       "array(['Iris-setosa', 'Iris-versicolor', 'Iris-virginica'], dtype=object)"
      ]
     },
     "execution_count": 37,
     "metadata": {},
     "output_type": "execute_result"
    }
   ],
   "source": [
    "np.unique(iris['label'])"
   ]
  },
  {
   "cell_type": "code",
   "execution_count": 40,
   "metadata": {},
   "outputs": [
    {
     "data": {
      "text/plain": [
       "(array([50, 51, 52, 53, 54, 55, 56, 57, 58, 59, 60, 61, 62, 63, 64, 65, 66,\n",
       "        67, 68, 69, 70, 71, 72, 73, 74, 75, 76, 77, 78, 79, 80, 81, 82, 83,\n",
       "        84, 85, 86, 87, 88, 89, 90, 91, 92, 93, 94, 95, 96, 97, 98, 99],\n",
       "       dtype=int64),)"
      ]
     },
     "execution_count": 40,
     "metadata": {},
     "output_type": "execute_result"
    }
   ],
   "source": [
    "np.where(iris['label']=='Iris-versicolor')"
   ]
  },
  {
   "cell_type": "code",
   "execution_count": 41,
   "metadata": {},
   "outputs": [
    {
     "name": "stdout",
     "output_type": "stream",
     "text": [
      "<class 'pandas.core.frame.DataFrame'>\n",
      "RangeIndex: 150 entries, 0 to 149\n",
      "Data columns (total 5 columns):\n",
      "a        150 non-null float64\n",
      "b        150 non-null float64\n",
      "c        150 non-null float64\n",
      "d        150 non-null float64\n",
      "label    150 non-null object\n",
      "dtypes: float64(4), object(1)\n",
      "memory usage: 5.9+ KB\n"
     ]
    }
   ],
   "source": [
    "iris.info()"
   ]
  },
  {
   "cell_type": "code",
   "execution_count": 47,
   "metadata": {},
   "outputs": [],
   "source": [
    "a = [[1,1,3,9,14,23,14,15,36,4]]"
   ]
  },
  {
   "cell_type": "code",
   "execution_count": 49,
   "metadata": {},
   "outputs": [
    {
     "data": {
      "text/plain": [
       "array([0.11941422, 0.78279203, 0.26802373, 0.26706293, 0.72021275,\n",
       "       0.07824078, 0.03786059, 0.58035898, 0.96475965, 0.25644072,\n",
       "       0.13843277, 0.19531138, 0.37207782, 0.13701693, 0.33977952,\n",
       "       0.31189862, 0.94089714, 0.38772278, 0.39366434, 0.57296663,\n",
       "       0.65484778, 0.32946171, 0.43570124, 0.55750266, 0.02088902,\n",
       "       0.96973296, 0.43619394, 0.04937048, 0.65963349, 0.79024596,\n",
       "       0.57439433, 0.07169497, 0.01846482, 0.12175723, 0.43412058,\n",
       "       0.16247034, 0.14617602, 0.80003178, 0.11519644, 0.65369709,\n",
       "       0.92223143, 0.36282729, 0.05115678, 0.60892093, 0.69957247,\n",
       "       0.24069859, 0.17707982, 0.27325553, 0.09659027, 0.85118933,\n",
       "       0.0026151 , 0.31369343, 0.84396163, 0.36702801, 0.53508107,\n",
       "       0.0973655 , 0.72129569, 0.30417719, 0.68098032, 0.68623148,\n",
       "       0.7318166 , 0.83474307, 0.04207156, 0.16452831, 0.1158827 ,\n",
       "       0.67145636, 0.43116186, 0.68902295, 0.89082707, 0.83525383,\n",
       "       0.4834604 , 0.10774925, 0.01861358, 0.01857488, 0.98772453,\n",
       "       0.31048254, 0.33499892, 0.94221686, 0.93654346, 0.00503864,\n",
       "       0.46837661, 0.63884688, 0.25003939, 0.36478581, 0.00712983,\n",
       "       0.23190548, 0.63366621, 0.15860301, 0.60070622, 0.89155508,\n",
       "       0.41234888, 0.74189228, 0.17346456, 0.25381699, 0.61751542,\n",
       "       0.58834725, 0.12389674, 0.86668768, 0.99346975, 0.31709357,\n",
       "       0.46259106, 0.9235554 , 0.70521133, 0.14451238, 0.96478625,\n",
       "       0.13552784, 0.67337397, 0.93596827, 0.50496414, 0.53344914,\n",
       "       0.34893574, 0.48486649, 0.44209499, 0.21832024, 0.29238533,\n",
       "       0.12200703, 0.39130243, 0.43072284, 0.76113422, 0.02818715,\n",
       "       0.41466909, 0.62581536, 0.88766301, 0.18704522, 0.98296643,\n",
       "       0.19968268, 0.35712159, 0.47800251, 0.93333052, 0.62845743,\n",
       "       0.59256868, 0.81900468, 0.72874406, 0.99882463, 0.08106816,\n",
       "       0.58561341, 0.26619561, 0.95612266, 0.95718501, 0.10938838,\n",
       "       0.32162679, 0.28085815, 0.40639437, 0.71197813, 0.90381427,\n",
       "       0.01964558, 0.58931281, 0.02025439, 0.66682626, 0.89225494])"
      ]
     },
     "execution_count": 49,
     "metadata": {},
     "output_type": "execute_result"
    }
   ],
   "source": [
    "np.random.rand(len(iris))"
   ]
  },
  {
   "cell_type": "code",
   "execution_count": 58,
   "metadata": {},
   "outputs": [],
   "source": [
    "a = np.argsort(range(len(iris)))"
   ]
  },
  {
   "cell_type": "code",
   "execution_count": 62,
   "metadata": {},
   "outputs": [],
   "source": [
    "np.random.shuffle(a)"
   ]
  },
  {
   "cell_type": "code",
   "execution_count": 64,
   "metadata": {},
   "outputs": [
    {
     "data": {
      "text/plain": [
       "array([11.4, 17.4, 54. , 46.2, 64.2, 82.2, 61.2, 15.6, 12.6, 31.8, 40.8,\n",
       "       60.6, 63.6, 25.8, 46.8, 78. , 87.6, 49.8, 44.4, 62.4, 26.4, 85.8,\n",
       "       68.4, 69.6, 37.2,  0. , 16.2, 48. , 31.2, 86.4, 35.4, 81. , 24. ,\n",
       "       29.4, 23.4,  4.2, 42. , 34.2, 21. , 33. , 57. , 19.2, 39.6, 34.8,\n",
       "       47.4, 27.6,  8.4, 67.2, 22.8, 14.4,  9.6, 77.4,  9. , 71.4, 66. ,\n",
       "       43.2, 40.2, 87. , 10.2, 74.4, 58.8, 22.2, 45.6, 36. , 51.6, 20.4,\n",
       "       78.6, 51. , 84.6,  6.6, 28.2, 52.2, 33.6, 67.8, 82.8, 80.4, 16.8,\n",
       "        3.6, 50.4, 19.8, 58.2, 76.8, 30. , 70.8, 65.4, 12. ,  3. , 30.6,\n",
       "       72. , 39. , 25.2, 24.6, 66.6, 52.8, 59.4, 60. , 55.8,  5.4, 85.2,\n",
       "       13.8, 63. , 76.2,  1.8, 83.4, 79.8, 37.8, 45. , 28.8, 57.6, 15. ,\n",
       "        7.2, 27. , 48.6, 64.8, 42.6, 43.8,  7.8,  2.4, 32.4, 36.6, 89.4,\n",
       "       75. , 79.2, 81.6, 84. , 69. , 75.6, 54.6, 70.2, 21.6, 18. , 73.2,\n",
       "        0.6, 61.8, 10.8, 53.4, 41.4, 88.8,  1.2, 73.8, 88.2, 72.6,  6. ,\n",
       "       49.2, 56.4,  4.8, 38.4, 18.6, 13.2, 55.2])"
      ]
     },
     "execution_count": 64,
     "metadata": {},
     "output_type": "execute_result"
    }
   ],
   "source": [
    "a*0.6"
   ]
  },
  {
   "cell_type": "code",
   "execution_count": null,
   "metadata": {},
   "outputs": [],
   "source": []
  }
 ],
 "metadata": {
  "kernelspec": {
   "display_name": "Python 3",
   "language": "python",
   "name": "python3"
  },
  "language_info": {
   "codemirror_mode": {
    "name": "ipython",
    "version": 3
   },
   "file_extension": ".py",
   "mimetype": "text/x-python",
   "name": "python",
   "nbconvert_exporter": "python",
   "pygments_lexer": "ipython3",
   "version": "3.7.3"
  }
 },
 "nbformat": 4,
 "nbformat_minor": 2
}
