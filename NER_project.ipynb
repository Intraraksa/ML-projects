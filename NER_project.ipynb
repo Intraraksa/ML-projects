{
 "cells": [
  {
   "cell_type": "code",
   "execution_count": 1,
   "metadata": {},
   "outputs": [],
   "source": [
    "import spacy"
   ]
  },
  {
   "cell_type": "code",
   "execution_count": 2,
   "metadata": {},
   "outputs": [],
   "source": [
    "nlp = spacy.load(\"en_core_web_sm\")"
   ]
  },
  {
   "cell_type": "code",
   "execution_count": 3,
   "metadata": {},
   "outputs": [],
   "source": [
    "doc1 = nlp('Japan faces a unique challenge as its economy has been stagnant for decades, compared to the more buoyant economies of rivals the US and China')\n",
    "doc2 = nlp('Japan also relies heavily on exporting its goods and has little control over consumer demand in other countries, which has been severely impacted by coronavirus lockdowns. Many of its biggest brands, such as car firms Toyota and Honda, have seen sales slump across the world.')"
   ]
  },
  {
   "cell_type": "code",
   "execution_count": 19,
   "metadata": {},
   "outputs": [
    {
     "name": "stdout",
     "output_type": "stream",
     "text": [
      "Japan PROPN NNP noun, proper singular\n",
      "faces VERB VBZ verb, 3rd person singular present\n",
      "a DET DT determiner\n",
      "unique ADJ JJ adjective\n",
      "challenge NOUN NN noun, singular or mass\n",
      "as SCONJ IN conjunction, subordinating or preposition\n",
      "its PRON PRP$ pronoun, possessive\n",
      "economy NOUN NN noun, singular or mass\n",
      "has AUX VBZ verb, 3rd person singular present\n",
      "been AUX VBN verb, past participle\n",
      "stagnant ADJ JJ adjective\n",
      "for ADP IN conjunction, subordinating or preposition\n",
      "decades NOUN NNS noun, plural\n",
      ", PUNCT , punctuation mark, comma\n",
      "compared VERB VBN verb, past participle\n",
      "to ADP IN conjunction, subordinating or preposition\n",
      "the DET DT determiner\n",
      "more ADV RBR adverb, comparative\n",
      "buoyant ADJ JJ adjective\n",
      "economies NOUN NNS noun, plural\n",
      "of ADP IN conjunction, subordinating or preposition\n",
      "rivals NOUN NNS noun, plural\n",
      "the DET DT determiner\n",
      "US PROPN NNP noun, proper singular\n",
      "and CCONJ CC conjunction, coordinating\n",
      "China PROPN NNP noun, proper singular\n"
     ]
    }
   ],
   "source": [
    "for i in doc1:\n",
    "    print(i , i.pos_ , i.tag_ , spacy.explain(i.tag_))"
   ]
  },
  {
   "cell_type": "code",
   "execution_count": 43,
   "metadata": {},
   "outputs": [
    {
     "name": "stdout",
     "output_type": "stream",
     "text": [
      " PROPN : 3\n",
      " VERB : 2\n",
      " DET : 3\n",
      " ADJ : 3\n",
      " NOUN : 5\n",
      " SCONJ : 1\n",
      " PRON : 1\n",
      " AUX : 2\n",
      " ADP : 3\n",
      " PUNCT : 1\n",
      " ADV : 1\n",
      " CCONJ : 1\n"
     ]
    }
   ],
   "source": [
    "pos_count = doc1.count_by(spacy.attrs.POS)\n",
    "for k,v in pos_count.items():\n",
    "    print(f' {doc1.vocab[k].text} : {v}')"
   ]
  },
  {
   "cell_type": "code",
   "execution_count": 25,
   "metadata": {},
   "outputs": [
    {
     "data": {
      "text/plain": [
       "dict_items([(96, 3), (100, 2), (90, 3), (84, 3), (92, 5), (98, 1), (95, 1), (87, 2), (85, 3), (97, 1), (86, 1), (89, 1)])"
      ]
     },
     "execution_count": 25,
     "metadata": {},
     "output_type": "execute_result"
    }
   ],
   "source": []
  },
  {
   "cell_type": "code",
   "execution_count": 34,
   "metadata": {},
   "outputs": [
    {
     "data": {
      "text/plain": [
       "'PROPN'"
      ]
     },
     "execution_count": 34,
     "metadata": {},
     "output_type": "execute_result"
    }
   ],
   "source": [
    "doc1.vocab[96].text"
   ]
  },
  {
   "cell_type": "code",
   "execution_count": null,
   "metadata": {},
   "outputs": [],
   "source": []
  }
 ],
 "metadata": {
  "kernelspec": {
   "display_name": "Python 3",
   "language": "python",
   "name": "python3"
  },
  "language_info": {
   "codemirror_mode": {
    "name": "ipython",
    "version": 3
   },
   "file_extension": ".py",
   "mimetype": "text/x-python",
   "name": "python",
   "nbconvert_exporter": "python",
   "pygments_lexer": "ipython3",
   "version": "3.7.3"
  }
 },
 "nbformat": 4,
 "nbformat_minor": 2
}
