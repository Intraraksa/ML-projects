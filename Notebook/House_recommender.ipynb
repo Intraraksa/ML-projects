{
 "cells": [
  {
   "cell_type": "code",
   "execution_count": 1,
   "metadata": {},
   "outputs": [],
   "source": [
    "import pandas as pd\n",
    "import numpy as np\n",
    "import matplotlib.pyplot as plt\n",
    "import seaborn as sns\n",
    "%matplotlib inline"
   ]
  },
  {
   "cell_type": "markdown",
   "metadata": {},
   "source": [
    "# Import all files to notebook"
   ]
  },
  {
   "cell_type": "code",
   "execution_count": 2,
   "metadata": {},
   "outputs": [],
   "source": [
    "train = pd.read_csv(r'..\\data\\house prediction\\train.csv',index_col = 'Id')\n",
    "test = pd.read_csv(r'..\\data\\house prediction\\test.csv',index_col = 'Id')\n",
    "ans = pd.read_csv(r'..\\data\\house prediction\\sample_submission.csv',index_col = 'Id')"
   ]
  },
  {
   "cell_type": "code",
   "execution_count": null,
   "metadata": {},
   "outputs": [],
   "source": [
    "# test = pd.merge(test,ans,on= 'Id')"
   ]
  },
  {
   "cell_type": "code",
   "execution_count": null,
   "metadata": {
    "scrolled": false
   },
   "outputs": [],
   "source": [
    "# train.info()"
   ]
  },
  {
   "cell_type": "code",
   "execution_count": null,
   "metadata": {},
   "outputs": [],
   "source": [
    "null = []\n",
    "for i in train.columns:\n",
    "    val = pd.value_counts(train[i].isna())\n",
    "    if val[0]/len(train) <= 0.6:\n",
    "        null.append(i)\n",
    "\n",
    "print(\"The columns must delete are : \",null)"
   ]
  },
  {
   "cell_type": "code",
   "execution_count": null,
   "metadata": {},
   "outputs": [],
   "source": [
    "train_delete_col = train.drop(columns=null)\n",
    "test_delete_col = test.drop(columns=null)"
   ]
  },
  {
   "cell_type": "code",
   "execution_count": null,
   "metadata": {},
   "outputs": [],
   "source": [
    "# train_clean = train_delete_col.fillna(np.median)\n",
    "# test_clean = test_delete_col.fillna(np.median)\n",
    "train_clean = train_delete_col.fillna(train_delete_col.median())\n",
    "train_clean = train_clean.dropna(axis = 0)\n",
    "# test_clean = test_delete_col.fillna(train_delete_col.median(),inplace = True)"
   ]
  },
  {
   "cell_type": "code",
   "execution_count": null,
   "metadata": {
    "scrolled": false
   },
   "outputs": [],
   "source": [
    "train_clean.info()"
   ]
  },
  {
   "cell_type": "code",
   "execution_count": 3,
   "metadata": {},
   "outputs": [],
   "source": [
    "def feature_select(data):\n",
    "    null = []\n",
    "    for i in train.columns:\n",
    "        val = pd.value_counts(train[i].isna())\n",
    "        if val[0]/len(train) <= 0.6:\n",
    "            null.append(i)\n",
    "    data.drop(columns=null,inplace = True)\n",
    "    data.fillna(data.median(),inplace = True)\n",
    "    data.dropna(axis = 0,inplace = True)\n",
    "    return data"
   ]
  },
  {
   "cell_type": "code",
   "execution_count": 10,
   "metadata": {},
   "outputs": [],
   "source": [
    "object_col = train_clean.select_dtypes(include='object').columns"
   ]
  },
  {
   "cell_type": "code",
   "execution_count": 12,
   "metadata": {},
   "outputs": [
    {
     "data": {
      "text/plain": [
       "Index(['MSZoning', 'Street', 'LotShape', 'LandContour', 'Utilities',\n",
       "       'LotConfig', 'LandSlope', 'Neighborhood', 'Condition1', 'Condition2',\n",
       "       'BldgType', 'HouseStyle', 'RoofStyle', 'RoofMatl', 'Exterior1st',\n",
       "       'Exterior2nd', 'MasVnrType', 'ExterQual', 'ExterCond', 'Foundation',\n",
       "       'BsmtQual', 'BsmtCond', 'BsmtExposure', 'BsmtFinType1', 'BsmtFinType2',\n",
       "       'Heating', 'HeatingQC', 'CentralAir', 'Electrical', 'KitchenQual',\n",
       "       'Functional', 'GarageType', 'GarageFinish', 'GarageQual', 'GarageCond',\n",
       "       'PavedDrive', 'SaleType', 'SaleCondition'],\n",
       "      dtype='object')"
      ]
     },
     "execution_count": 12,
     "metadata": {},
     "output_type": "execute_result"
    }
   ],
   "source": [
    "object_col"
   ]
  },
  {
   "cell_type": "code",
   "execution_count": 8,
   "metadata": {},
   "outputs": [],
   "source": [
    "from sklearn.preprocessing import LabelEncoder\n",
    "def encoder(data):\n",
    "    encoder_data = []\n",
    "    le = LabelEncoder()\n",
    "    for i in data.columns:\n",
    "        encoder_data.append(le.fit_transform(data[i]))\n",
    "    return np.transpose(encoder_data)\n",
    "#     return pd.DataFrame(np.reshape(np.array(encoder_data),(row,columns)),columns=data_col,index=data_index) "
   ]
  },
  {
   "cell_type": "code",
   "execution_count": 13,
   "metadata": {
    "scrolled": true
   },
   "outputs": [
    {
     "data": {
      "text/plain": [
       "array([[3, 1, 3, ..., 2, 8, 4],\n",
       "       [3, 1, 3, ..., 2, 8, 4],\n",
       "       [3, 1, 0, ..., 2, 8, 4],\n",
       "       ...,\n",
       "       [3, 1, 3, ..., 2, 8, 4],\n",
       "       [3, 1, 3, ..., 2, 8, 4],\n",
       "       [3, 1, 3, ..., 2, 8, 4]])"
      ]
     },
     "execution_count": 13,
     "metadata": {},
     "output_type": "execute_result"
    }
   ],
   "source": [
    "# train_obj_encoder = encoder(train_clean[object_col])\n",
    "#test_obj_encoder = encoder(test_clean[object_col])\n",
    "encoder(train_clean[object_col])\n",
    "# le = LabelEncoder()\n",
    "# le.fit_transform(train_clean['Street'])"
   ]
  },
  {
   "cell_type": "code",
   "execution_count": null,
   "metadata": {},
   "outputs": [],
   "source": [
    "train_clean.info()"
   ]
  },
  {
   "cell_type": "code",
   "execution_count": null,
   "metadata": {},
   "outputs": [],
   "source": [
    "train_completely_clean = pd.merge(train_clean.drop(columns = object_col),train_obj_encoder,how='inner',on = 'Id')"
   ]
  },
  {
   "cell_type": "code",
   "execution_count": null,
   "metadata": {
    "scrolled": true
   },
   "outputs": [],
   "source": [
    "test_obj_encoder = encoder(test_clean[object_col])\n",
    "test_completely_clean = pd.merge(test_clean.drop(columns = object_col),test_obj_encoder,how='inner',on = 'Id')"
   ]
  },
  {
   "cell_type": "code",
   "execution_count": null,
   "metadata": {},
   "outputs": [],
   "source": [
    "data_corr = train_completely_clean.corr()\n",
    "key = data_corr['SalePrice'][data_corr.SalePrice>0.3].keys()"
   ]
  },
  {
   "cell_type": "code",
   "execution_count": null,
   "metadata": {},
   "outputs": [],
   "source": [
    "from sklearn.linear_model import LinearRegression\n",
    "from sklearn.tree import DecisionTreeRegressor\n",
    "from sklearn.model_selection import train_test_split\n",
    "X_train = train_completely_clean[['LotFrontage', 'LotArea', 'OverallQual', 'YearBuilt', 'YearRemodAdd',\n",
    "       'MasVnrArea', 'BsmtFinSF1', 'TotalBsmtSF', '1stFlrSF', '2ndFlrSF',\n",
    "       'GrLivArea', 'FullBath', 'TotRmsAbvGrd', 'Fireplaces', 'GarageYrBlt',\n",
    "       'GarageCars', 'GarageArea', 'WoodDeckSF', 'OpenPorchSF']]\n",
    "y_train = train_completely_clean['SalePrice']\n",
    "\n",
    "X_test = test_completely_clean[['LotFrontage', 'LotArea', 'OverallQual', 'YearBuilt', 'YearRemodAdd',\n",
    "       'MasVnrArea', 'BsmtFinSF1', 'TotalBsmtSF', '1stFlrSF', '2ndFlrSF',\n",
    "       'GrLivArea', 'FullBath', 'TotRmsAbvGrd', 'Fireplaces', 'GarageYrBlt',\n",
    "       'GarageCars', 'GarageArea', 'WoodDeckSF', 'OpenPorchSF']]\n",
    "y_test = test_completely_clean['SalePrice']"
   ]
  },
  {
   "cell_type": "code",
   "execution_count": null,
   "metadata": {},
   "outputs": [],
   "source": [
    "data_corr['SalePrice'][data_corr.SalePrice>0.3]"
   ]
  },
  {
   "cell_type": "code",
   "execution_count": null,
   "metadata": {},
   "outputs": [],
   "source": [
    "lm = LinearRegression()\n",
    "lm.fit(X_train,y_train)"
   ]
  },
  {
   "cell_type": "code",
   "execution_count": null,
   "metadata": {},
   "outputs": [],
   "source": [
    "y_pred = lm.predict(X_test)"
   ]
  },
  {
   "cell_type": "code",
   "execution_count": null,
   "metadata": {},
   "outputs": [],
   "source": [
    "from sklearn.metrics import mean_squared_error , mean_absolute_error ,r2_score\n",
    "case1_mse = mean_squared_error(y_test,y_pred)\n",
    "case1_mae = mean_absolute_error(y_test,y_pred)\n",
    "case1_r2  = r2_score(y_test,y_pred)\n",
    "print(case1_mse)\n",
    "print(case1_mae)\n",
    "print(case1_r2)"
   ]
  },
  {
   "cell_type": "markdown",
   "metadata": {},
   "source": [
    "# Linear regression with all variable"
   ]
  },
  {
   "cell_type": "code",
   "execution_count": null,
   "metadata": {},
   "outputs": [],
   "source": [
    "X_train_allvar = train_completely_clean.drop(columns='SalePrice')\n",
    "y_train_allvar = train_completely_clean['SalePrice']\n",
    "\n",
    "X_test_allvar = test_completely_clean.drop(columns='SalePrice')\n",
    "y_test_allvar = test_completely_clean['SalePrice']"
   ]
  },
  {
   "cell_type": "code",
   "execution_count": null,
   "metadata": {},
   "outputs": [],
   "source": [
    "from sklearn.preprocessing import StandardScaler,Normalizer\n",
    "scale = StandardScaler()\n",
    "X_train_allvar = scale.fit_transform(X_train_allvar)\n",
    "X_test_allvar  = scale.fit_transform(X_test_allvar)"
   ]
  },
  {
   "cell_type": "code",
   "execution_count": null,
   "metadata": {},
   "outputs": [],
   "source": [
    "lm_allvar = LinearRegression()\n",
    "lm_allvar.fit(X_train_allvar,y_train_allvar)"
   ]
  },
  {
   "cell_type": "code",
   "execution_count": null,
   "metadata": {},
   "outputs": [],
   "source": [
    "y_pred_allvar = lm_allvar.predict(X_test_allvar)"
   ]
  },
  {
   "cell_type": "code",
   "execution_count": null,
   "metadata": {
    "scrolled": true
   },
   "outputs": [],
   "source": [
    "case2_mse = mean_squared_error(y_test_allvar,y_pred_allvar)\n",
    "case2_mae = mean_absolute_error(y_test_allvar,y_pred_allvar)\n",
    "case2_r2 = r2_score(y_pred_allvar,y_test_allvar)\n",
    "print(case2_mse)\n",
    "print(case2_mae)\n",
    "print(case2_r2)"
   ]
  },
  {
   "cell_type": "markdown",
   "metadata": {},
   "source": [
    "### Decision Tree Regressor"
   ]
  },
  {
   "cell_type": "code",
   "execution_count": null,
   "metadata": {},
   "outputs": [],
   "source": [
    "from sklearn.tree import DecisionTreeRegressor\n",
    "tree = DecisionTreeRegressor()\n",
    "tree.fit(X_train_allvar,y_train_allvar)\n",
    "ytree_pred = tree.predict(X_test_allvar)\n",
    "tree_mse = mean_squared_error(ytree_pred,y_test_allvar)\n",
    "tree_mae = mean_absolute_error(ytree_pred,y_test_allvar)\n",
    "tree_r2 = r2_score(ytree_pred,y_test_allvar)\n",
    "print(tree_mse)\n",
    "print(tree_mae)\n",
    "print(tree_r2)"
   ]
  },
  {
   "cell_type": "code",
   "execution_count": null,
   "metadata": {},
   "outputs": [],
   "source": []
  }
 ],
 "metadata": {
  "kernelspec": {
   "display_name": "Python 3",
   "language": "python",
   "name": "python3"
  },
  "language_info": {
   "codemirror_mode": {
    "name": "ipython",
    "version": 3
   },
   "file_extension": ".py",
   "mimetype": "text/x-python",
   "name": "python",
   "nbconvert_exporter": "python",
   "pygments_lexer": "ipython3",
   "version": "3.7.3"
  }
 },
 "nbformat": 4,
 "nbformat_minor": 2
}
