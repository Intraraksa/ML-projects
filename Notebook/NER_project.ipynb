{
 "cells": [
  {
   "cell_type": "code",
   "execution_count": 1,
   "metadata": {},
   "outputs": [],
   "source": [
    "import spacy"
   ]
  },
  {
   "cell_type": "code",
   "execution_count": 2,
   "metadata": {},
   "outputs": [],
   "source": [
    "nlp = spacy.load(\"en_core_web_sm\")"
   ]
  },
  {
   "cell_type": "code",
   "execution_count": 3,
   "metadata": {},
   "outputs": [],
   "source": [
    "doc1 = nlp('Japan faces a unique challenge as its economy has been stagnant for decades, compared to the more buoyant economies of rivals the US and China')\n",
    "doc2 = nlp('Japan also relies heavily on exporting its goods and has little control over consumer demand in other countries, which has been severely impacted by coronavirus lockdowns. Many of its biggest brands, such as car firms Toyota and Honda, have seen sales slump across the world.')"
   ]
  },
  {
   "cell_type": "code",
   "execution_count": 4,
   "metadata": {},
   "outputs": [
    {
     "name": "stdout",
     "output_type": "stream",
     "text": [
      "Japan PROPN NNP noun, proper singular\n",
      "faces VERB VBZ verb, 3rd person singular present\n",
      "a DET DT determiner\n",
      "unique ADJ JJ adjective\n",
      "challenge NOUN NN noun, singular or mass\n",
      "as SCONJ IN conjunction, subordinating or preposition\n",
      "its PRON PRP$ pronoun, possessive\n",
      "economy NOUN NN noun, singular or mass\n",
      "has AUX VBZ verb, 3rd person singular present\n",
      "been AUX VBN verb, past participle\n",
      "stagnant ADJ JJ adjective\n",
      "for ADP IN conjunction, subordinating or preposition\n",
      "decades NOUN NNS noun, plural\n",
      ", PUNCT , punctuation mark, comma\n",
      "compared VERB VBN verb, past participle\n",
      "to ADP IN conjunction, subordinating or preposition\n",
      "the DET DT determiner\n",
      "more ADV RBR adverb, comparative\n",
      "buoyant ADJ JJ adjective\n",
      "economies NOUN NNS noun, plural\n",
      "of ADP IN conjunction, subordinating or preposition\n",
      "rivals NOUN NNS noun, plural\n",
      "the DET DT determiner\n",
      "US PROPN NNP noun, proper singular\n",
      "and CCONJ CC conjunction, coordinating\n",
      "China PROPN NNP noun, proper singular\n"
     ]
    }
   ],
   "source": [
    "for i in doc1:\n",
    "    print(i , i.pos_ , i.tag_ , spacy.explain(i.tag_))"
   ]
  },
  {
   "cell_type": "code",
   "execution_count": 5,
   "metadata": {},
   "outputs": [
    {
     "name": "stdout",
     "output_type": "stream",
     "text": [
      " PROPN : 3\n",
      " VERB : 2\n",
      " DET : 3\n",
      " ADJ : 3\n",
      " NOUN : 5\n",
      " SCONJ : 1\n",
      " PRON : 1\n",
      " AUX : 2\n",
      " ADP : 3\n",
      " PUNCT : 1\n",
      " ADV : 1\n",
      " CCONJ : 1\n"
     ]
    }
   ],
   "source": [
    "pos_count = doc1.count_by(spacy.attrs.POS)\n",
    "for k,v in pos_count.items():\n",
    "    print(f' {doc1.vocab[k].text} : {v}')"
   ]
  },
  {
   "cell_type": "code",
   "execution_count": 6,
   "metadata": {},
   "outputs": [],
   "source": [
    "def ner(text):\n",
    "    if text.ents:\n",
    "        for ent in text.ents:\n",
    "            print(ent.text+ ' - '+ent.label_)\n",
    "    else:\n",
    "        print(\"No matter entities\")"
   ]
  },
  {
   "cell_type": "code",
   "execution_count": 7,
   "metadata": {},
   "outputs": [
    {
     "name": "stdout",
     "output_type": "stream",
     "text": [
      "Japan - GPE\n",
      "Toyota - ORG\n",
      "Honda - ORG\n"
     ]
    }
   ],
   "source": [
    "ner(doc2)"
   ]
  },
  {
   "cell_type": "code",
   "execution_count": 8,
   "metadata": {},
   "outputs": [],
   "source": [
    "from spacy.matcher import PhraseMatcher\n",
    "matcher = PhraseMatcher(nlp.vocab)"
   ]
  },
  {
   "cell_type": "code",
   "execution_count": 9,
   "metadata": {},
   "outputs": [],
   "source": [
    "phare_lists = ['covid-19','covid19','Covid19','Covid-19','coronavirus','Coronavirus']\n",
    "pattern = [nlp(virus) for virus in phare_lists]"
   ]
  },
  {
   "cell_type": "code",
   "execution_count": 10,
   "metadata": {},
   "outputs": [],
   "source": [
    "matcher.add(\"Virus\",None,*pattern)"
   ]
  },
  {
   "cell_type": "code",
   "execution_count": 11,
   "metadata": {},
   "outputs": [],
   "source": [
    "match = matcher(doc2)"
   ]
  },
  {
   "cell_type": "code",
   "execution_count": 12,
   "metadata": {},
   "outputs": [],
   "source": [
    "from spacy.tokens import Span"
   ]
  },
  {
   "cell_type": "code",
   "execution_count": 13,
   "metadata": {},
   "outputs": [],
   "source": [
    "for match_id,start,end in match:\n",
    "    span = [Span(doc2,start,end,label = doc2.vocab.strings[u'virus'])]"
   ]
  },
  {
   "cell_type": "code",
   "execution_count": 14,
   "metadata": {},
   "outputs": [],
   "source": [
    "doc2.ents = list(doc2.ents) + span"
   ]
  },
  {
   "cell_type": "code",
   "execution_count": 15,
   "metadata": {},
   "outputs": [
    {
     "name": "stdout",
     "output_type": "stream",
     "text": [
      "Japan - GPE\n",
      "coronavirus - virus\n",
      "Toyota - ORG\n",
      "Honda - ORG\n"
     ]
    }
   ],
   "source": [
    "ner(doc2)"
   ]
  },
  {
   "cell_type": "code",
   "execution_count": 16,
   "metadata": {},
   "outputs": [
    {
     "data": {
      "text/plain": [
       "[Japan, coronavirus, Toyota, Honda]"
      ]
     },
     "execution_count": 16,
     "metadata": {},
     "output_type": "execute_result"
    }
   ],
   "source": [
    "list(doc2.ents)"
   ]
  },
  {
   "cell_type": "code",
   "execution_count": 17,
   "metadata": {},
   "outputs": [
    {
     "data": {
      "text/plain": [
       "[coronavirus]"
      ]
     },
     "execution_count": 17,
     "metadata": {},
     "output_type": "execute_result"
    }
   ],
   "source": [
    "span"
   ]
  },
  {
   "cell_type": "code",
   "execution_count": null,
   "metadata": {},
   "outputs": [],
   "source": []
  }
 ],
 "metadata": {
  "kernelspec": {
   "display_name": "Python 3",
   "language": "python",
   "name": "python3"
  },
  "language_info": {
   "codemirror_mode": {
    "name": "ipython",
    "version": 3
   },
   "file_extension": ".py",
   "mimetype": "text/x-python",
   "name": "python",
   "nbconvert_exporter": "python",
   "pygments_lexer": "ipython3",
   "version": "3.7.3"
  }
 },
 "nbformat": 4,
 "nbformat_minor": 2
}
